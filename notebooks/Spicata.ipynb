{
 "cells": [
  {
   "cell_type": "code",
   "execution_count": 1,
   "id": "8724a6d7",
   "metadata": {},
   "outputs": [],
   "source": [
    "import pandas as pd\n",
    "import numpy as np\n",
    "import matplotlib.pyplot as plt\n",
    "import seaborn as sns\n",
    "from scipy import stats\n",
    "import statsmodels.api as sm\n",
    "import random\n",
    "\n",
    "%matplotlib inline "
   ]
  },
  {
   "cell_type": "code",
   "execution_count": 2,
   "id": "b4b5bce0",
   "metadata": {},
   "outputs": [
    {
     "data": {
      "text/html": [
       "<div>\n",
       "<style scoped>\n",
       "    .dataframe tbody tr th:only-of-type {\n",
       "        vertical-align: middle;\n",
       "    }\n",
       "\n",
       "    .dataframe tbody tr th {\n",
       "        vertical-align: top;\n",
       "    }\n",
       "\n",
       "    .dataframe thead th {\n",
       "        text-align: right;\n",
       "    }\n",
       "</style>\n",
       "<table border=\"1\" class=\"dataframe\">\n",
       "  <thead>\n",
       "    <tr style=\"text-align: right;\">\n",
       "      <th></th>\n",
       "      <th>id</th>\n",
       "      <th>observed_on_string</th>\n",
       "      <th>observed_on</th>\n",
       "      <th>time_observed_at</th>\n",
       "      <th>time_zone</th>\n",
       "      <th>user_id</th>\n",
       "      <th>user_login</th>\n",
       "      <th>user_name</th>\n",
       "      <th>created_at</th>\n",
       "      <th>updated_at</th>\n",
       "      <th>...</th>\n",
       "      <th>taxon_supertribe_name</th>\n",
       "      <th>taxon_tribe_name</th>\n",
       "      <th>taxon_subtribe_name</th>\n",
       "      <th>taxon_genus_name</th>\n",
       "      <th>taxon_genushybrid_name</th>\n",
       "      <th>taxon_species_name</th>\n",
       "      <th>taxon_hybrid_name</th>\n",
       "      <th>taxon_subspecies_name</th>\n",
       "      <th>taxon_variety_name</th>\n",
       "      <th>taxon_form_name</th>\n",
       "    </tr>\n",
       "  </thead>\n",
       "  <tbody>\n",
       "    <tr>\n",
       "      <th>0</th>\n",
       "      <td>82406</td>\n",
       "      <td>May 20, 2012 16:44</td>\n",
       "      <td>2012-05-20</td>\n",
       "      <td>2012-05-20 21:44:00 UTC</td>\n",
       "      <td>Central Time (US &amp; Canada)</td>\n",
       "      <td>604</td>\n",
       "      <td>eric_hunt</td>\n",
       "      <td>Eric Hunt</td>\n",
       "      <td>2012-05-23 22:43:55 UTC</td>\n",
       "      <td>2020-12-09 10:50:50 UTC</td>\n",
       "      <td>...</td>\n",
       "      <td>NaN</td>\n",
       "      <td>NaN</td>\n",
       "      <td>NaN</td>\n",
       "      <td>Lobelia</td>\n",
       "      <td>NaN</td>\n",
       "      <td>Lobelia spicata</td>\n",
       "      <td>NaN</td>\n",
       "      <td>NaN</td>\n",
       "      <td>NaN</td>\n",
       "      <td>NaN</td>\n",
       "    </tr>\n",
       "    <tr>\n",
       "      <th>1</th>\n",
       "      <td>82408</td>\n",
       "      <td>May 20, 2012 16:19</td>\n",
       "      <td>2012-05-20</td>\n",
       "      <td>2012-05-20 21:19:00 UTC</td>\n",
       "      <td>Central Time (US &amp; Canada)</td>\n",
       "      <td>604</td>\n",
       "      <td>eric_hunt</td>\n",
       "      <td>Eric Hunt</td>\n",
       "      <td>2012-05-23 22:46:36 UTC</td>\n",
       "      <td>2020-12-09 10:50:51 UTC</td>\n",
       "      <td>...</td>\n",
       "      <td>NaN</td>\n",
       "      <td>NaN</td>\n",
       "      <td>NaN</td>\n",
       "      <td>Lobelia</td>\n",
       "      <td>NaN</td>\n",
       "      <td>Lobelia spicata</td>\n",
       "      <td>NaN</td>\n",
       "      <td>NaN</td>\n",
       "      <td>NaN</td>\n",
       "      <td>NaN</td>\n",
       "    </tr>\n",
       "    <tr>\n",
       "      <th>2</th>\n",
       "      <td>87039</td>\n",
       "      <td>Sun Jun 03 2012 09:52:31 GMT-0400 (EDT)</td>\n",
       "      <td>2012-06-03</td>\n",
       "      <td>2012-06-03 13:52:31 UTC</td>\n",
       "      <td>Eastern Time (US &amp; Canada)</td>\n",
       "      <td>477</td>\n",
       "      <td>loarie</td>\n",
       "      <td>Scott Loarie</td>\n",
       "      <td>2012-06-04 05:25:45 UTC</td>\n",
       "      <td>2019-07-02 19:37:38 UTC</td>\n",
       "      <td>...</td>\n",
       "      <td>NaN</td>\n",
       "      <td>NaN</td>\n",
       "      <td>NaN</td>\n",
       "      <td>Lobelia</td>\n",
       "      <td>NaN</td>\n",
       "      <td>Lobelia spicata</td>\n",
       "      <td>NaN</td>\n",
       "      <td>NaN</td>\n",
       "      <td>NaN</td>\n",
       "      <td>NaN</td>\n",
       "    </tr>\n",
       "    <tr>\n",
       "      <th>3</th>\n",
       "      <td>92772</td>\n",
       "      <td>June 16, 2012 05:40</td>\n",
       "      <td>2012-06-16</td>\n",
       "      <td>2012-06-16 12:40:00 UTC</td>\n",
       "      <td>Pacific Time (US &amp; Canada)</td>\n",
       "      <td>477</td>\n",
       "      <td>loarie</td>\n",
       "      <td>Scott Loarie</td>\n",
       "      <td>2012-06-18 18:04:31 UTC</td>\n",
       "      <td>2015-10-08 14:36:10 UTC</td>\n",
       "      <td>...</td>\n",
       "      <td>NaN</td>\n",
       "      <td>NaN</td>\n",
       "      <td>NaN</td>\n",
       "      <td>Lobelia</td>\n",
       "      <td>NaN</td>\n",
       "      <td>Lobelia spicata</td>\n",
       "      <td>NaN</td>\n",
       "      <td>NaN</td>\n",
       "      <td>NaN</td>\n",
       "      <td>NaN</td>\n",
       "    </tr>\n",
       "    <tr>\n",
       "      <th>4</th>\n",
       "      <td>195645</td>\n",
       "      <td>2008-07-06</td>\n",
       "      <td>2008-07-06</td>\n",
       "      <td>NaN</td>\n",
       "      <td>Eastern Time (US &amp; Canada)</td>\n",
       "      <td>12610</td>\n",
       "      <td>susanelliott</td>\n",
       "      <td>Susan Elliott</td>\n",
       "      <td>2013-02-10 18:04:29 UTC</td>\n",
       "      <td>2020-02-19 21:15:23 UTC</td>\n",
       "      <td>...</td>\n",
       "      <td>NaN</td>\n",
       "      <td>NaN</td>\n",
       "      <td>NaN</td>\n",
       "      <td>Lobelia</td>\n",
       "      <td>NaN</td>\n",
       "      <td>Lobelia spicata</td>\n",
       "      <td>NaN</td>\n",
       "      <td>NaN</td>\n",
       "      <td>NaN</td>\n",
       "      <td>NaN</td>\n",
       "    </tr>\n",
       "  </tbody>\n",
       "</table>\n",
       "<p>5 rows × 67 columns</p>\n",
       "</div>"
      ],
      "text/plain": [
       "       id                       observed_on_string observed_on  \\\n",
       "0   82406                       May 20, 2012 16:44  2012-05-20   \n",
       "1   82408                       May 20, 2012 16:19  2012-05-20   \n",
       "2   87039  Sun Jun 03 2012 09:52:31 GMT-0400 (EDT)  2012-06-03   \n",
       "3   92772                      June 16, 2012 05:40  2012-06-16   \n",
       "4  195645                               2008-07-06  2008-07-06   \n",
       "\n",
       "          time_observed_at                   time_zone  user_id    user_login  \\\n",
       "0  2012-05-20 21:44:00 UTC  Central Time (US & Canada)      604     eric_hunt   \n",
       "1  2012-05-20 21:19:00 UTC  Central Time (US & Canada)      604     eric_hunt   \n",
       "2  2012-06-03 13:52:31 UTC  Eastern Time (US & Canada)      477        loarie   \n",
       "3  2012-06-16 12:40:00 UTC  Pacific Time (US & Canada)      477        loarie   \n",
       "4                      NaN  Eastern Time (US & Canada)    12610  susanelliott   \n",
       "\n",
       "       user_name               created_at               updated_at  ...  \\\n",
       "0      Eric Hunt  2012-05-23 22:43:55 UTC  2020-12-09 10:50:50 UTC  ...   \n",
       "1      Eric Hunt  2012-05-23 22:46:36 UTC  2020-12-09 10:50:51 UTC  ...   \n",
       "2   Scott Loarie  2012-06-04 05:25:45 UTC  2019-07-02 19:37:38 UTC  ...   \n",
       "3   Scott Loarie  2012-06-18 18:04:31 UTC  2015-10-08 14:36:10 UTC  ...   \n",
       "4  Susan Elliott  2013-02-10 18:04:29 UTC  2020-02-19 21:15:23 UTC  ...   \n",
       "\n",
       "  taxon_supertribe_name taxon_tribe_name taxon_subtribe_name taxon_genus_name  \\\n",
       "0                   NaN              NaN                 NaN          Lobelia   \n",
       "1                   NaN              NaN                 NaN          Lobelia   \n",
       "2                   NaN              NaN                 NaN          Lobelia   \n",
       "3                   NaN              NaN                 NaN          Lobelia   \n",
       "4                   NaN              NaN                 NaN          Lobelia   \n",
       "\n",
       "   taxon_genushybrid_name taxon_species_name taxon_hybrid_name  \\\n",
       "0                     NaN    Lobelia spicata               NaN   \n",
       "1                     NaN    Lobelia spicata               NaN   \n",
       "2                     NaN    Lobelia spicata               NaN   \n",
       "3                     NaN    Lobelia spicata               NaN   \n",
       "4                     NaN    Lobelia spicata               NaN   \n",
       "\n",
       "   taxon_subspecies_name  taxon_variety_name  taxon_form_name  \n",
       "0                    NaN                 NaN              NaN  \n",
       "1                    NaN                 NaN              NaN  \n",
       "2                    NaN                 NaN              NaN  \n",
       "3                    NaN                 NaN              NaN  \n",
       "4                    NaN                 NaN              NaN  \n",
       "\n",
       "[5 rows x 67 columns]"
      ]
     },
     "execution_count": 2,
     "metadata": {},
     "output_type": "execute_result"
    }
   ],
   "source": [
    "df_spicata = pd.read_csv(\"../data/observations_spicata.csv\")\n",
    "df_spicata.head()"
   ]
  },
  {
   "cell_type": "code",
   "execution_count": 3,
   "id": "54720943",
   "metadata": {
    "scrolled": true
   },
   "outputs": [
    {
     "name": "stdout",
     "output_type": "stream",
     "text": [
      "<class 'pandas.core.frame.DataFrame'>\n",
      "RangeIndex: 4547 entries, 0 to 4546\n",
      "Data columns (total 67 columns):\n",
      " #   Column                            Non-Null Count  Dtype  \n",
      "---  ------                            --------------  -----  \n",
      " 0   id                                4547 non-null   int64  \n",
      " 1   observed_on_string                4538 non-null   object \n",
      " 2   observed_on                       4538 non-null   object \n",
      " 3   time_observed_at                  4437 non-null   object \n",
      " 4   time_zone                         4547 non-null   object \n",
      " 5   user_id                           4547 non-null   int64  \n",
      " 6   user_login                        4547 non-null   object \n",
      " 7   user_name                         3079 non-null   object \n",
      " 8   created_at                        4547 non-null   object \n",
      " 9   updated_at                        4547 non-null   object \n",
      " 10  quality_grade                     4547 non-null   object \n",
      " 11  license                           3489 non-null   object \n",
      " 12  url                               4547 non-null   object \n",
      " 13  image_url                         4532 non-null   object \n",
      " 14  sound_url                         0 non-null      float64\n",
      " 15  tag_list                          83 non-null     object \n",
      " 16  description                       319 non-null    object \n",
      " 17  num_identification_agreements     4547 non-null   int64  \n",
      " 18  num_identification_disagreements  4547 non-null   int64  \n",
      " 19  captive_cultivated                4547 non-null   bool   \n",
      " 20  oauth_application_id              3228 non-null   float64\n",
      " 21  place_guess                       4541 non-null   object \n",
      " 22  latitude                          4547 non-null   float64\n",
      " 23  longitude                         4547 non-null   float64\n",
      " 24  positional_accuracy               3619 non-null   float64\n",
      " 25  private_place_guess               0 non-null      float64\n",
      " 26  private_latitude                  0 non-null      float64\n",
      " 27  private_longitude                 0 non-null      float64\n",
      " 28  public_positional_accuracy        3714 non-null   float64\n",
      " 29  geoprivacy                        454 non-null    object \n",
      " 30  taxon_geoprivacy                  2702 non-null   object \n",
      " 31  coordinates_obscured              4547 non-null   bool   \n",
      " 32  positioning_method                771 non-null    object \n",
      " 33  positioning_device                779 non-null    object \n",
      " 34  place_town_name                   200 non-null    object \n",
      " 35  place_county_name                 4547 non-null   object \n",
      " 36  place_state_name                  4547 non-null   object \n",
      " 37  place_country_name                4547 non-null   object \n",
      " 38  place_admin1_name                 4547 non-null   object \n",
      " 39  place_admin2_name                 4547 non-null   object \n",
      " 40  species_guess                     4135 non-null   object \n",
      " 41  scientific_name                   4547 non-null   object \n",
      " 42  common_name                       4540 non-null   object \n",
      " 43  iconic_taxon_name                 4547 non-null   object \n",
      " 44  taxon_id                          4547 non-null   int64  \n",
      " 45  taxon_kingdom_name                4547 non-null   object \n",
      " 46  taxon_phylum_name                 4547 non-null   object \n",
      " 47  taxon_subphylum_name              4547 non-null   object \n",
      " 48  taxon_superclass_name             0 non-null      float64\n",
      " 49  taxon_class_name                  4547 non-null   object \n",
      " 50  taxon_subclass_name               0 non-null      float64\n",
      " 51  taxon_superorder_name             0 non-null      float64\n",
      " 52  taxon_order_name                  4547 non-null   object \n",
      " 53  taxon_suborder_name               0 non-null      float64\n",
      " 54  taxon_superfamily_name            0 non-null      float64\n",
      " 55  taxon_family_name                 4547 non-null   object \n",
      " 56  taxon_subfamily_name              4547 non-null   object \n",
      " 57  taxon_supertribe_name             0 non-null      float64\n",
      " 58  taxon_tribe_name                  0 non-null      float64\n",
      " 59  taxon_subtribe_name               0 non-null      float64\n",
      " 60  taxon_genus_name                  4547 non-null   object \n",
      " 61  taxon_genushybrid_name            0 non-null      float64\n",
      " 62  taxon_species_name                4547 non-null   object \n",
      " 63  taxon_hybrid_name                 0 non-null      float64\n",
      " 64  taxon_subspecies_name             0 non-null      float64\n",
      " 65  taxon_variety_name                30 non-null     object \n",
      " 66  taxon_form_name                   0 non-null      float64\n",
      "dtypes: bool(2), float64(21), int64(5), object(39)\n",
      "memory usage: 2.3+ MB\n"
     ]
    }
   ],
   "source": [
    "df_spicata.info()"
   ]
  },
  {
   "cell_type": "code",
   "execution_count": 4,
   "id": "f60b1967",
   "metadata": {},
   "outputs": [
    {
     "data": {
      "text/plain": [
       "2304"
      ]
     },
     "execution_count": 4,
     "metadata": {},
     "output_type": "execute_result"
    }
   ],
   "source": [
    "# number of inflata observations with pos acc of 30 m or less\n",
    "(df_spicata[\"positional_accuracy\"] <= 30).sum()"
   ]
  },
  {
   "cell_type": "code",
   "execution_count": 5,
   "id": "b919c13c",
   "metadata": {},
   "outputs": [
    {
     "data": {
      "text/plain": [
       "1317"
      ]
     },
     "execution_count": 5,
     "metadata": {},
     "output_type": "execute_result"
    }
   ],
   "source": [
    "# list of all users in US who posted inflata with positional accuracy <= 30\n",
    "spicata_users = df_spicata[df_spicata[\"positional_accuracy\"] <= 30][\"user_id\"].unique().tolist()\n",
    "len(spicata_users)"
   ]
  },
  {
   "cell_type": "code",
   "execution_count": 6,
   "id": "1e6f445a",
   "metadata": {},
   "outputs": [],
   "source": [
    "# 10 users chosen at random using random.shuffle ALL HAVE BEEN INCLUDED\n",
    "randomized_users10 = [ 635041, 2588524,  923056,   18434,  318468, 1549697, 3583533,\n",
    "       1679129, 2047965, 2570804]"
   ]
  },
  {
   "cell_type": "code",
   "execution_count": 7,
   "id": "f0b08d1a",
   "metadata": {},
   "outputs": [
    {
     "data": {
      "text/plain": [
       "1307"
      ]
     },
     "execution_count": 7,
     "metadata": {},
     "output_type": "execute_result"
    }
   ],
   "source": [
    "for id in randomized_users10:\n",
    "    spicata_users.remove(id)\n",
    "len(spicata_users)"
   ]
  },
  {
   "cell_type": "code",
   "execution_count": 8,
   "id": "256773d9",
   "metadata": {},
   "outputs": [],
   "source": [
    "# next 10 random users: HAS BEEN INCLUDED\n",
    "next10 = [787855, 1892152, 542981, 656158, 2248142, 780600, 4659453, 2336149, 3512034, 1773265]"
   ]
  },
  {
   "cell_type": "code",
   "execution_count": 10,
   "id": "95e95a83",
   "metadata": {},
   "outputs": [
    {
     "name": "stderr",
     "output_type": "stream",
     "text": [
      "C:\\Users\\lisa_\\AppData\\Local\\Temp\\ipykernel_38764\\346581279.py:8: DtypeWarning: Columns (15,63) have mixed types. Specify dtype option on import or set low_memory=False.\n",
      "  data_sp = pd.concat([data_sp, pd.read_csv(file)])\n"
     ]
    }
   ],
   "source": [
    "#reads in the csv files from separate users and puts them together in one data frame\n",
    "data_sp = pd.read_csv(\"../data/spicata_0001.csv\")\n",
    "for i in range(2,21):\n",
    "    if i < 10:\n",
    "        file = \"../data/spicata_000\" + str(i) +\".csv\"\n",
    "    elif i < 100:\n",
    "        file = \"../data/spicata_00\" + str(i) +\".csv\"\n",
    "    data_sp = pd.concat([data_sp, pd.read_csv(file)])\n",
    "\n",
    "data_sp = data_sp.reset_index(drop = True)"
   ]
  },
  {
   "cell_type": "code",
   "execution_count": 11,
   "id": "9dd344a8",
   "metadata": {},
   "outputs": [
    {
     "data": {
      "text/plain": [
       "20"
      ]
     },
     "execution_count": 11,
     "metadata": {},
     "output_type": "execute_result"
    }
   ],
   "source": [
    "# double-checking that the set has the expects number of users\n",
    "data_sp[\"user_id\"].nunique()"
   ]
  },
  {
   "cell_type": "code",
   "execution_count": 12,
   "id": "b18ac1d5",
   "metadata": {},
   "outputs": [
    {
     "name": "stdout",
     "output_type": "stream",
     "text": [
      "<class 'pandas.core.frame.DataFrame'>\n",
      "RangeIndex: 24056 entries, 0 to 24055\n",
      "Data columns (total 67 columns):\n",
      " #   Column                            Non-Null Count  Dtype  \n",
      "---  ------                            --------------  -----  \n",
      " 0   id                                24056 non-null  int64  \n",
      " 1   observed_on_string                23892 non-null  object \n",
      " 2   observed_on                       23892 non-null  object \n",
      " 3   time_observed_at                  23335 non-null  object \n",
      " 4   time_zone                         24056 non-null  object \n",
      " 5   user_id                           24056 non-null  int64  \n",
      " 6   user_login                        24056 non-null  object \n",
      " 7   user_name                         19869 non-null  object \n",
      " 8   created_at                        24056 non-null  object \n",
      " 9   updated_at                        24056 non-null  object \n",
      " 10  quality_grade                     24056 non-null  object \n",
      " 11  license                           22470 non-null  object \n",
      " 12  url                               24056 non-null  object \n",
      " 13  image_url                         23945 non-null  object \n",
      " 14  sound_url                         60 non-null     object \n",
      " 15  tag_list                          357 non-null    object \n",
      " 16  description                       2856 non-null   object \n",
      " 17  num_identification_agreements     24056 non-null  int64  \n",
      " 18  num_identification_disagreements  24056 non-null  int64  \n",
      " 19  captive_cultivated                24056 non-null  bool   \n",
      " 20  oauth_application_id              21644 non-null  float64\n",
      " 21  place_guess                       23790 non-null  object \n",
      " 22  latitude                          23794 non-null  float64\n",
      " 23  longitude                         23793 non-null  float64\n",
      " 24  positional_accuracy               19577 non-null  float64\n",
      " 25  private_place_guess               0 non-null      float64\n",
      " 26  private_latitude                  0 non-null      float64\n",
      " 27  private_longitude                 0 non-null      float64\n",
      " 28  public_positional_accuracy        20195 non-null  float64\n",
      " 29  geoprivacy                        1280 non-null   object \n",
      " 30  taxon_geoprivacy                  3090 non-null   object \n",
      " 31  coordinates_obscured              24056 non-null  bool   \n",
      " 32  positioning_method                4350 non-null   object \n",
      " 33  positioning_device                4350 non-null   object \n",
      " 34  place_town_name                   1026 non-null   object \n",
      " 35  place_county_name                 23780 non-null  object \n",
      " 36  place_state_name                  23793 non-null  object \n",
      " 37  place_country_name                23793 non-null  object \n",
      " 38  place_admin1_name                 23793 non-null  object \n",
      " 39  place_admin2_name                 23773 non-null  object \n",
      " 40  species_guess                     19288 non-null  object \n",
      " 41  scientific_name                   23884 non-null  object \n",
      " 42  common_name                       20856 non-null  object \n",
      " 43  iconic_taxon_name                 23860 non-null  object \n",
      " 44  taxon_id                          23884 non-null  float64\n",
      " 45  taxon_kingdom_name                23865 non-null  object \n",
      " 46  taxon_phylum_name                 23697 non-null  object \n",
      " 47  taxon_subphylum_name              22933 non-null  object \n",
      " 48  taxon_superclass_name             48 non-null     object \n",
      " 49  taxon_class_name                  23535 non-null  object \n",
      " 50  taxon_subclass_name               11557 non-null  object \n",
      " 51  taxon_superorder_name             374 non-null    object \n",
      " 52  taxon_order_name                  23265 non-null  object \n",
      " 53  taxon_suborder_name               5825 non-null   object \n",
      " 54  taxon_superfamily_name            10187 non-null  object \n",
      " 55  taxon_family_name                 22822 non-null  object \n",
      " 56  taxon_subfamily_name              16712 non-null  object \n",
      " 57  taxon_supertribe_name             303 non-null    object \n",
      " 58  taxon_tribe_name                  13704 non-null  object \n",
      " 59  taxon_subtribe_name               4883 non-null   object \n",
      " 60  taxon_genus_name                  21513 non-null  object \n",
      " 61  taxon_genushybrid_name            0 non-null      float64\n",
      " 62  taxon_species_name                17684 non-null  object \n",
      " 63  taxon_hybrid_name                 5 non-null      object \n",
      " 64  taxon_subspecies_name             111 non-null    object \n",
      " 65  taxon_variety_name                26 non-null     object \n",
      " 66  taxon_form_name                   2 non-null      object \n",
      "dtypes: bool(2), float64(10), int64(4), object(51)\n",
      "memory usage: 12.0+ MB\n"
     ]
    }
   ],
   "source": [
    "data_sp.info()"
   ]
  },
  {
   "cell_type": "markdown",
   "id": "92a56d81",
   "metadata": {},
   "source": [
    "### Dropping Columns and Rows"
   ]
  },
  {
   "cell_type": "code",
   "execution_count": 13,
   "id": "47cfb83b",
   "metadata": {},
   "outputs": [],
   "source": [
    "#columns of interest\n",
    "to_keep = ['id', 'time_observed_at','user_id', 'created_at',\n",
    "       'quality_grade', 'num_identification_agreements',\n",
    "       'num_identification_disagreements', 'captive_cultivated',\n",
    "       'latitude', 'longitude',\n",
    "       'positional_accuracy', 'public_positional_accuracy', 'geoprivacy',\n",
    "       'taxon_geoprivacy', 'coordinates_obscured', 'species_guess', 'scientific_name', 'common_name',\n",
    "       'taxon_kingdom_name','taxon_genus_name',\n",
    "      'taxon_species_name']\n",
    "data_sp = data_sp[to_keep]"
   ]
  },
  {
   "cell_type": "code",
   "execution_count": 14,
   "id": "3a23160b",
   "metadata": {},
   "outputs": [
    {
     "name": "stdout",
     "output_type": "stream",
     "text": [
      "Number of null time_observed_at entries = 0\n"
     ]
    }
   ],
   "source": [
    "# dropping missing observed time rows and confirming\n",
    "data_sp.dropna(subset=['time_observed_at'], inplace=True)\n",
    "print(f'Number of null time_observed_at entries = {data_sp[data_sp[\"time_observed_at\"].isnull()].shape[0]}')"
   ]
  },
  {
   "cell_type": "code",
   "execution_count": 15,
   "id": "2c9e6365",
   "metadata": {},
   "outputs": [
    {
     "name": "stdout",
     "output_type": "stream",
     "text": [
      "Number of null time_observed_at entries = 0\n"
     ]
    }
   ],
   "source": [
    "# dropping missing latitude rows and confirming\n",
    "data_sp.dropna(subset=['latitude'], inplace=True)\n",
    "print(f'Number of null time_observed_at entries = {data_sp[data_sp[\"latitude\"].isnull()].shape[0]}')"
   ]
  },
  {
   "cell_type": "markdown",
   "id": "31908363",
   "metadata": {},
   "source": [
    "### Dummy and Boolean"
   ]
  },
  {
   "cell_type": "code",
   "execution_count": 16,
   "id": "f1843cc5",
   "metadata": {},
   "outputs": [
    {
     "data": {
      "text/plain": [
       "obscured    1163\n",
       "Name: geoprivacy, dtype: int64"
      ]
     },
     "execution_count": 16,
     "metadata": {},
     "output_type": "execute_result"
    }
   ],
   "source": [
    "data_sp[\"geoprivacy\"].value_counts() #to boolean"
   ]
  },
  {
   "cell_type": "code",
   "execution_count": 17,
   "id": "3ed6bfe0",
   "metadata": {},
   "outputs": [],
   "source": [
    "data_sp[\"geoprivacy\"] = data_sp[\"geoprivacy\"].apply(lambda x: 1 if x == \"obscured\" else 0)"
   ]
  },
  {
   "cell_type": "code",
   "execution_count": 18,
   "id": "68478179",
   "metadata": {},
   "outputs": [
    {
     "data": {
      "text/plain": [
       "0    22060\n",
       "1     1163\n",
       "Name: geoprivacy, dtype: int64"
      ]
     },
     "execution_count": 18,
     "metadata": {},
     "output_type": "execute_result"
    }
   ],
   "source": [
    "data_sp[\"geoprivacy\"].value_counts()"
   ]
  },
  {
   "cell_type": "code",
   "execution_count": 19,
   "id": "437120d6",
   "metadata": {},
   "outputs": [
    {
     "data": {
      "text/plain": [
       "open        2829\n",
       "obscured     159\n",
       "Name: taxon_geoprivacy, dtype: int64"
      ]
     },
     "execution_count": 19,
     "metadata": {},
     "output_type": "execute_result"
    }
   ],
   "source": [
    "data_sp[\"taxon_geoprivacy\"].value_counts() # to dummy"
   ]
  },
  {
   "cell_type": "code",
   "execution_count": 20,
   "id": "a670083b",
   "metadata": {},
   "outputs": [],
   "source": [
    "# makes dummies\n",
    "taxon_geoprivacy_dum = pd.get_dummies(data_sp[\"taxon_geoprivacy\"])\n",
    "# concatenates dummy columns with previous data set\n",
    "data_sp = pd.concat([data_sp,taxon_geoprivacy_dum],axis='columns')\n",
    "# drops original taxon_geoprivacy column \n",
    "data_sp.drop(columns=\"taxon_geoprivacy\",inplace=True)\n"
   ]
  },
  {
   "cell_type": "code",
   "execution_count": 21,
   "id": "12e4dbc7",
   "metadata": {},
   "outputs": [
    {
     "data": {
      "text/plain": [
       "Animalia     11994\n",
       "Plantae      10011\n",
       "Fungi         1137\n",
       "Protozoa        18\n",
       "Chromista       10\n",
       "Bacteria         3\n",
       "Viruses          1\n",
       "Name: taxon_kingdom_name, dtype: int64"
      ]
     },
     "execution_count": 21,
     "metadata": {},
     "output_type": "execute_result"
    }
   ],
   "source": [
    "data_sp[\"taxon_kingdom_name\"].value_counts() # dummy Animalia, Plantae and Fungi"
   ]
  },
  {
   "cell_type": "code",
   "execution_count": 22,
   "id": "adb93b69",
   "metadata": {},
   "outputs": [],
   "source": [
    "kingdom_dum = pd.get_dummies(data_sp[\"taxon_kingdom_name\"])[[\"Animalia\", \"Fungi\", \"Plantae\"]]\n",
    "data_sp = pd.concat([data_sp, kingdom_dum], axis = \"columns\")\n",
    "data_sp.drop(columns = \"taxon_kingdom_name\", inplace = True)"
   ]
  },
  {
   "cell_type": "code",
   "execution_count": 23,
   "id": "0cc5ef51",
   "metadata": {},
   "outputs": [
    {
     "name": "stdout",
     "output_type": "stream",
     "text": [
      "<class 'pandas.core.frame.DataFrame'>\n",
      "Int64Index: 23223 entries, 0 to 24055\n",
      "Data columns (total 24 columns):\n",
      " #   Column                            Non-Null Count  Dtype  \n",
      "---  ------                            --------------  -----  \n",
      " 0   id                                23223 non-null  int64  \n",
      " 1   time_observed_at                  23223 non-null  object \n",
      " 2   user_id                           23223 non-null  int64  \n",
      " 3   created_at                        23223 non-null  object \n",
      " 4   quality_grade                     23223 non-null  object \n",
      " 5   num_identification_agreements     23223 non-null  int64  \n",
      " 6   num_identification_disagreements  23223 non-null  int64  \n",
      " 7   captive_cultivated                23223 non-null  bool   \n",
      " 8   latitude                          23223 non-null  float64\n",
      " 9   longitude                         23222 non-null  float64\n",
      " 10  positional_accuracy               19142 non-null  float64\n",
      " 11  public_positional_accuracy        19735 non-null  float64\n",
      " 12  geoprivacy                        23223 non-null  int64  \n",
      " 13  coordinates_obscured              23223 non-null  bool   \n",
      " 14  species_guess                     18623 non-null  object \n",
      " 15  scientific_name                   23193 non-null  object \n",
      " 16  common_name                       20226 non-null  object \n",
      " 17  taxon_genus_name                  20889 non-null  object \n",
      " 18  taxon_species_name                17201 non-null  object \n",
      " 19  obscured                          23223 non-null  uint8  \n",
      " 20  open                              23223 non-null  uint8  \n",
      " 21  Animalia                          23223 non-null  uint8  \n",
      " 22  Fungi                             23223 non-null  uint8  \n",
      " 23  Plantae                           23223 non-null  uint8  \n",
      "dtypes: bool(2), float64(4), int64(5), object(8), uint8(5)\n",
      "memory usage: 3.3+ MB\n"
     ]
    }
   ],
   "source": [
    "data_sp.info()"
   ]
  },
  {
   "cell_type": "markdown",
   "id": "040d92a9",
   "metadata": {},
   "source": [
    "### Imputation"
   ]
  },
  {
   "cell_type": "code",
   "execution_count": 24,
   "id": "2015888a",
   "metadata": {},
   "outputs": [
    {
     "name": "stdout",
     "output_type": "stream",
     "text": [
      "Number of null entries in stated columns = 0\n"
     ]
    }
   ],
   "source": [
    "#filling categoricals with missing info with \"not stated\" and confirming\n",
    "cat_with_null = ['species_guess', 'scientific_name','common_name', \n",
    "                 'taxon_genus_name','taxon_species_name']\n",
    "data_sp[cat_with_null] = data_sp[cat_with_null].fillna(\"not stated\")\n",
    "print(f'Number of null entries in stated columns = {data_sp[cat_with_null].isnull().sum().sum()}')"
   ]
  },
  {
   "cell_type": "code",
   "execution_count": 25,
   "id": "e8a515b9",
   "metadata": {},
   "outputs": [
    {
     "data": {
      "text/html": [
       "<div>\n",
       "<style scoped>\n",
       "    .dataframe tbody tr th:only-of-type {\n",
       "        vertical-align: middle;\n",
       "    }\n",
       "\n",
       "    .dataframe tbody tr th {\n",
       "        vertical-align: top;\n",
       "    }\n",
       "\n",
       "    .dataframe thead th {\n",
       "        text-align: right;\n",
       "    }\n",
       "</style>\n",
       "<table border=\"1\" class=\"dataframe\">\n",
       "  <thead>\n",
       "    <tr style=\"text-align: right;\">\n",
       "      <th></th>\n",
       "      <th>positional_accuracy</th>\n",
       "      <th>public_positional_accuracy</th>\n",
       "    </tr>\n",
       "  </thead>\n",
       "  <tbody>\n",
       "    <tr>\n",
       "      <th>count</th>\n",
       "      <td>19142.00</td>\n",
       "      <td>19735.00</td>\n",
       "    </tr>\n",
       "    <tr>\n",
       "      <th>mean</th>\n",
       "      <td>466.60</td>\n",
       "      <td>2244.71</td>\n",
       "    </tr>\n",
       "    <tr>\n",
       "      <th>std</th>\n",
       "      <td>21983.79</td>\n",
       "      <td>22657.92</td>\n",
       "    </tr>\n",
       "    <tr>\n",
       "      <th>min</th>\n",
       "      <td>1.00</td>\n",
       "      <td>1.00</td>\n",
       "    </tr>\n",
       "    <tr>\n",
       "      <th>25%</th>\n",
       "      <td>5.00</td>\n",
       "      <td>5.00</td>\n",
       "    </tr>\n",
       "    <tr>\n",
       "      <th>50%</th>\n",
       "      <td>8.00</td>\n",
       "      <td>10.00</td>\n",
       "    </tr>\n",
       "    <tr>\n",
       "      <th>75%</th>\n",
       "      <td>20.00</td>\n",
       "      <td>30.00</td>\n",
       "    </tr>\n",
       "    <tr>\n",
       "      <th>max</th>\n",
       "      <td>2412154.00</td>\n",
       "      <td>2412154.00</td>\n",
       "    </tr>\n",
       "  </tbody>\n",
       "</table>\n",
       "</div>"
      ],
      "text/plain": [
       "       positional_accuracy  public_positional_accuracy\n",
       "count             19142.00                    19735.00\n",
       "mean                466.60                     2244.71\n",
       "std               21983.79                    22657.92\n",
       "min                   1.00                        1.00\n",
       "25%                   5.00                        5.00\n",
       "50%                   8.00                       10.00\n",
       "75%                  20.00                       30.00\n",
       "max             2412154.00                  2412154.00"
      ]
     },
     "execution_count": 25,
     "metadata": {},
     "output_type": "execute_result"
    }
   ],
   "source": [
    "round(data_sp[['positional_accuracy','public_positional_accuracy']].describe(),2)"
   ]
  },
  {
   "cell_type": "markdown",
   "id": "c4bbc62f",
   "metadata": {},
   "source": [
    "I choose to impute the mean into the null values for both of these columns. There are few null values and imputing the mean will at least preserve the mean. Additionally, a danger of imputing a value near the medians will put those rows inside of positional accuracies that are considered good for research. Whereas, sticking with the mean will signal \"poor\" positional accuracy which is the better assumption to make. "
   ]
  },
  {
   "cell_type": "code",
   "execution_count": 26,
   "id": "a5beae81",
   "metadata": {},
   "outputs": [],
   "source": [
    "#imputing the mean into null categories for both accuracy\n",
    "PA_mean = data_sp[\"positional_accuracy\"].mean()\n",
    "PPA_mean = data_sp[\"public_positional_accuracy\"].mean()\n",
    "data_sp[\"positional_accuracy\"] = data_sp[\"positional_accuracy\"].fillna(PA_mean)\n",
    "data_sp[\"public_positional_accuracy\"] = data_sp[\"public_positional_accuracy\"].fillna(PPA_mean)"
   ]
  },
  {
   "cell_type": "code",
   "execution_count": 27,
   "id": "1c13a2a5",
   "metadata": {},
   "outputs": [
    {
     "data": {
      "text/html": [
       "<div>\n",
       "<style scoped>\n",
       "    .dataframe tbody tr th:only-of-type {\n",
       "        vertical-align: middle;\n",
       "    }\n",
       "\n",
       "    .dataframe tbody tr th {\n",
       "        vertical-align: top;\n",
       "    }\n",
       "\n",
       "    .dataframe thead th {\n",
       "        text-align: right;\n",
       "    }\n",
       "</style>\n",
       "<table border=\"1\" class=\"dataframe\">\n",
       "  <thead>\n",
       "    <tr style=\"text-align: right;\">\n",
       "      <th></th>\n",
       "      <th>positional_accuracy</th>\n",
       "      <th>public_positional_accuracy</th>\n",
       "    </tr>\n",
       "  </thead>\n",
       "  <tbody>\n",
       "    <tr>\n",
       "      <th>count</th>\n",
       "      <td>23223.00</td>\n",
       "      <td>23223.00</td>\n",
       "    </tr>\n",
       "    <tr>\n",
       "      <th>mean</th>\n",
       "      <td>466.60</td>\n",
       "      <td>2244.71</td>\n",
       "    </tr>\n",
       "    <tr>\n",
       "      <th>std</th>\n",
       "      <td>19958.83</td>\n",
       "      <td>20887.09</td>\n",
       "    </tr>\n",
       "    <tr>\n",
       "      <th>min</th>\n",
       "      <td>1.00</td>\n",
       "      <td>1.00</td>\n",
       "    </tr>\n",
       "    <tr>\n",
       "      <th>25%</th>\n",
       "      <td>5.00</td>\n",
       "      <td>5.00</td>\n",
       "    </tr>\n",
       "    <tr>\n",
       "      <th>50%</th>\n",
       "      <td>10.00</td>\n",
       "      <td>10.00</td>\n",
       "    </tr>\n",
       "    <tr>\n",
       "      <th>75%</th>\n",
       "      <td>159.50</td>\n",
       "      <td>247.50</td>\n",
       "    </tr>\n",
       "    <tr>\n",
       "      <th>max</th>\n",
       "      <td>2412154.00</td>\n",
       "      <td>2412154.00</td>\n",
       "    </tr>\n",
       "  </tbody>\n",
       "</table>\n",
       "</div>"
      ],
      "text/plain": [
       "       positional_accuracy  public_positional_accuracy\n",
       "count             23223.00                    23223.00\n",
       "mean                466.60                     2244.71\n",
       "std               19958.83                    20887.09\n",
       "min                   1.00                        1.00\n",
       "25%                   5.00                        5.00\n",
       "50%                  10.00                       10.00\n",
       "75%                 159.50                      247.50\n",
       "max             2412154.00                  2412154.00"
      ]
     },
     "execution_count": 27,
     "metadata": {},
     "output_type": "execute_result"
    }
   ],
   "source": [
    "round(data_sp[['positional_accuracy','public_positional_accuracy']].describe(),2)"
   ]
  },
  {
   "cell_type": "code",
   "execution_count": 28,
   "id": "5ca8819f",
   "metadata": {},
   "outputs": [],
   "source": [
    "# changing to datetimes\n",
    "data_sp[\"time_observed_at\"] = pd.to_datetime(data_sp[\"time_observed_at\"])\n",
    "data_sp[\"created_at\"] = pd.to_datetime(data_sp[\"created_at\"])"
   ]
  },
  {
   "cell_type": "code",
   "execution_count": 29,
   "id": "40cdab92",
   "metadata": {},
   "outputs": [
    {
     "name": "stdout",
     "output_type": "stream",
     "text": [
      "<class 'pandas.core.frame.DataFrame'>\n",
      "Int64Index: 23223 entries, 0 to 24055\n",
      "Data columns (total 24 columns):\n",
      " #   Column                            Non-Null Count  Dtype              \n",
      "---  ------                            --------------  -----              \n",
      " 0   id                                23223 non-null  int64              \n",
      " 1   time_observed_at                  23223 non-null  datetime64[ns, UTC]\n",
      " 2   user_id                           23223 non-null  int64              \n",
      " 3   created_at                        23223 non-null  datetime64[ns, UTC]\n",
      " 4   quality_grade                     23223 non-null  object             \n",
      " 5   num_identification_agreements     23223 non-null  int64              \n",
      " 6   num_identification_disagreements  23223 non-null  int64              \n",
      " 7   captive_cultivated                23223 non-null  bool               \n",
      " 8   latitude                          23223 non-null  float64            \n",
      " 9   longitude                         23222 non-null  float64            \n",
      " 10  positional_accuracy               23223 non-null  float64            \n",
      " 11  public_positional_accuracy        23223 non-null  float64            \n",
      " 12  geoprivacy                        23223 non-null  int64              \n",
      " 13  coordinates_obscured              23223 non-null  bool               \n",
      " 14  species_guess                     23223 non-null  object             \n",
      " 15  scientific_name                   23223 non-null  object             \n",
      " 16  common_name                       23223 non-null  object             \n",
      " 17  taxon_genus_name                  23223 non-null  object             \n",
      " 18  taxon_species_name                23223 non-null  object             \n",
      " 19  obscured                          23223 non-null  uint8              \n",
      " 20  open                              23223 non-null  uint8              \n",
      " 21  Animalia                          23223 non-null  uint8              \n",
      " 22  Fungi                             23223 non-null  uint8              \n",
      " 23  Plantae                           23223 non-null  uint8              \n",
      "dtypes: bool(2), datetime64[ns, UTC](2), float64(4), int64(5), object(6), uint8(5)\n",
      "memory usage: 3.3+ MB\n"
     ]
    }
   ],
   "source": [
    "data_sp.info()"
   ]
  },
  {
   "cell_type": "code",
   "execution_count": 30,
   "id": "1fe47d7f",
   "metadata": {},
   "outputs": [
    {
     "data": {
      "text/plain": [
       "41"
      ]
     },
     "execution_count": 30,
     "metadata": {},
     "output_type": "execute_result"
    }
   ],
   "source": [
    "(data_sp[\"taxon_species_name\"] == \"Lobelia spicata\").sum()"
   ]
  },
  {
   "cell_type": "code",
   "execution_count": null,
   "id": "2ac94211",
   "metadata": {},
   "outputs": [],
   "source": []
  },
  {
   "cell_type": "code",
   "execution_count": null,
   "id": "5769783c",
   "metadata": {},
   "outputs": [],
   "source": []
  }
 ],
 "metadata": {
  "kernelspec": {
   "display_name": "Python 3 (ipykernel)",
   "language": "python",
   "name": "python3"
  },
  "language_info": {
   "codemirror_mode": {
    "name": "ipython",
    "version": 3
   },
   "file_extension": ".py",
   "mimetype": "text/x-python",
   "name": "python",
   "nbconvert_exporter": "python",
   "pygments_lexer": "ipython3",
   "version": "3.11.4"
  }
 },
 "nbformat": 4,
 "nbformat_minor": 5
}
