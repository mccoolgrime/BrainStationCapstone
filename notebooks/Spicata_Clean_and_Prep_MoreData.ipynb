{
 "cells": [
  {
   "cell_type": "code",
   "execution_count": 1,
   "id": "8724a6d7",
   "metadata": {},
   "outputs": [],
   "source": [
    "import pandas as pd\n",
    "import numpy as np\n",
    "import matplotlib.pyplot as plt\n",
    "import seaborn as sns\n",
    "import random\n",
    "\n",
    "%matplotlib inline "
   ]
  },
  {
   "cell_type": "markdown",
   "id": "be3426bf",
   "metadata": {},
   "source": [
    "# All iNaturalist Records of Lobelia Spicata inside of the U.S.\n",
    "Spicata is the target species. It has a similar number of U.S. observations as does Yellow Lady's Slipper and Spring Ladies' Tresses, yet those species have higher level conservation status than Spicata so, if studied, Spicata's latitude and longitude won't be obscured via a taxon geoprivacy, making it data that I can use for validation of models.\n",
    "\n",
    "To simulate how I imagine someone might target an endangered species, I pulled all observations of Spicata and from there a list of users whose records will have \"clues\" about the location of the Spicata plants. For validation purposes, I also need to make sure the user's observations had an actual public positional accuracy of at least 30 m. "
   ]
  },
  {
   "cell_type": "code",
   "execution_count": 2,
   "id": "b4b5bce0",
   "metadata": {},
   "outputs": [
    {
     "data": {
      "text/html": [
       "<div>\n",
       "<style scoped>\n",
       "    .dataframe tbody tr th:only-of-type {\n",
       "        vertical-align: middle;\n",
       "    }\n",
       "\n",
       "    .dataframe tbody tr th {\n",
       "        vertical-align: top;\n",
       "    }\n",
       "\n",
       "    .dataframe thead th {\n",
       "        text-align: right;\n",
       "    }\n",
       "</style>\n",
       "<table border=\"1\" class=\"dataframe\">\n",
       "  <thead>\n",
       "    <tr style=\"text-align: right;\">\n",
       "      <th></th>\n",
       "      <th>id</th>\n",
       "      <th>observed_on_string</th>\n",
       "      <th>observed_on</th>\n",
       "      <th>time_observed_at</th>\n",
       "      <th>time_zone</th>\n",
       "      <th>user_id</th>\n",
       "      <th>user_login</th>\n",
       "      <th>user_name</th>\n",
       "      <th>created_at</th>\n",
       "      <th>updated_at</th>\n",
       "      <th>...</th>\n",
       "      <th>taxon_supertribe_name</th>\n",
       "      <th>taxon_tribe_name</th>\n",
       "      <th>taxon_subtribe_name</th>\n",
       "      <th>taxon_genus_name</th>\n",
       "      <th>taxon_genushybrid_name</th>\n",
       "      <th>taxon_species_name</th>\n",
       "      <th>taxon_hybrid_name</th>\n",
       "      <th>taxon_subspecies_name</th>\n",
       "      <th>taxon_variety_name</th>\n",
       "      <th>taxon_form_name</th>\n",
       "    </tr>\n",
       "  </thead>\n",
       "  <tbody>\n",
       "    <tr>\n",
       "      <th>0</th>\n",
       "      <td>82406</td>\n",
       "      <td>May 20, 2012 16:44</td>\n",
       "      <td>2012-05-20</td>\n",
       "      <td>2012-05-20 21:44:00 UTC</td>\n",
       "      <td>Central Time (US &amp; Canada)</td>\n",
       "      <td>604</td>\n",
       "      <td>eric_hunt</td>\n",
       "      <td>Eric Hunt</td>\n",
       "      <td>2012-05-23 22:43:55 UTC</td>\n",
       "      <td>2020-12-09 10:50:50 UTC</td>\n",
       "      <td>...</td>\n",
       "      <td>NaN</td>\n",
       "      <td>NaN</td>\n",
       "      <td>NaN</td>\n",
       "      <td>Lobelia</td>\n",
       "      <td>NaN</td>\n",
       "      <td>Lobelia spicata</td>\n",
       "      <td>NaN</td>\n",
       "      <td>NaN</td>\n",
       "      <td>NaN</td>\n",
       "      <td>NaN</td>\n",
       "    </tr>\n",
       "    <tr>\n",
       "      <th>1</th>\n",
       "      <td>82408</td>\n",
       "      <td>May 20, 2012 16:19</td>\n",
       "      <td>2012-05-20</td>\n",
       "      <td>2012-05-20 21:19:00 UTC</td>\n",
       "      <td>Central Time (US &amp; Canada)</td>\n",
       "      <td>604</td>\n",
       "      <td>eric_hunt</td>\n",
       "      <td>Eric Hunt</td>\n",
       "      <td>2012-05-23 22:46:36 UTC</td>\n",
       "      <td>2020-12-09 10:50:51 UTC</td>\n",
       "      <td>...</td>\n",
       "      <td>NaN</td>\n",
       "      <td>NaN</td>\n",
       "      <td>NaN</td>\n",
       "      <td>Lobelia</td>\n",
       "      <td>NaN</td>\n",
       "      <td>Lobelia spicata</td>\n",
       "      <td>NaN</td>\n",
       "      <td>NaN</td>\n",
       "      <td>NaN</td>\n",
       "      <td>NaN</td>\n",
       "    </tr>\n",
       "    <tr>\n",
       "      <th>2</th>\n",
       "      <td>87039</td>\n",
       "      <td>Sun Jun 03 2012 09:52:31 GMT-0400 (EDT)</td>\n",
       "      <td>2012-06-03</td>\n",
       "      <td>2012-06-03 13:52:31 UTC</td>\n",
       "      <td>Eastern Time (US &amp; Canada)</td>\n",
       "      <td>477</td>\n",
       "      <td>loarie</td>\n",
       "      <td>Scott Loarie</td>\n",
       "      <td>2012-06-04 05:25:45 UTC</td>\n",
       "      <td>2019-07-02 19:37:38 UTC</td>\n",
       "      <td>...</td>\n",
       "      <td>NaN</td>\n",
       "      <td>NaN</td>\n",
       "      <td>NaN</td>\n",
       "      <td>Lobelia</td>\n",
       "      <td>NaN</td>\n",
       "      <td>Lobelia spicata</td>\n",
       "      <td>NaN</td>\n",
       "      <td>NaN</td>\n",
       "      <td>NaN</td>\n",
       "      <td>NaN</td>\n",
       "    </tr>\n",
       "    <tr>\n",
       "      <th>3</th>\n",
       "      <td>92772</td>\n",
       "      <td>June 16, 2012 05:40</td>\n",
       "      <td>2012-06-16</td>\n",
       "      <td>2012-06-16 12:40:00 UTC</td>\n",
       "      <td>Pacific Time (US &amp; Canada)</td>\n",
       "      <td>477</td>\n",
       "      <td>loarie</td>\n",
       "      <td>Scott Loarie</td>\n",
       "      <td>2012-06-18 18:04:31 UTC</td>\n",
       "      <td>2015-10-08 14:36:10 UTC</td>\n",
       "      <td>...</td>\n",
       "      <td>NaN</td>\n",
       "      <td>NaN</td>\n",
       "      <td>NaN</td>\n",
       "      <td>Lobelia</td>\n",
       "      <td>NaN</td>\n",
       "      <td>Lobelia spicata</td>\n",
       "      <td>NaN</td>\n",
       "      <td>NaN</td>\n",
       "      <td>NaN</td>\n",
       "      <td>NaN</td>\n",
       "    </tr>\n",
       "    <tr>\n",
       "      <th>4</th>\n",
       "      <td>195645</td>\n",
       "      <td>2008-07-06</td>\n",
       "      <td>2008-07-06</td>\n",
       "      <td>NaN</td>\n",
       "      <td>Eastern Time (US &amp; Canada)</td>\n",
       "      <td>12610</td>\n",
       "      <td>susanelliott</td>\n",
       "      <td>Susan Elliott</td>\n",
       "      <td>2013-02-10 18:04:29 UTC</td>\n",
       "      <td>2020-02-19 21:15:23 UTC</td>\n",
       "      <td>...</td>\n",
       "      <td>NaN</td>\n",
       "      <td>NaN</td>\n",
       "      <td>NaN</td>\n",
       "      <td>Lobelia</td>\n",
       "      <td>NaN</td>\n",
       "      <td>Lobelia spicata</td>\n",
       "      <td>NaN</td>\n",
       "      <td>NaN</td>\n",
       "      <td>NaN</td>\n",
       "      <td>NaN</td>\n",
       "    </tr>\n",
       "  </tbody>\n",
       "</table>\n",
       "<p>5 rows × 67 columns</p>\n",
       "</div>"
      ],
      "text/plain": [
       "       id                       observed_on_string observed_on  \\\n",
       "0   82406                       May 20, 2012 16:44  2012-05-20   \n",
       "1   82408                       May 20, 2012 16:19  2012-05-20   \n",
       "2   87039  Sun Jun 03 2012 09:52:31 GMT-0400 (EDT)  2012-06-03   \n",
       "3   92772                      June 16, 2012 05:40  2012-06-16   \n",
       "4  195645                               2008-07-06  2008-07-06   \n",
       "\n",
       "          time_observed_at                   time_zone  user_id    user_login  \\\n",
       "0  2012-05-20 21:44:00 UTC  Central Time (US & Canada)      604     eric_hunt   \n",
       "1  2012-05-20 21:19:00 UTC  Central Time (US & Canada)      604     eric_hunt   \n",
       "2  2012-06-03 13:52:31 UTC  Eastern Time (US & Canada)      477        loarie   \n",
       "3  2012-06-16 12:40:00 UTC  Pacific Time (US & Canada)      477        loarie   \n",
       "4                      NaN  Eastern Time (US & Canada)    12610  susanelliott   \n",
       "\n",
       "       user_name               created_at               updated_at  ...  \\\n",
       "0      Eric Hunt  2012-05-23 22:43:55 UTC  2020-12-09 10:50:50 UTC  ...   \n",
       "1      Eric Hunt  2012-05-23 22:46:36 UTC  2020-12-09 10:50:51 UTC  ...   \n",
       "2   Scott Loarie  2012-06-04 05:25:45 UTC  2019-07-02 19:37:38 UTC  ...   \n",
       "3   Scott Loarie  2012-06-18 18:04:31 UTC  2015-10-08 14:36:10 UTC  ...   \n",
       "4  Susan Elliott  2013-02-10 18:04:29 UTC  2020-02-19 21:15:23 UTC  ...   \n",
       "\n",
       "  taxon_supertribe_name taxon_tribe_name taxon_subtribe_name taxon_genus_name  \\\n",
       "0                   NaN              NaN                 NaN          Lobelia   \n",
       "1                   NaN              NaN                 NaN          Lobelia   \n",
       "2                   NaN              NaN                 NaN          Lobelia   \n",
       "3                   NaN              NaN                 NaN          Lobelia   \n",
       "4                   NaN              NaN                 NaN          Lobelia   \n",
       "\n",
       "   taxon_genushybrid_name taxon_species_name taxon_hybrid_name  \\\n",
       "0                     NaN    Lobelia spicata               NaN   \n",
       "1                     NaN    Lobelia spicata               NaN   \n",
       "2                     NaN    Lobelia spicata               NaN   \n",
       "3                     NaN    Lobelia spicata               NaN   \n",
       "4                     NaN    Lobelia spicata               NaN   \n",
       "\n",
       "   taxon_subspecies_name  taxon_variety_name  taxon_form_name  \n",
       "0                    NaN                 NaN              NaN  \n",
       "1                    NaN                 NaN              NaN  \n",
       "2                    NaN                 NaN              NaN  \n",
       "3                    NaN                 NaN              NaN  \n",
       "4                    NaN                 NaN              NaN  \n",
       "\n",
       "[5 rows x 67 columns]"
      ]
     },
     "execution_count": 2,
     "metadata": {},
     "output_type": "execute_result"
    }
   ],
   "source": [
    "df_spicata = pd.read_csv(\"../../data/observations_spicata.csv\")\n",
    "df_spicata.head()"
   ]
  },
  {
   "cell_type": "code",
   "execution_count": 3,
   "id": "54720943",
   "metadata": {
    "scrolled": true
   },
   "outputs": [
    {
     "name": "stdout",
     "output_type": "stream",
     "text": [
      "<class 'pandas.core.frame.DataFrame'>\n",
      "RangeIndex: 4547 entries, 0 to 4546\n",
      "Data columns (total 67 columns):\n",
      " #   Column                            Non-Null Count  Dtype  \n",
      "---  ------                            --------------  -----  \n",
      " 0   id                                4547 non-null   int64  \n",
      " 1   observed_on_string                4538 non-null   object \n",
      " 2   observed_on                       4538 non-null   object \n",
      " 3   time_observed_at                  4437 non-null   object \n",
      " 4   time_zone                         4547 non-null   object \n",
      " 5   user_id                           4547 non-null   int64  \n",
      " 6   user_login                        4547 non-null   object \n",
      " 7   user_name                         3079 non-null   object \n",
      " 8   created_at                        4547 non-null   object \n",
      " 9   updated_at                        4547 non-null   object \n",
      " 10  quality_grade                     4547 non-null   object \n",
      " 11  license                           3489 non-null   object \n",
      " 12  url                               4547 non-null   object \n",
      " 13  image_url                         4532 non-null   object \n",
      " 14  sound_url                         0 non-null      float64\n",
      " 15  tag_list                          83 non-null     object \n",
      " 16  description                       319 non-null    object \n",
      " 17  num_identification_agreements     4547 non-null   int64  \n",
      " 18  num_identification_disagreements  4547 non-null   int64  \n",
      " 19  captive_cultivated                4547 non-null   bool   \n",
      " 20  oauth_application_id              3228 non-null   float64\n",
      " 21  place_guess                       4541 non-null   object \n",
      " 22  latitude                          4547 non-null   float64\n",
      " 23  longitude                         4547 non-null   float64\n",
      " 24  positional_accuracy               3619 non-null   float64\n",
      " 25  private_place_guess               0 non-null      float64\n",
      " 26  private_latitude                  0 non-null      float64\n",
      " 27  private_longitude                 0 non-null      float64\n",
      " 28  public_positional_accuracy        3714 non-null   float64\n",
      " 29  geoprivacy                        454 non-null    object \n",
      " 30  taxon_geoprivacy                  2702 non-null   object \n",
      " 31  coordinates_obscured              4547 non-null   bool   \n",
      " 32  positioning_method                771 non-null    object \n",
      " 33  positioning_device                779 non-null    object \n",
      " 34  place_town_name                   200 non-null    object \n",
      " 35  place_county_name                 4547 non-null   object \n",
      " 36  place_state_name                  4547 non-null   object \n",
      " 37  place_country_name                4547 non-null   object \n",
      " 38  place_admin1_name                 4547 non-null   object \n",
      " 39  place_admin2_name                 4547 non-null   object \n",
      " 40  species_guess                     4135 non-null   object \n",
      " 41  scientific_name                   4547 non-null   object \n",
      " 42  common_name                       4540 non-null   object \n",
      " 43  iconic_taxon_name                 4547 non-null   object \n",
      " 44  taxon_id                          4547 non-null   int64  \n",
      " 45  taxon_kingdom_name                4547 non-null   object \n",
      " 46  taxon_phylum_name                 4547 non-null   object \n",
      " 47  taxon_subphylum_name              4547 non-null   object \n",
      " 48  taxon_superclass_name             0 non-null      float64\n",
      " 49  taxon_class_name                  4547 non-null   object \n",
      " 50  taxon_subclass_name               0 non-null      float64\n",
      " 51  taxon_superorder_name             0 non-null      float64\n",
      " 52  taxon_order_name                  4547 non-null   object \n",
      " 53  taxon_suborder_name               0 non-null      float64\n",
      " 54  taxon_superfamily_name            0 non-null      float64\n",
      " 55  taxon_family_name                 4547 non-null   object \n",
      " 56  taxon_subfamily_name              4547 non-null   object \n",
      " 57  taxon_supertribe_name             0 non-null      float64\n",
      " 58  taxon_tribe_name                  0 non-null      float64\n",
      " 59  taxon_subtribe_name               0 non-null      float64\n",
      " 60  taxon_genus_name                  4547 non-null   object \n",
      " 61  taxon_genushybrid_name            0 non-null      float64\n",
      " 62  taxon_species_name                4547 non-null   object \n",
      " 63  taxon_hybrid_name                 0 non-null      float64\n",
      " 64  taxon_subspecies_name             0 non-null      float64\n",
      " 65  taxon_variety_name                30 non-null     object \n",
      " 66  taxon_form_name                   0 non-null      float64\n",
      "dtypes: bool(2), float64(21), int64(5), object(39)\n",
      "memory usage: 2.3+ MB\n"
     ]
    }
   ],
   "source": [
    "df_spicata.info()"
   ]
  },
  {
   "cell_type": "markdown",
   "id": "62182aae",
   "metadata": {},
   "source": [
    "# Comparing public positional accuracy to positional accuracy"
   ]
  },
  {
   "cell_type": "markdown",
   "id": "fa286dd9",
   "metadata": {},
   "source": [
    "Positional accuracy is a kind of confidence measure in the lat/lon provided. An observation is said to be within x meters of the given lat/lon where x is the positional accuracy. A positional accuracy of 30 m or less is considered \"research standard\" [according to iNaturalist](https://www.inaturalist.org/posts/2035-observation-location-accuracy). However, the downloaded data has two categories for positional accuracy--one labelled \"positional accuracy\" and one labelled \"public positional accuracy\". I was not able to find an explanation about the difference on the website so I've compared below with the data. Because I want to use spicata observations where the lat/lon is tied to a positional accuracy of 30 m or less, it's important to know which of the two standards to use, since they do show they differ. "
   ]
  },
  {
   "cell_type": "code",
   "execution_count": 4,
   "id": "f6ebb46e",
   "metadata": {},
   "outputs": [
    {
     "data": {
      "text/plain": [
       "2076"
      ]
     },
     "execution_count": 4,
     "metadata": {},
     "output_type": "execute_result"
    }
   ],
   "source": [
    "# number of spicata observations with public pos acc of 30 m or less\n",
    "(df_spicata[\"public_positional_accuracy\"] <= 30).sum()"
   ]
  },
  {
   "cell_type": "code",
   "execution_count": 5,
   "id": "f60b1967",
   "metadata": {},
   "outputs": [
    {
     "data": {
      "text/plain": [
       "2304"
      ]
     },
     "execution_count": 5,
     "metadata": {},
     "output_type": "execute_result"
    }
   ],
   "source": [
    "# number of spicata observations with pos acc of 30 m or less\n",
    "(df_spicata[\"positional_accuracy\"] <= 30).sum()"
   ]
  },
  {
   "cell_type": "code",
   "execution_count": 6,
   "id": "c062bdce",
   "metadata": {},
   "outputs": [
    {
     "data": {
      "text/plain": [
       "228"
      ]
     },
     "execution_count": 6,
     "metadata": {},
     "output_type": "execute_result"
    }
   ],
   "source": [
    "# suspect the 228 difference between two counts is due to geoprivacy\n",
    "# checking that suspicion \n",
    "\n",
    "#boolean table for all rows--True if positional accuracy is at least 30, but public pos acc is greater\n",
    "truth_table = (df_spicata[df_spicata[\"positional_accuracy\"] <= 30][\"public_positional_accuracy\"] > 30) \n",
    "# an array for those index numbers where the condition is True\n",
    "indices_for_diff = truth_table[truth_table == True].index\n",
    "# len function confirms I've isolated the 228 rows\n",
    "len(indices_for_diff)"
   ]
  },
  {
   "cell_type": "code",
   "execution_count": 7,
   "id": "2ed825de",
   "metadata": {},
   "outputs": [
    {
     "data": {
      "text/plain": [
       "obscured    228\n",
       "Name: geoprivacy, dtype: int64"
      ]
     },
     "execution_count": 7,
     "metadata": {},
     "output_type": "execute_result"
    }
   ],
   "source": [
    "# a count of geoprivacy for those entries shows all of them have \"obscured\" geoprivacy\n",
    "df_spicata.loc[indices_for_diff, \"id\":\"coordinates_obscured\"][\"geoprivacy\"].value_counts()"
   ]
  },
  {
   "cell_type": "markdown",
   "id": "51ef1796",
   "metadata": {},
   "source": [
    "All differences between public pos acc and pos acc are accounted for by an obscured geoprivacy. I am going to extrapolate that information to state that I believe that \"positional accuracy\" is the accuracy attached to the \"private latitude\" and \"private longitude\"--values which are not available to me. Whereas \"public positional accuracy\" is the accuracy attached to the \"latitude\" and \"longitude\" values--which are publicly available to me. So the \"public positional accuracy\" is the metric I need to focus on."
   ]
  },
  {
   "cell_type": "markdown",
   "id": "fc810a82",
   "metadata": {},
   "source": [
    "# Constructing a Dataset around Spicata"
   ]
  },
  {
   "cell_type": "code",
   "execution_count": 8,
   "id": "b919c13c",
   "metadata": {},
   "outputs": [
    {
     "data": {
      "text/plain": [
       "1245"
      ]
     },
     "execution_count": 8,
     "metadata": {},
     "output_type": "execute_result"
    }
   ],
   "source": [
    "# list of all users in US who posted spicata with public positional accuracy <= 30\n",
    "spicata_users = df_spicata[df_spicata[\"public_positional_accuracy\"] <= 30][\"user_id\"].unique().tolist()\n",
    "len(spicata_users)"
   ]
  },
  {
   "cell_type": "markdown",
   "id": "62f299c4",
   "metadata": {},
   "source": [
    "Ideally, I would get to work with all of the data for the full number of users in the set above. And that may be possible as I learn more ways to access the data. But given my current skillset and the way iNaturalist's data query page works, I am using a brute force method of choosing 10 random users at a time from the list of generated users and pulling each user's records by query from the iNaturalist query page until I have a set to explore that has at least 100,000 data points AND at least 100 Spicata records. "
   ]
  },
  {
   "cell_type": "code",
   "execution_count": 9,
   "id": "1e6f445a",
   "metadata": {},
   "outputs": [],
   "source": [
    "# 10 users chosen at random using random.shuffle ALL HAVE BEEN INCLUDED\n",
    "to_remove = [ 635041, 2588524,  923056, 18434,  318468, 1549697, 3583533,\n",
    "       1679129, 2047965, 2570804]"
   ]
  },
  {
   "cell_type": "code",
   "execution_count": 10,
   "id": "42e78773",
   "metadata": {},
   "outputs": [
    {
     "data": {
      "text/plain": [
       "1235"
      ]
     },
     "execution_count": 10,
     "metadata": {},
     "output_type": "execute_result"
    }
   ],
   "source": [
    "for id in to_remove:\n",
    "    spicata_users.remove(id)\n",
    "len(spicata_users)"
   ]
  },
  {
   "cell_type": "code",
   "execution_count": 11,
   "id": "e66602f5",
   "metadata": {},
   "outputs": [],
   "source": [
    "# next 10 random users: HAS BEEN INCLUDED\n",
    "to_remove2 = [787855, 1892152, 542981, 656158, 2248142, 780600, 4659453, 2336149, 3512034, 1773265]\n",
    "to_remove.extend(to_remove2)"
   ]
  },
  {
   "cell_type": "code",
   "execution_count": 12,
   "id": "0a53b69d",
   "metadata": {},
   "outputs": [
    {
     "data": {
      "text/plain": [
       "1225"
      ]
     },
     "execution_count": 12,
     "metadata": {},
     "output_type": "execute_result"
    }
   ],
   "source": [
    "for id in to_remove2:\n",
    "    spicata_users.remove(id)\n",
    "len(spicata_users)"
   ]
  },
  {
   "cell_type": "code",
   "execution_count": 13,
   "id": "bc5829a2",
   "metadata": {},
   "outputs": [],
   "source": [
    "# HAS BEEN INCLUDED\n",
    "to_remove3 = [2889644, 2718421, 805798, 518143, 1237684, 4531483, 818667, 1081392, 2585152, 1401675]\n",
    "to_remove.extend(to_remove3)"
   ]
  },
  {
   "cell_type": "code",
   "execution_count": 14,
   "id": "415e3f1b",
   "metadata": {},
   "outputs": [
    {
     "data": {
      "text/plain": [
       "1215"
      ]
     },
     "execution_count": 14,
     "metadata": {},
     "output_type": "execute_result"
    }
   ],
   "source": [
    "for id in to_remove3:\n",
    "    spicata_users.remove(id)\n",
    "len(spicata_users)"
   ]
  },
  {
   "cell_type": "code",
   "execution_count": 15,
   "id": "830f8c37",
   "metadata": {},
   "outputs": [],
   "source": [
    "# HAS BEEN INCLUDED\n",
    "to_remove4 = [328268, 557161,2808877,2907199,1234210,1006938,1750165,2154312,1531120,1834316]\n",
    "to_remove.extend(to_remove4)"
   ]
  },
  {
   "cell_type": "code",
   "execution_count": 16,
   "id": "34991e52",
   "metadata": {},
   "outputs": [
    {
     "data": {
      "text/plain": [
       "1205"
      ]
     },
     "execution_count": 16,
     "metadata": {},
     "output_type": "execute_result"
    }
   ],
   "source": [
    "for id in to_remove4:\n",
    "    spicata_users.remove(id)\n",
    "len(spicata_users)"
   ]
  },
  {
   "cell_type": "code",
   "execution_count": 17,
   "id": "d9aa92c5",
   "metadata": {},
   "outputs": [],
   "source": [
    "# HAS BEEN INCLUDED\n",
    "to_remove5 = [1511270, 1237597, 5800322, 416976, 5669487, 3823990, 4736884, 5241676, 1149437, 1916723]\n",
    "to_remove.extend(to_remove5)"
   ]
  },
  {
   "cell_type": "code",
   "execution_count": 18,
   "id": "514a2dfb",
   "metadata": {},
   "outputs": [
    {
     "data": {
      "text/plain": [
       "1195"
      ]
     },
     "execution_count": 18,
     "metadata": {},
     "output_type": "execute_result"
    }
   ],
   "source": [
    "for id in to_remove5:\n",
    "    spicata_users.remove(id)\n",
    "len(spicata_users)"
   ]
  },
  {
   "cell_type": "code",
   "execution_count": 19,
   "id": "b8716a23",
   "metadata": {},
   "outputs": [],
   "source": [
    "# HAS BEEN INCLUDED\n",
    "to_remove6 = [436529, 1262660, 674664, 477, 1976181, 475357, 1883226, 3062686, 2125177, 265604]\n",
    "to_remove.extend(to_remove6)\n"
   ]
  },
  {
   "cell_type": "code",
   "execution_count": 20,
   "id": "4ee60a13",
   "metadata": {},
   "outputs": [
    {
     "data": {
      "text/plain": [
       "1185"
      ]
     },
     "execution_count": 20,
     "metadata": {},
     "output_type": "execute_result"
    }
   ],
   "source": [
    "for id in to_remove6:\n",
    "    spicata_users.remove(id)\n",
    "len(spicata_users)"
   ]
  },
  {
   "cell_type": "code",
   "execution_count": 21,
   "id": "13b9a795",
   "metadata": {},
   "outputs": [],
   "source": [
    "to_remove7 = [1804605, 11792, 434504, 604, 3199368, 1872981, 1387258, 392818, 1635190, 289544]\n",
    "to_remove.extend(to_remove7)"
   ]
  },
  {
   "cell_type": "code",
   "execution_count": 22,
   "id": "efe06617",
   "metadata": {},
   "outputs": [
    {
     "data": {
      "text/plain": [
       "1175"
      ]
     },
     "execution_count": 22,
     "metadata": {},
     "output_type": "execute_result"
    }
   ],
   "source": [
    "for id in to_remove7:\n",
    "    spicata_users.remove(id)\n",
    "len(spicata_users)"
   ]
  },
  {
   "cell_type": "code",
   "execution_count": 23,
   "id": "f903b680",
   "metadata": {},
   "outputs": [],
   "source": [
    "#spicata_0071\n",
    "to_remove8 = [1576744, 2172610, 3701063, 953893, 1054497, 5544835, 1930769, 214446, 553407, 2704630]\n",
    "to_remove.extend(to_remove8)"
   ]
  },
  {
   "cell_type": "code",
   "execution_count": 24,
   "id": "fa2fd1d8",
   "metadata": {},
   "outputs": [
    {
     "data": {
      "text/plain": [
       "1165"
      ]
     },
     "execution_count": 24,
     "metadata": {},
     "output_type": "execute_result"
    }
   ],
   "source": [
    "for id in to_remove8:\n",
    "    spicata_users.remove(id)\n",
    "len(spicata_users)"
   ]
  },
  {
   "cell_type": "code",
   "execution_count": 25,
   "id": "52213921",
   "metadata": {},
   "outputs": [],
   "source": [
    "#spicata_0072 and 0073\n",
    "to_remove9 = [1467084,\n",
    " 4132372,\n",
    " 147091,\n",
    " 18446,\n",
    " 246712,\n",
    " 1781904,\n",
    " 150454,\n",
    " 582522,\n",
    " 1686639,\n",
    " 4129746]\n",
    "to_remove.extend(to_remove9)"
   ]
  },
  {
   "cell_type": "code",
   "execution_count": 26,
   "id": "5f0ba26b",
   "metadata": {},
   "outputs": [
    {
     "data": {
      "text/plain": [
       "1155"
      ]
     },
     "execution_count": 26,
     "metadata": {},
     "output_type": "execute_result"
    }
   ],
   "source": [
    "for id in to_remove9:\n",
    "    spicata_users.remove(id)\n",
    "len(spicata_users)"
   ]
  },
  {
   "cell_type": "code",
   "execution_count": 27,
   "id": "c999d377",
   "metadata": {},
   "outputs": [
    {
     "data": {
      "text/plain": [
       "100"
      ]
     },
     "execution_count": 27,
     "metadata": {},
     "output_type": "execute_result"
    }
   ],
   "source": [
    "#spicata_0074\n",
    "to_remove10 = [1242401,\n",
    " 80782,\n",
    " 1308403,\n",
    " 471690,\n",
    " 5814233,\n",
    " 2963491,\n",
    " 1796136,\n",
    " 894957,\n",
    " 4672797,\n",
    " 1518270]\n",
    "to_remove.extend(to_remove10)\n",
    "len(to_remove)"
   ]
  },
  {
   "cell_type": "code",
   "execution_count": 28,
   "id": "c510a7b0",
   "metadata": {},
   "outputs": [
    {
     "data": {
      "text/plain": [
       "1145"
      ]
     },
     "execution_count": 28,
     "metadata": {},
     "output_type": "execute_result"
    }
   ],
   "source": [
    "for id in to_remove10:\n",
    "    spicata_users.remove(id)\n",
    "len(spicata_users)"
   ]
  },
  {
   "cell_type": "code",
   "execution_count": 29,
   "id": "5880cd96",
   "metadata": {},
   "outputs": [
    {
     "data": {
      "text/plain": [
       "110"
      ]
     },
     "execution_count": 29,
     "metadata": {},
     "output_type": "execute_result"
    }
   ],
   "source": [
    "#spicata_0075\n",
    "to_remove11 = [2375374,\n",
    " 2860446,\n",
    " 463066,\n",
    " 851197,\n",
    " 845209,\n",
    " 521220,\n",
    " 307610,\n",
    " 938102,\n",
    " 3534207,\n",
    " 2399521]\n",
    "to_remove.extend(to_remove11)\n",
    "len(to_remove)"
   ]
  },
  {
   "cell_type": "code",
   "execution_count": 30,
   "id": "0c142d12",
   "metadata": {},
   "outputs": [
    {
     "data": {
      "text/plain": [
       "1135"
      ]
     },
     "execution_count": 30,
     "metadata": {},
     "output_type": "execute_result"
    }
   ],
   "source": [
    "for id in to_remove11:\n",
    "    spicata_users.remove(id)\n",
    "len(spicata_users)"
   ]
  },
  {
   "cell_type": "code",
   "execution_count": 31,
   "id": "18511889",
   "metadata": {},
   "outputs": [
    {
     "data": {
      "text/plain": [
       "120"
      ]
     },
     "execution_count": 31,
     "metadata": {},
     "output_type": "execute_result"
    }
   ],
   "source": [
    "# spicata_0076\n",
    "to_remove12 = [691967,\n",
    " 25564,\n",
    " 1590417,\n",
    " 3074897,\n",
    " 552204,\n",
    " 777160,\n",
    " 2468086,\n",
    " 6094378,\n",
    " 1464758,\n",
    " 2707492]\n",
    "to_remove.extend(to_remove12)\n",
    "len(to_remove)"
   ]
  },
  {
   "cell_type": "code",
   "execution_count": 32,
   "id": "aa83a5e4",
   "metadata": {},
   "outputs": [
    {
     "data": {
      "text/plain": [
       "1125"
      ]
     },
     "execution_count": 32,
     "metadata": {},
     "output_type": "execute_result"
    }
   ],
   "source": [
    "for id in to_remove12:\n",
    "    spicata_users.remove(id)\n",
    "len(spicata_users)"
   ]
  },
  {
   "cell_type": "code",
   "execution_count": 33,
   "id": "0b2bd89e",
   "metadata": {},
   "outputs": [
    {
     "data": {
      "text/plain": [
       "140"
      ]
     },
     "execution_count": 33,
     "metadata": {},
     "output_type": "execute_result"
    }
   ],
   "source": [
    "# spicata_0077\n",
    "to_remove13 = [2914217,\n",
    " 1141686,\n",
    " 1910808,\n",
    " 395895,\n",
    " 44631,\n",
    " 580546,\n",
    " 1670419,\n",
    " 643129,\n",
    " 827528,\n",
    " 1820997,\n",
    " 747703,\n",
    " 149431,\n",
    " 4476908,\n",
    " 769013,\n",
    " 5498368,\n",
    " 2929497,\n",
    " 3183213,\n",
    " 183583,\n",
    " 5410150,\n",
    " 2772034]\n",
    "to_remove.extend(to_remove13)\n",
    "len(to_remove)"
   ]
  },
  {
   "cell_type": "code",
   "execution_count": 34,
   "id": "653965a8",
   "metadata": {},
   "outputs": [
    {
     "data": {
      "text/plain": [
       "1105"
      ]
     },
     "execution_count": 34,
     "metadata": {},
     "output_type": "execute_result"
    }
   ],
   "source": [
    "for id in to_remove13:\n",
    "    spicata_users.remove(id)\n",
    "len(spicata_users)"
   ]
  },
  {
   "cell_type": "code",
   "execution_count": 35,
   "id": "9a9afe49",
   "metadata": {},
   "outputs": [
    {
     "data": {
      "text/plain": [
       "150"
      ]
     },
     "execution_count": 35,
     "metadata": {},
     "output_type": "execute_result"
    }
   ],
   "source": [
    "# spicata_0078\n",
    "to_remove14 = [4730192,\n",
    " 5436559,\n",
    " 765149,\n",
    " 950162,\n",
    " 538744,\n",
    " 35203,\n",
    " 128628,\n",
    " 18604,\n",
    " 2182686,\n",
    " 246309]\n",
    "to_remove.extend(to_remove14)\n",
    "len(to_remove)"
   ]
  },
  {
   "cell_type": "code",
   "execution_count": 36,
   "id": "f3e8eb3c",
   "metadata": {},
   "outputs": [
    {
     "data": {
      "text/plain": [
       "1095"
      ]
     },
     "execution_count": 36,
     "metadata": {},
     "output_type": "execute_result"
    }
   ],
   "source": [
    "for id in to_remove14:\n",
    "    spicata_users.remove(id)\n",
    "len(spicata_users)"
   ]
  },
  {
   "cell_type": "code",
   "execution_count": 37,
   "id": "f7aeb738",
   "metadata": {},
   "outputs": [
    {
     "data": {
      "text/plain": [
       "160"
      ]
     },
     "execution_count": 37,
     "metadata": {},
     "output_type": "execute_result"
    }
   ],
   "source": [
    "#spicata_0079\n",
    "to_remove15 = [8882,\n",
    " 454217,\n",
    " 920858,\n",
    " 1020281,\n",
    " 1935198,\n",
    " 318214,\n",
    " 4633627,\n",
    " 138422,\n",
    " 3162904,\n",
    " 346073]\n",
    "to_remove.extend(to_remove15)\n",
    "len(to_remove)"
   ]
  },
  {
   "cell_type": "code",
   "execution_count": 38,
   "id": "013f7ce9",
   "metadata": {},
   "outputs": [
    {
     "data": {
      "text/plain": [
       "1085"
      ]
     },
     "execution_count": 38,
     "metadata": {},
     "output_type": "execute_result"
    }
   ],
   "source": [
    "#spicata_0080\n",
    "for id in to_remove15:\n",
    "    spicata_users.remove(id)\n",
    "len(spicata_users)"
   ]
  },
  {
   "cell_type": "code",
   "execution_count": 39,
   "id": "4a25b60d",
   "metadata": {},
   "outputs": [
    {
     "data": {
      "text/plain": [
       "180"
      ]
     },
     "execution_count": 39,
     "metadata": {},
     "output_type": "execute_result"
    }
   ],
   "source": [
    "to_remove16 = [2762217,\n",
    " 4697264,\n",
    " 1110621,\n",
    " 4571361,\n",
    " 1459875,\n",
    " 2847279,\n",
    " 6917800,\n",
    " 4591168,\n",
    " 2082693,\n",
    " 2682906,\n",
    " 4396950,\n",
    " 1174034,\n",
    " 28982,\n",
    " 1289977,\n",
    " 9394,\n",
    " 375183,\n",
    " 1643556,\n",
    " 2912158,\n",
    " 68132,\n",
    " 1247211]\n",
    "to_remove.extend(to_remove16)\n",
    "len(to_remove)"
   ]
  },
  {
   "cell_type": "code",
   "execution_count": 40,
   "id": "a7d54391",
   "metadata": {},
   "outputs": [
    {
     "data": {
      "text/plain": [
       "1065"
      ]
     },
     "execution_count": 40,
     "metadata": {},
     "output_type": "execute_result"
    }
   ],
   "source": [
    "for id in to_remove16:\n",
    "    spicata_users.remove(id)\n",
    "len(spicata_users)"
   ]
  },
  {
   "cell_type": "code",
   "execution_count": 41,
   "id": "b7a557fe",
   "metadata": {},
   "outputs": [
    {
     "data": {
      "text/plain": [
       "200"
      ]
     },
     "execution_count": 41,
     "metadata": {},
     "output_type": "execute_result"
    }
   ],
   "source": [
    "#spicata_0081\n",
    "to_remove17 = [920561,\n",
    " 4009332,\n",
    " 2357773,\n",
    " 1900488,\n",
    " 1837096,\n",
    " 2419279,\n",
    " 4382878,\n",
    " 59391,\n",
    " 934551,\n",
    " 2803134,\n",
    " 2866704,\n",
    " 27450,\n",
    " 708334,\n",
    " 977888,\n",
    " 507882,\n",
    " 3140204,\n",
    " 142886,\n",
    " 320666,\n",
    " 1189913,\n",
    " 3185240]\n",
    "to_remove.extend(to_remove17)\n",
    "len(to_remove)"
   ]
  },
  {
   "cell_type": "code",
   "execution_count": 42,
   "id": "502e0149",
   "metadata": {},
   "outputs": [
    {
     "data": {
      "text/plain": [
       "1045"
      ]
     },
     "execution_count": 42,
     "metadata": {},
     "output_type": "execute_result"
    }
   ],
   "source": [
    "\n",
    "for id in to_remove17:\n",
    "    spicata_users.remove(id)\n",
    "len(spicata_users)"
   ]
  },
  {
   "cell_type": "code",
   "execution_count": 43,
   "id": "0a13b2da",
   "metadata": {},
   "outputs": [
    {
     "data": {
      "text/plain": [
       "220"
      ]
     },
     "execution_count": 43,
     "metadata": {},
     "output_type": "execute_result"
    }
   ],
   "source": [
    "#spicata_0082\n",
    "to_remove18 = [257635,\n",
    " 1002988,\n",
    " 898587,\n",
    " 2322709,\n",
    " 1038812,\n",
    " 5281113,\n",
    " 138597,\n",
    " 2013202,\n",
    " 3932812,\n",
    " 511036,\n",
    " 783913,\n",
    " 2648010,\n",
    " 1249776,\n",
    " 1518446,\n",
    " 4311442,\n",
    " 111150,\n",
    " 442729,\n",
    " 604764,\n",
    " 2038605,\n",
    " 3726501]\n",
    "to_remove.extend(to_remove18)\n",
    "len(to_remove)"
   ]
  },
  {
   "cell_type": "code",
   "execution_count": 44,
   "id": "ae0be75b",
   "metadata": {},
   "outputs": [
    {
     "data": {
      "text/plain": [
       "1025"
      ]
     },
     "execution_count": 44,
     "metadata": {},
     "output_type": "execute_result"
    }
   ],
   "source": [
    "for id in to_remove18:\n",
    "    spicata_users.remove(id)\n",
    "len(spicata_users)"
   ]
  },
  {
   "cell_type": "code",
   "execution_count": 45,
   "id": "7d2c263c",
   "metadata": {},
   "outputs": [
    {
     "data": {
      "text/plain": [
       "230"
      ]
     },
     "execution_count": 45,
     "metadata": {},
     "output_type": "execute_result"
    }
   ],
   "source": [
    "# spicata_0083\n",
    "to_remove19 = [2686821,\n",
    " 3490685,\n",
    " 317,\n",
    " 75312,\n",
    " 1749181,\n",
    " 4444244,\n",
    " 2240459,\n",
    " 2170071,\n",
    " 4162472,\n",
    " 220924]\n",
    "to_remove.extend(to_remove19)\n",
    "len(to_remove)\n"
   ]
  },
  {
   "cell_type": "code",
   "execution_count": 46,
   "id": "01560f06",
   "metadata": {},
   "outputs": [
    {
     "data": {
      "text/plain": [
       "1015"
      ]
     },
     "execution_count": 46,
     "metadata": {},
     "output_type": "execute_result"
    }
   ],
   "source": [
    "for id in to_remove19:\n",
    "    spicata_users.remove(id)\n",
    "len(spicata_users)"
   ]
  },
  {
   "cell_type": "code",
   "execution_count": 47,
   "id": "63546a7b",
   "metadata": {},
   "outputs": [
    {
     "data": {
      "text/plain": [
       "250"
      ]
     },
     "execution_count": 47,
     "metadata": {},
     "output_type": "execute_result"
    }
   ],
   "source": [
    "# spicata_0084\n",
    "to_remove20 = [5822396,\n",
    " 574034,\n",
    " 5958975,\n",
    " 704781,\n",
    " 77652,\n",
    " 1026528,\n",
    " 1416798,\n",
    " 2850982,\n",
    " 2757482,\n",
    " 1258646,\n",
    " 2275107,\n",
    " 1820905,\n",
    " 6922111,\n",
    " 5058418,\n",
    " 1269999,\n",
    " 1713200,\n",
    " 1488975,\n",
    " 1158036,\n",
    " 4538108,\n",
    " 5521453]\n",
    "to_remove.extend(to_remove20)\n",
    "len(to_remove)"
   ]
  },
  {
   "cell_type": "code",
   "execution_count": 48,
   "id": "e92deb75",
   "metadata": {},
   "outputs": [
    {
     "data": {
      "text/plain": [
       "995"
      ]
     },
     "execution_count": 48,
     "metadata": {},
     "output_type": "execute_result"
    }
   ],
   "source": [
    "for id in to_remove20:\n",
    "    spicata_users.remove(id)\n",
    "len(spicata_users)"
   ]
  },
  {
   "cell_type": "code",
   "execution_count": 49,
   "id": "3dc28689",
   "metadata": {},
   "outputs": [
    {
     "data": {
      "text/plain": [
       "270"
      ]
     },
     "execution_count": 49,
     "metadata": {},
     "output_type": "execute_result"
    }
   ],
   "source": [
    "#spicata_0085\n",
    "to_remove21 = [208028,\n",
    " 898475,\n",
    " 2748753,\n",
    " 200990,\n",
    " 12194,\n",
    " 2886615,\n",
    " 690232,\n",
    " 607706,\n",
    " 3712023,\n",
    " 920250,\n",
    " 6169168,\n",
    " 2075470,\n",
    " 492160,\n",
    " 428492,\n",
    " 453256,\n",
    " 5698210,\n",
    " 1790408,\n",
    " 1722298,\n",
    " 119175,\n",
    " 2590765]\n",
    "to_remove.extend(to_remove21)\n",
    "len(to_remove)"
   ]
  },
  {
   "cell_type": "code",
   "execution_count": 50,
   "id": "4203b110",
   "metadata": {},
   "outputs": [
    {
     "data": {
      "text/plain": [
       "975"
      ]
     },
     "execution_count": 50,
     "metadata": {},
     "output_type": "execute_result"
    }
   ],
   "source": [
    "for id in to_remove21:\n",
    "    spicata_users.remove(id)\n",
    "len(spicata_users)"
   ]
  },
  {
   "cell_type": "code",
   "execution_count": 51,
   "id": "392751aa",
   "metadata": {},
   "outputs": [
    {
     "data": {
      "text/plain": [
       "300"
      ]
     },
     "execution_count": 51,
     "metadata": {},
     "output_type": "execute_result"
    }
   ],
   "source": [
    "# spicata_0086\n",
    "to_remove22 = [4812839,\n",
    " 4211051,\n",
    " 3130064,\n",
    " 2982973,\n",
    " 238235,\n",
    " 3274391,\n",
    " 2450320,\n",
    " 4787148,\n",
    " 5455991,\n",
    " 4805499,\n",
    " 3449782,\n",
    " 626071,\n",
    " 5445479,\n",
    " 1631432,\n",
    " 4669975,\n",
    " 2635503,\n",
    " 3293143,\n",
    " 303051,\n",
    " 3229159,\n",
    " 2140372,\n",
    " 4979062,\n",
    " 2725921,\n",
    " 3196688,\n",
    " 1863615,\n",
    " 4507493,\n",
    " 879980,\n",
    " 1794130,\n",
    " 5331126,\n",
    " 2619368,\n",
    " 665398]\n",
    "to_remove.extend(to_remove22)\n",
    "len(to_remove)"
   ]
  },
  {
   "cell_type": "code",
   "execution_count": 52,
   "id": "1fc86eb5",
   "metadata": {},
   "outputs": [
    {
     "data": {
      "text/plain": [
       "945"
      ]
     },
     "execution_count": 52,
     "metadata": {},
     "output_type": "execute_result"
    }
   ],
   "source": [
    "for id in to_remove22:\n",
    "    spicata_users.remove(id)\n",
    "len(spicata_users)"
   ]
  },
  {
   "cell_type": "code",
   "execution_count": 53,
   "id": "95e95a83",
   "metadata": {},
   "outputs": [
    {
     "name": "stderr",
     "output_type": "stream",
     "text": [
      "C:\\Users\\lisa_\\AppData\\Local\\Temp\\ipykernel_47376\\3626985300.py:8: DtypeWarning: Columns (15,63) have mixed types. Specify dtype option on import or set low_memory=False.\n",
      "  data_sp = pd.concat([data_sp, pd.read_csv(file)])\n",
      "C:\\Users\\lisa_\\AppData\\Local\\Temp\\ipykernel_47376\\3626985300.py:8: DtypeWarning: Columns (63) have mixed types. Specify dtype option on import or set low_memory=False.\n",
      "  data_sp = pd.concat([data_sp, pd.read_csv(file)])\n",
      "C:\\Users\\lisa_\\AppData\\Local\\Temp\\ipykernel_47376\\3626985300.py:8: DtypeWarning: Columns (14,29,32,33,34,63,66) have mixed types. Specify dtype option on import or set low_memory=False.\n",
      "  data_sp = pd.concat([data_sp, pd.read_csv(file)])\n",
      "C:\\Users\\lisa_\\AppData\\Local\\Temp\\ipykernel_47376\\3626985300.py:8: DtypeWarning: Columns (66) have mixed types. Specify dtype option on import or set low_memory=False.\n",
      "  data_sp = pd.concat([data_sp, pd.read_csv(file)])\n",
      "C:\\Users\\lisa_\\AppData\\Local\\Temp\\ipykernel_47376\\3626985300.py:8: DtypeWarning: Columns (14,15,34,48,63,65,66) have mixed types. Specify dtype option on import or set low_memory=False.\n",
      "  data_sp = pd.concat([data_sp, pd.read_csv(file)])\n",
      "C:\\Users\\lisa_\\AppData\\Local\\Temp\\ipykernel_47376\\3626985300.py:8: DtypeWarning: Columns (15,33,61,66) have mixed types. Specify dtype option on import or set low_memory=False.\n",
      "  data_sp = pd.concat([data_sp, pd.read_csv(file)])\n",
      "C:\\Users\\lisa_\\AppData\\Local\\Temp\\ipykernel_47376\\3626985300.py:8: DtypeWarning: Columns (66) have mixed types. Specify dtype option on import or set low_memory=False.\n",
      "  data_sp = pd.concat([data_sp, pd.read_csv(file)])\n",
      "C:\\Users\\lisa_\\AppData\\Local\\Temp\\ipykernel_47376\\3626985300.py:8: DtypeWarning: Columns (15,33,48,61,65,66) have mixed types. Specify dtype option on import or set low_memory=False.\n",
      "  data_sp = pd.concat([data_sp, pd.read_csv(file)])\n",
      "C:\\Users\\lisa_\\AppData\\Local\\Temp\\ipykernel_47376\\3626985300.py:8: DtypeWarning: Columns (14,32,61,66) have mixed types. Specify dtype option on import or set low_memory=False.\n",
      "  data_sp = pd.concat([data_sp, pd.read_csv(file)])\n",
      "C:\\Users\\lisa_\\AppData\\Local\\Temp\\ipykernel_47376\\3626985300.py:8: DtypeWarning: Columns (14,32,33,61,63,66) have mixed types. Specify dtype option on import or set low_memory=False.\n",
      "  data_sp = pd.concat([data_sp, pd.read_csv(file)])\n",
      "C:\\Users\\lisa_\\AppData\\Local\\Temp\\ipykernel_47376\\3626985300.py:8: DtypeWarning: Columns (14,15) have mixed types. Specify dtype option on import or set low_memory=False.\n",
      "  data_sp = pd.concat([data_sp, pd.read_csv(file)])\n",
      "C:\\Users\\lisa_\\AppData\\Local\\Temp\\ipykernel_47376\\3626985300.py:8: DtypeWarning: Columns (15,61,63,66) have mixed types. Specify dtype option on import or set low_memory=False.\n",
      "  data_sp = pd.concat([data_sp, pd.read_csv(file)])\n",
      "C:\\Users\\lisa_\\AppData\\Local\\Temp\\ipykernel_47376\\3626985300.py:8: DtypeWarning: Columns (14,32,33,48,61,66) have mixed types. Specify dtype option on import or set low_memory=False.\n",
      "  data_sp = pd.concat([data_sp, pd.read_csv(file)])\n",
      "C:\\Users\\lisa_\\AppData\\Local\\Temp\\ipykernel_47376\\3626985300.py:8: DtypeWarning: Columns (15,61,63,66) have mixed types. Specify dtype option on import or set low_memory=False.\n",
      "  data_sp = pd.concat([data_sp, pd.read_csv(file)])\n",
      "C:\\Users\\lisa_\\AppData\\Local\\Temp\\ipykernel_47376\\3626985300.py:8: DtypeWarning: Columns (14,15,61,66) have mixed types. Specify dtype option on import or set low_memory=False.\n",
      "  data_sp = pd.concat([data_sp, pd.read_csv(file)])\n",
      "C:\\Users\\lisa_\\AppData\\Local\\Temp\\ipykernel_47376\\3626985300.py:8: DtypeWarning: Columns (32,33,48,61,66) have mixed types. Specify dtype option on import or set low_memory=False.\n",
      "  data_sp = pd.concat([data_sp, pd.read_csv(file)])\n",
      "C:\\Users\\lisa_\\AppData\\Local\\Temp\\ipykernel_47376\\3626985300.py:8: DtypeWarning: Columns (15,61,66) have mixed types. Specify dtype option on import or set low_memory=False.\n",
      "  data_sp = pd.concat([data_sp, pd.read_csv(file)])\n",
      "C:\\Users\\lisa_\\AppData\\Local\\Temp\\ipykernel_47376\\3626985300.py:8: DtypeWarning: Columns (14,15,61,66) have mixed types. Specify dtype option on import or set low_memory=False.\n",
      "  data_sp = pd.concat([data_sp, pd.read_csv(file)])\n",
      "C:\\Users\\lisa_\\AppData\\Local\\Temp\\ipykernel_47376\\3626985300.py:8: DtypeWarning: Columns (14,15) have mixed types. Specify dtype option on import or set low_memory=False.\n",
      "  data_sp = pd.concat([data_sp, pd.read_csv(file)])\n"
     ]
    }
   ],
   "source": [
    "#reads in the csv files from separate users and puts them together in one data frame\n",
    "data_sp = pd.read_csv(\"../../data/spicata_0001.csv\")\n",
    "for i in range(2,87):\n",
    "    if i < 10:\n",
    "        file = \"../../data/spicata_000\" + str(i) +\".csv\"\n",
    "    elif i < 100:\n",
    "        file = \"../../data/spicata_00\" + str(i) +\".csv\"\n",
    "    data_sp = pd.concat([data_sp, pd.read_csv(file)])\n",
    "\n",
    "data_sp = data_sp.reset_index(drop = True)"
   ]
  },
  {
   "cell_type": "code",
   "execution_count": 54,
   "id": "d56db19a",
   "metadata": {},
   "outputs": [
    {
     "data": {
      "text/plain": [
       "300"
      ]
     },
     "execution_count": 54,
     "metadata": {},
     "output_type": "execute_result"
    }
   ],
   "source": [
    "# double-checking that the set has the expects number of users\n",
    "data_sp[\"user_id\"].nunique()"
   ]
  },
  {
   "cell_type": "code",
   "execution_count": 55,
   "id": "0f938344",
   "metadata": {},
   "outputs": [
    {
     "name": "stdout",
     "output_type": "stream",
     "text": [
      "<class 'pandas.core.frame.DataFrame'>\n",
      "RangeIndex: 1071656 entries, 0 to 1071655\n",
      "Data columns (total 67 columns):\n",
      " #   Column                            Non-Null Count    Dtype  \n",
      "---  ------                            --------------    -----  \n",
      " 0   id                                1071656 non-null  int64  \n",
      " 1   observed_on_string                1070256 non-null  object \n",
      " 2   observed_on                       1070218 non-null  object \n",
      " 3   time_observed_at                  1052980 non-null  object \n",
      " 4   time_zone                         1071656 non-null  object \n",
      " 5   user_id                           1071656 non-null  int64  \n",
      " 6   user_login                        1071656 non-null  object \n",
      " 7   user_name                         854568 non-null   object \n",
      " 8   created_at                        1071656 non-null  object \n",
      " 9   updated_at                        1071656 non-null  object \n",
      " 10  quality_grade                     1071656 non-null  object \n",
      " 11  license                           919744 non-null   object \n",
      " 12  url                               1071656 non-null  object \n",
      " 13  image_url                         1064266 non-null  object \n",
      " 14  sound_url                         4176 non-null     object \n",
      " 15  tag_list                          76446 non-null    object \n",
      " 16  description                       117176 non-null   object \n",
      " 17  num_identification_agreements     1071656 non-null  int64  \n",
      " 18  num_identification_disagreements  1071656 non-null  int64  \n",
      " 19  captive_cultivated                1071656 non-null  bool   \n",
      " 20  oauth_application_id              535356 non-null   float64\n",
      " 21  place_guess                       1065679 non-null  object \n",
      " 22  latitude                          1067612 non-null  float64\n",
      " 23  longitude                         1067611 non-null  float64\n",
      " 24  positional_accuracy               915234 non-null   float64\n",
      " 25  private_place_guess               0 non-null        float64\n",
      " 26  private_latitude                  0 non-null        float64\n",
      " 27  private_longitude                 0 non-null        float64\n",
      " 28  public_positional_accuracy        923821 non-null   float64\n",
      " 29  geoprivacy                        63494 non-null    object \n",
      " 30  taxon_geoprivacy                  250442 non-null   object \n",
      " 31  coordinates_obscured              1071656 non-null  bool   \n",
      " 32  positioning_method                32129 non-null    object \n",
      " 33  positioning_device                47692 non-null    object \n",
      " 34  place_town_name                   107474 non-null   object \n",
      " 35  place_county_name                 1062180 non-null  object \n",
      " 36  place_state_name                  1067164 non-null  object \n",
      " 37  place_country_name                1067185 non-null  object \n",
      " 38  place_admin1_name                 1067099 non-null  object \n",
      " 39  place_admin2_name                 1061939 non-null  object \n",
      " 40  species_guess                     956544 non-null   object \n",
      " 41  scientific_name                   1070137 non-null  object \n",
      " 42  common_name                       989734 non-null   object \n",
      " 43  iconic_taxon_name                 1069587 non-null  object \n",
      " 44  taxon_id                          1070139 non-null  float64\n",
      " 45  taxon_kingdom_name                1069836 non-null  object \n",
      " 46  taxon_phylum_name                 1066144 non-null  object \n",
      " 47  taxon_subphylum_name              1016330 non-null  object \n",
      " 48  taxon_superclass_name             3170 non-null     object \n",
      " 49  taxon_class_name                  1062035 non-null  object \n",
      " 50  taxon_subclass_name               359672 non-null   object \n",
      " 51  taxon_superorder_name             24161 non-null    object \n",
      " 52  taxon_order_name                  1053968 non-null  object \n",
      " 53  taxon_suborder_name               222712 non-null   object \n",
      " 54  taxon_superfamily_name            294508 non-null   object \n",
      " 55  taxon_family_name                 1039770 non-null  object \n",
      " 56  taxon_subfamily_name              673869 non-null   object \n",
      " 57  taxon_supertribe_name             12159 non-null    object \n",
      " 58  taxon_tribe_name                  562919 non-null   object \n",
      " 59  taxon_subtribe_name               199213 non-null   object \n",
      " 60  taxon_genus_name                  1002061 non-null  object \n",
      " 61  taxon_genushybrid_name            44 non-null       object \n",
      " 62  taxon_species_name                883173 non-null   object \n",
      " 63  taxon_hybrid_name                 1063 non-null     object \n",
      " 64  taxon_subspecies_name             11125 non-null    object \n",
      " 65  taxon_variety_name                5581 non-null     object \n",
      " 66  taxon_form_name                   245 non-null      object \n",
      "dtypes: bool(2), float64(9), int64(4), object(52)\n",
      "memory usage: 533.5+ MB\n"
     ]
    }
   ],
   "source": [
    "data_sp.info()"
   ]
  },
  {
   "cell_type": "markdown",
   "id": "455d484a",
   "metadata": {},
   "source": [
    "# Understanding num_identification and Related Columns"
   ]
  },
  {
   "cell_type": "markdown",
   "id": "da128e7d",
   "metadata": {},
   "source": [
    "Used the below data to cross-reference iNaturalist observations on the sight itself to better be able to see the full story behind the numbers in these columns. What I deduced about what the four columns in question mean are described in the data dictionary in my README file."
   ]
  },
  {
   "cell_type": "code",
   "execution_count": 56,
   "id": "d1a102fa",
   "metadata": {},
   "outputs": [
    {
     "data": {
      "text/plain": [
       "count    1.071656e+06\n",
       "mean     1.072276e+00\n",
       "std      9.210026e-01\n",
       "min      0.000000e+00\n",
       "25%      0.000000e+00\n",
       "50%      1.000000e+00\n",
       "75%      1.000000e+00\n",
       "max      3.500000e+01\n",
       "Name: num_identification_agreements, dtype: float64"
      ]
     },
     "execution_count": 56,
     "metadata": {},
     "output_type": "execute_result"
    }
   ],
   "source": [
    "data_sp[\"num_identification_agreements\"].describe()"
   ]
  },
  {
   "cell_type": "code",
   "execution_count": 57,
   "id": "aa696c87",
   "metadata": {},
   "outputs": [
    {
     "data": {
      "text/html": [
       "<div>\n",
       "<style scoped>\n",
       "    .dataframe tbody tr th:only-of-type {\n",
       "        vertical-align: middle;\n",
       "    }\n",
       "\n",
       "    .dataframe tbody tr th {\n",
       "        vertical-align: top;\n",
       "    }\n",
       "\n",
       "    .dataframe thead th {\n",
       "        text-align: right;\n",
       "    }\n",
       "</style>\n",
       "<table border=\"1\" class=\"dataframe\">\n",
       "  <thead>\n",
       "    <tr style=\"text-align: right;\">\n",
       "      <th></th>\n",
       "      <th>user_id</th>\n",
       "      <th>species_guess</th>\n",
       "      <th>taxon_species_name</th>\n",
       "      <th>num_identification_agreements</th>\n",
       "      <th>num_identification_disagreements</th>\n",
       "    </tr>\n",
       "  </thead>\n",
       "  <tbody>\n",
       "    <tr>\n",
       "      <th>63140</th>\n",
       "      <td>1237597</td>\n",
       "      <td>Mountain Lion</td>\n",
       "      <td>Puma concolor</td>\n",
       "      <td>15</td>\n",
       "      <td>0</td>\n",
       "    </tr>\n",
       "    <tr>\n",
       "      <th>425907</th>\n",
       "      <td>395895</td>\n",
       "      <td>Double-crested Cormorant</td>\n",
       "      <td>Nannopterum auritum</td>\n",
       "      <td>15</td>\n",
       "      <td>0</td>\n",
       "    </tr>\n",
       "  </tbody>\n",
       "</table>\n",
       "</div>"
      ],
      "text/plain": [
       "        user_id             species_guess   taxon_species_name  \\\n",
       "63140   1237597             Mountain Lion        Puma concolor   \n",
       "425907   395895  Double-crested Cormorant  Nannopterum auritum   \n",
       "\n",
       "        num_identification_agreements  num_identification_disagreements  \n",
       "63140                              15                                 0  \n",
       "425907                             15                                 0  "
      ]
     },
     "execution_count": 57,
     "metadata": {},
     "output_type": "execute_result"
    }
   ],
   "source": [
    "data_sp[data_sp[\"num_identification_agreements\"]==15][[\"user_id\", \"species_guess\", \"taxon_species_name\", \"num_identification_agreements\", \"num_identification_disagreements\"]]"
   ]
  },
  {
   "cell_type": "code",
   "execution_count": 58,
   "id": "53cac534",
   "metadata": {},
   "outputs": [
    {
     "data": {
      "text/plain": [
       "count    1.071656e+06\n",
       "mean     4.550901e-03\n",
       "std      6.958349e-02\n",
       "min      0.000000e+00\n",
       "25%      0.000000e+00\n",
       "50%      0.000000e+00\n",
       "75%      0.000000e+00\n",
       "max      3.000000e+00\n",
       "Name: num_identification_disagreements, dtype: float64"
      ]
     },
     "execution_count": 58,
     "metadata": {},
     "output_type": "execute_result"
    }
   ],
   "source": [
    "data_sp[\"num_identification_disagreements\"].describe()"
   ]
  },
  {
   "cell_type": "code",
   "execution_count": 59,
   "id": "a68a2862",
   "metadata": {},
   "outputs": [
    {
     "data": {
      "text/html": [
       "<div>\n",
       "<style scoped>\n",
       "    .dataframe tbody tr th:only-of-type {\n",
       "        vertical-align: middle;\n",
       "    }\n",
       "\n",
       "    .dataframe tbody tr th {\n",
       "        vertical-align: top;\n",
       "    }\n",
       "\n",
       "    .dataframe thead th {\n",
       "        text-align: right;\n",
       "    }\n",
       "</style>\n",
       "<table border=\"1\" class=\"dataframe\">\n",
       "  <thead>\n",
       "    <tr style=\"text-align: right;\">\n",
       "      <th></th>\n",
       "      <th>user_id</th>\n",
       "      <th>species_guess</th>\n",
       "      <th>taxon_species_name</th>\n",
       "      <th>num_identification_agreements</th>\n",
       "      <th>num_identification_disagreements</th>\n",
       "    </tr>\n",
       "  </thead>\n",
       "  <tbody>\n",
       "    <tr>\n",
       "      <th>206</th>\n",
       "      <td>635041</td>\n",
       "      <td>closed bottle gentian</td>\n",
       "      <td>Gentiana andrewsii</td>\n",
       "      <td>3</td>\n",
       "      <td>1</td>\n",
       "    </tr>\n",
       "    <tr>\n",
       "      <th>735</th>\n",
       "      <td>2588524</td>\n",
       "      <td>Mining Bees</td>\n",
       "      <td>NaN</td>\n",
       "      <td>3</td>\n",
       "      <td>1</td>\n",
       "    </tr>\n",
       "    <tr>\n",
       "      <th>741</th>\n",
       "      <td>2588524</td>\n",
       "      <td>NaN</td>\n",
       "      <td>Arge similis</td>\n",
       "      <td>0</td>\n",
       "      <td>1</td>\n",
       "    </tr>\n",
       "    <tr>\n",
       "      <th>833</th>\n",
       "      <td>2588524</td>\n",
       "      <td>NaN</td>\n",
       "      <td>NaN</td>\n",
       "      <td>0</td>\n",
       "      <td>1</td>\n",
       "    </tr>\n",
       "    <tr>\n",
       "      <th>955</th>\n",
       "      <td>2588524</td>\n",
       "      <td>Andrena</td>\n",
       "      <td>NaN</td>\n",
       "      <td>2</td>\n",
       "      <td>1</td>\n",
       "    </tr>\n",
       "    <tr>\n",
       "      <th>...</th>\n",
       "      <td>...</td>\n",
       "      <td>...</td>\n",
       "      <td>...</td>\n",
       "      <td>...</td>\n",
       "      <td>...</td>\n",
       "    </tr>\n",
       "    <tr>\n",
       "      <th>1066484</th>\n",
       "      <td>5455991</td>\n",
       "      <td>Silvery Checkerspot</td>\n",
       "      <td>Chlosyne nycteis</td>\n",
       "      <td>3</td>\n",
       "      <td>1</td>\n",
       "    </tr>\n",
       "    <tr>\n",
       "      <th>1067076</th>\n",
       "      <td>4979062</td>\n",
       "      <td>Timulla barbata</td>\n",
       "      <td>Timulla barbata</td>\n",
       "      <td>3</td>\n",
       "      <td>1</td>\n",
       "    </tr>\n",
       "    <tr>\n",
       "      <th>1067981</th>\n",
       "      <td>665398</td>\n",
       "      <td>Plant Bugs</td>\n",
       "      <td>NaN</td>\n",
       "      <td>3</td>\n",
       "      <td>1</td>\n",
       "    </tr>\n",
       "    <tr>\n",
       "      <th>1069516</th>\n",
       "      <td>5455991</td>\n",
       "      <td>Segmented Worms</td>\n",
       "      <td>NaN</td>\n",
       "      <td>3</td>\n",
       "      <td>1</td>\n",
       "    </tr>\n",
       "    <tr>\n",
       "      <th>1071094</th>\n",
       "      <td>4979062</td>\n",
       "      <td>Mole Crickets</td>\n",
       "      <td>NaN</td>\n",
       "      <td>0</td>\n",
       "      <td>1</td>\n",
       "    </tr>\n",
       "  </tbody>\n",
       "</table>\n",
       "<p>4723 rows × 5 columns</p>\n",
       "</div>"
      ],
      "text/plain": [
       "         user_id          species_guess  taxon_species_name  \\\n",
       "206       635041  closed bottle gentian  Gentiana andrewsii   \n",
       "735      2588524            Mining Bees                 NaN   \n",
       "741      2588524                    NaN        Arge similis   \n",
       "833      2588524                    NaN                 NaN   \n",
       "955      2588524                Andrena                 NaN   \n",
       "...          ...                    ...                 ...   \n",
       "1066484  5455991    Silvery Checkerspot    Chlosyne nycteis   \n",
       "1067076  4979062        Timulla barbata     Timulla barbata   \n",
       "1067981   665398             Plant Bugs                 NaN   \n",
       "1069516  5455991        Segmented Worms                 NaN   \n",
       "1071094  4979062          Mole Crickets                 NaN   \n",
       "\n",
       "         num_identification_agreements  num_identification_disagreements  \n",
       "206                                  3                                 1  \n",
       "735                                  3                                 1  \n",
       "741                                  0                                 1  \n",
       "833                                  0                                 1  \n",
       "955                                  2                                 1  \n",
       "...                                ...                               ...  \n",
       "1066484                              3                                 1  \n",
       "1067076                              3                                 1  \n",
       "1067981                              3                                 1  \n",
       "1069516                              3                                 1  \n",
       "1071094                              0                                 1  \n",
       "\n",
       "[4723 rows x 5 columns]"
      ]
     },
     "execution_count": 59,
     "metadata": {},
     "output_type": "execute_result"
    }
   ],
   "source": [
    "data_sp[data_sp[\"num_identification_disagreements\"]>0][[\"user_id\", \"species_guess\", \"taxon_species_name\", \"num_identification_agreements\", \"num_identification_disagreements\"]]"
   ]
  },
  {
   "cell_type": "code",
   "execution_count": 60,
   "id": "c28a819b",
   "metadata": {},
   "outputs": [
    {
     "data": {
      "text/plain": [
       "224"
      ]
     },
     "execution_count": 60,
     "metadata": {},
     "output_type": "execute_result"
    }
   ],
   "source": [
    "# I supsected that \"species_guess\" was not always at the species level, used the most generic category possible to test\n",
    "(data_sp[\"species_guess\"] == \"Life\").sum()"
   ]
  },
  {
   "cell_type": "code",
   "execution_count": 61,
   "id": "119cd20b",
   "metadata": {},
   "outputs": [
    {
     "data": {
      "text/html": [
       "<div>\n",
       "<style scoped>\n",
       "    .dataframe tbody tr th:only-of-type {\n",
       "        vertical-align: middle;\n",
       "    }\n",
       "\n",
       "    .dataframe tbody tr th {\n",
       "        vertical-align: top;\n",
       "    }\n",
       "\n",
       "    .dataframe thead th {\n",
       "        text-align: right;\n",
       "    }\n",
       "</style>\n",
       "<table border=\"1\" class=\"dataframe\">\n",
       "  <thead>\n",
       "    <tr style=\"text-align: right;\">\n",
       "      <th></th>\n",
       "      <th>user_id</th>\n",
       "      <th>species_guess</th>\n",
       "      <th>taxon_species_name</th>\n",
       "      <th>num_identification_agreements</th>\n",
       "      <th>num_identification_disagreements</th>\n",
       "    </tr>\n",
       "  </thead>\n",
       "  <tbody>\n",
       "    <tr>\n",
       "      <th>4283</th>\n",
       "      <td>2588524</td>\n",
       "      <td>Life</td>\n",
       "      <td>NaN</td>\n",
       "      <td>2</td>\n",
       "      <td>0</td>\n",
       "    </tr>\n",
       "    <tr>\n",
       "      <th>5409</th>\n",
       "      <td>2588524</td>\n",
       "      <td>Life</td>\n",
       "      <td>NaN</td>\n",
       "      <td>0</td>\n",
       "      <td>0</td>\n",
       "    </tr>\n",
       "    <tr>\n",
       "      <th>11114</th>\n",
       "      <td>2588524</td>\n",
       "      <td>Life</td>\n",
       "      <td>NaN</td>\n",
       "      <td>2</td>\n",
       "      <td>0</td>\n",
       "    </tr>\n",
       "    <tr>\n",
       "      <th>11587</th>\n",
       "      <td>2588524</td>\n",
       "      <td>Life</td>\n",
       "      <td>NaN</td>\n",
       "      <td>0</td>\n",
       "      <td>0</td>\n",
       "    </tr>\n",
       "    <tr>\n",
       "      <th>14008</th>\n",
       "      <td>1679129</td>\n",
       "      <td>Life</td>\n",
       "      <td>NaN</td>\n",
       "      <td>1</td>\n",
       "      <td>0</td>\n",
       "    </tr>\n",
       "    <tr>\n",
       "      <th>...</th>\n",
       "      <td>...</td>\n",
       "      <td>...</td>\n",
       "      <td>...</td>\n",
       "      <td>...</td>\n",
       "      <td>...</td>\n",
       "    </tr>\n",
       "    <tr>\n",
       "      <th>990071</th>\n",
       "      <td>920250</td>\n",
       "      <td>Life</td>\n",
       "      <td>NaN</td>\n",
       "      <td>2</td>\n",
       "      <td>0</td>\n",
       "    </tr>\n",
       "    <tr>\n",
       "      <th>1006775</th>\n",
       "      <td>2886615</td>\n",
       "      <td>Life</td>\n",
       "      <td>NaN</td>\n",
       "      <td>2</td>\n",
       "      <td>0</td>\n",
       "    </tr>\n",
       "    <tr>\n",
       "      <th>1028169</th>\n",
       "      <td>5698210</td>\n",
       "      <td>Life</td>\n",
       "      <td>NaN</td>\n",
       "      <td>1</td>\n",
       "      <td>0</td>\n",
       "    </tr>\n",
       "    <tr>\n",
       "      <th>1060895</th>\n",
       "      <td>626071</td>\n",
       "      <td>Life</td>\n",
       "      <td>NaN</td>\n",
       "      <td>2</td>\n",
       "      <td>0</td>\n",
       "    </tr>\n",
       "    <tr>\n",
       "      <th>1060905</th>\n",
       "      <td>626071</td>\n",
       "      <td>Life</td>\n",
       "      <td>NaN</td>\n",
       "      <td>2</td>\n",
       "      <td>0</td>\n",
       "    </tr>\n",
       "  </tbody>\n",
       "</table>\n",
       "<p>224 rows × 5 columns</p>\n",
       "</div>"
      ],
      "text/plain": [
       "         user_id species_guess taxon_species_name  \\\n",
       "4283     2588524          Life                NaN   \n",
       "5409     2588524          Life                NaN   \n",
       "11114    2588524          Life                NaN   \n",
       "11587    2588524          Life                NaN   \n",
       "14008    1679129          Life                NaN   \n",
       "...          ...           ...                ...   \n",
       "990071    920250          Life                NaN   \n",
       "1006775  2886615          Life                NaN   \n",
       "1028169  5698210          Life                NaN   \n",
       "1060895   626071          Life                NaN   \n",
       "1060905   626071          Life                NaN   \n",
       "\n",
       "         num_identification_agreements  num_identification_disagreements  \n",
       "4283                                 2                                 0  \n",
       "5409                                 0                                 0  \n",
       "11114                                2                                 0  \n",
       "11587                                0                                 0  \n",
       "14008                                1                                 0  \n",
       "...                                ...                               ...  \n",
       "990071                               2                                 0  \n",
       "1006775                              2                                 0  \n",
       "1028169                              1                                 0  \n",
       "1060895                              2                                 0  \n",
       "1060905                              2                                 0  \n",
       "\n",
       "[224 rows x 5 columns]"
      ]
     },
     "execution_count": 61,
     "metadata": {},
     "output_type": "execute_result"
    }
   ],
   "source": [
    "data_sp[data_sp[\"species_guess\"] == \"Life\"][[\"user_id\", \"species_guess\", \"taxon_species_name\", \"num_identification_agreements\", \"num_identification_disagreements\"]]"
   ]
  },
  {
   "cell_type": "markdown",
   "id": "e94ef205",
   "metadata": {},
   "source": [
    "# Cleaning the Dataset"
   ]
  },
  {
   "cell_type": "markdown",
   "id": "beb40c16",
   "metadata": {},
   "source": [
    "### Dropping Columns and Rows"
   ]
  },
  {
   "cell_type": "markdown",
   "id": "b19433df",
   "metadata": {},
   "source": [
    "__Dropping columns__\n",
    "I originally downloaded all data columns available via the iNaturalist query page. However, many are not of immediate interest, especially as my first model will involve basic interpolation. Other columns may be of interest later, but for now I'm choosing 21 of the 66 columns for EDA and then my first attempts at modeling. \n",
    "\n",
    "__Dropping missing lat/lon rather than attempting to impute because:__\n",
    "1) accurate lat/lon is essential to this analysis\n",
    "2) accurately imputing from other clues would be time intensive\n",
    "3) null lat/lon makes up less than 1% of the rows, so dropping doesn't significantly hurt my dataset\n",
    "\n",
    "__Dropping missing \"time_observed_on\" rows because:__\n",
    "1) much of my analysis is based on this value\n",
    "2) null values is less than 5% of the rows, so dropping doesn't hurt my dataset\n",
    "*HOWEVER: it is worth noting that there are two choices for imputation that could be explored:*\n",
    "1) impute the \"time_created_at\" value AND also working with the \"time_created_at\" value for ordering is another way to consider ordering the data.\n",
    "2) order the data by \"time_created_at\" and then impute a \"time_observed_at\" that falls between the \"time_observed_at\" tows on either side of the null row (assuming the same user)\n",
    "But it is my assessment that this will not impact my dataset enough to make it worth the effort."
   ]
  },
  {
   "cell_type": "code",
   "execution_count": 62,
   "id": "4871c594",
   "metadata": {},
   "outputs": [],
   "source": [
    "#columns of interest\n",
    "to_keep = ['id', \"observed_on_string\", \"observed_on\", 'time_observed_at', \"time_zone\", 'user_id', 'created_at',\n",
    "       'quality_grade', \"url\", \"image_url\", \"sound_url\", 'num_identification_agreements',\n",
    "       'num_identification_disagreements', 'captive_cultivated',\n",
    "       'latitude', 'longitude',\n",
    "       'positional_accuracy', 'public_positional_accuracy', 'geoprivacy',\n",
    "       'taxon_geoprivacy', 'coordinates_obscured', 'species_guess', 'scientific_name', 'common_name',\n",
    "       'taxon_kingdom_name','taxon_genus_name',\n",
    "      'taxon_species_name']\n",
    "data_sp = data_sp[to_keep]\n",
    "\n"
   ]
  },
  {
   "cell_type": "code",
   "execution_count": 63,
   "id": "9c05b16a",
   "metadata": {},
   "outputs": [
    {
     "name": "stdout",
     "output_type": "stream",
     "text": [
      "Number of null time_observed_at entries = 0\n"
     ]
    }
   ],
   "source": [
    "# dropping missing \"time_observed_at\" rows and confirming\n",
    "data_sp.dropna(subset=['time_observed_at'], inplace=True)\n",
    "print(f'Number of null time_observed_at entries = {data_sp[data_sp[\"time_observed_at\"].isnull()].shape[0]}')"
   ]
  },
  {
   "cell_type": "code",
   "execution_count": 64,
   "id": "878d3098",
   "metadata": {},
   "outputs": [
    {
     "name": "stdout",
     "output_type": "stream",
     "text": [
      "Number of null time_observed_at entries = 0\n"
     ]
    }
   ],
   "source": [
    "# dropping missing latitude/longitude rows and confirming\n",
    "# for most part, these nulls usually are the same\n",
    "# but occasional strangeness requires choosing to drop category with most nulls\n",
    "if data_sp[data_sp[\"latitude\"].isnull()].shape[0] >= data_sp[data_sp[\"longitude\"].isnull()].shape[0]:\n",
    "    drop_name = \"latitude\"\n",
    "else:\n",
    "    drop_name = \"longitude\"\n",
    "data_sp.dropna(subset=[drop_name], inplace=True)\n",
    "print(f'Number of null time_observed_at entries = {data_sp[data_sp[drop_name].isnull()].shape[0]}')"
   ]
  },
  {
   "cell_type": "markdown",
   "id": "a5375bc3",
   "metadata": {},
   "source": [
    "### Boolean"
   ]
  },
  {
   "cell_type": "markdown",
   "id": "6022a882",
   "metadata": {},
   "source": [
    "__geoprivacy__\n",
    "has only an \"obscured\" value--the rest are null. Simple boolean.\n",
    "\n",
    "__taxon_geoprivacy__\n",
    "has two values \"open\" and \"obscured\" but also many nulls, however cross-referencing with the \"coordinates obscured\" column shows that any null values in \"taxon_geoprivacy\" where coordinates are marked as obscured are entirely accounted for by geoprivacy, so there aren't any obscured values noted in the database that need to be accounted for within the nulls of \"taxon_geoprivacy\" so I will be treating this column as boolean with \"taxon_geoprivacy_obscured\" or not. \n"
   ]
  },
  {
   "cell_type": "code",
   "execution_count": 65,
   "id": "bac5460c",
   "metadata": {},
   "outputs": [
    {
     "data": {
      "text/plain": [
       "obscured    60447\n",
       "private         1\n",
       "Name: geoprivacy, dtype: int64"
      ]
     },
     "execution_count": 65,
     "metadata": {},
     "output_type": "execute_result"
    }
   ],
   "source": [
    "data_sp[\"geoprivacy\"].value_counts() #to boolean"
   ]
  },
  {
   "cell_type": "code",
   "execution_count": 66,
   "id": "4e7bb855",
   "metadata": {},
   "outputs": [],
   "source": [
    "# this code demonstrated during Dec 19th kickoff and had short runtime compared to others\n",
    "# this way of using .apply and lambda isn't yet comfortable/natural to me\n",
    "\n",
    "data_sp[\"geoprivacy_obscured\"] = data_sp[\"geoprivacy\"].apply(lambda x: 1 if x == \"obscured\" else 0)\n",
    "#retitles boolean for clarity to distinguish between taxon_geoprivacy \"open\" and drops original column\n",
    "data_sp.drop(\"geoprivacy\", axis = 1, inplace = True)"
   ]
  },
  {
   "cell_type": "code",
   "execution_count": 67,
   "id": "311ecb69",
   "metadata": {
    "scrolled": true
   },
   "outputs": [
    {
     "data": {
      "text/plain": [
       "0    989704\n",
       "1     60447\n",
       "Name: geoprivacy_obscured, dtype: int64"
      ]
     },
     "execution_count": 67,
     "metadata": {},
     "output_type": "execute_result"
    }
   ],
   "source": [
    "data_sp[\"geoprivacy_obscured\"].value_counts()"
   ]
  },
  {
   "cell_type": "code",
   "execution_count": 68,
   "id": "8a8d4351",
   "metadata": {},
   "outputs": [
    {
     "data": {
      "text/plain": [
       "open        227487\n",
       "obscured     16793\n",
       "Name: taxon_geoprivacy, dtype: int64"
      ]
     },
     "execution_count": 68,
     "metadata": {},
     "output_type": "execute_result"
    }
   ],
   "source": [
    "data_sp[\"taxon_geoprivacy\"].value_counts() # to dummy"
   ]
  },
  {
   "cell_type": "code",
   "execution_count": 69,
   "id": "02da6ac8",
   "metadata": {},
   "outputs": [
    {
     "data": {
      "text/plain": [
       "43598"
      ]
     },
     "execution_count": 69,
     "metadata": {},
     "output_type": "execute_result"
    }
   ],
   "source": [
    "# shows how many of null taxon_geoprivacy are marked as \"coordinates_obscured\" or not\n",
    "na_taxon = data_sp[data_sp[\"taxon_geoprivacy\"].isna()]\n",
    "(na_taxon[\"coordinates_obscured\"] == True).sum()"
   ]
  },
  {
   "cell_type": "code",
   "execution_count": 70,
   "id": "82e7093e",
   "metadata": {},
   "outputs": [
    {
     "data": {
      "text/plain": [
       "43597"
      ]
     },
     "execution_count": 70,
     "metadata": {},
     "output_type": "execute_result"
    }
   ],
   "source": [
    "# shows that same number is accounted for by \"geoprivacy_obscured\"\n",
    "na_taxon[na_taxon[\"coordinates_obscured\"] == True][\"geoprivacy_obscured\"].sum()"
   ]
  },
  {
   "cell_type": "code",
   "execution_count": 71,
   "id": "d285d33a",
   "metadata": {},
   "outputs": [],
   "source": [
    "# boolean\n",
    "data_sp[\"taxon_geoprivacy_obscured\"] = data_sp[\"taxon_geoprivacy\"].apply(lambda x: 1 if x == \"obscured\" else 0)\n",
    "data_sp.drop(\"taxon_geoprivacy\", axis =1, inplace = True)"
   ]
  },
  {
   "cell_type": "markdown",
   "id": "3670468c",
   "metadata": {},
   "source": [
    "### Imputation"
   ]
  },
  {
   "cell_type": "markdown",
   "id": "a3525718",
   "metadata": {},
   "source": [
    "__taxon_kingdom_name__\n",
    "For now I am imputing the string \"not stated\" into the null values. However, if future model building would benefit from hot-encoding, the bulk of the data is in the Animal, Plant or Fungi kingdoms so it is unlikely that the other kingdoms will contribute to a data model. Additionally, these are the kingdoms of interest to me. So my plan for potential future hot-encoding is to only hot-encode those three kingdoms. \n",
    "\n",
    "__Other Naming Categoricals__\n",
    "There are too many options for these to dummy at this time and I would like to sort and group on the categoricals for initial EDA. Given that these are strings, I am imputing the string \"not stated\" into any nulls here.\n",
    "\n",
    "__Positional Accuracy Columns__\n",
    "I choose to impute the mean into the null values for both of these columns. There are few null values and imputing the mean will at least preserve the mean. Additionally, a danger of imputing a value near the medians will put those rows inside of positional accuracies that are considered good for research. Whereas, sticking with the mean will signal \"poor\" positional accuracy which is the better assumption to make. "
   ]
  },
  {
   "cell_type": "code",
   "execution_count": 72,
   "id": "4b374b60",
   "metadata": {},
   "outputs": [
    {
     "data": {
      "text/plain": [
       "Plantae      555254\n",
       "Animalia     447947\n",
       "Fungi         44122\n",
       "Protozoa       1375\n",
       "Chromista       402\n",
       "Bacteria        204\n",
       "Viruses          35\n",
       "Archaea           1\n",
       "Name: taxon_kingdom_name, dtype: int64"
      ]
     },
     "execution_count": 72,
     "metadata": {},
     "output_type": "execute_result"
    }
   ],
   "source": [
    "data_sp[\"taxon_kingdom_name\"].value_counts() "
   ]
  },
  {
   "cell_type": "code",
   "execution_count": 73,
   "id": "597f9e9f",
   "metadata": {},
   "outputs": [
    {
     "name": "stdout",
     "output_type": "stream",
     "text": [
      "Number of null entries in stated columns = 0\n"
     ]
    }
   ],
   "source": [
    "#filling categoricals with missing info with \"not stated\" and confirming\n",
    "cat_with_null = ['species_guess', 'scientific_name','common_name', \n",
    "                 'taxon_genus_name','taxon_species_name', \"taxon_kingdom_name\"]\n",
    "data_sp[cat_with_null] = data_sp[cat_with_null].fillna(\"not stated\")\n",
    "print(f'Number of null entries in stated columns = {data_sp[cat_with_null].isnull().sum().sum()}')"
   ]
  },
  {
   "cell_type": "code",
   "execution_count": 74,
   "id": "099f13d5",
   "metadata": {},
   "outputs": [
    {
     "data": {
      "text/html": [
       "<div>\n",
       "<style scoped>\n",
       "    .dataframe tbody tr th:only-of-type {\n",
       "        vertical-align: middle;\n",
       "    }\n",
       "\n",
       "    .dataframe tbody tr th {\n",
       "        vertical-align: top;\n",
       "    }\n",
       "\n",
       "    .dataframe thead th {\n",
       "        text-align: right;\n",
       "    }\n",
       "</style>\n",
       "<table border=\"1\" class=\"dataframe\">\n",
       "  <thead>\n",
       "    <tr style=\"text-align: right;\">\n",
       "      <th></th>\n",
       "      <th>positional_accuracy</th>\n",
       "      <th>public_positional_accuracy</th>\n",
       "    </tr>\n",
       "  </thead>\n",
       "  <tbody>\n",
       "    <tr>\n",
       "      <th>count</th>\n",
       "      <td>899246.00</td>\n",
       "      <td>907454.00</td>\n",
       "    </tr>\n",
       "    <tr>\n",
       "      <th>mean</th>\n",
       "      <td>511.41</td>\n",
       "      <td>2795.49</td>\n",
       "    </tr>\n",
       "    <tr>\n",
       "      <th>std</th>\n",
       "      <td>22888.17</td>\n",
       "      <td>24003.86</td>\n",
       "    </tr>\n",
       "    <tr>\n",
       "      <th>min</th>\n",
       "      <td>0.00</td>\n",
       "      <td>0.00</td>\n",
       "    </tr>\n",
       "    <tr>\n",
       "      <th>25%</th>\n",
       "      <td>5.00</td>\n",
       "      <td>5.00</td>\n",
       "    </tr>\n",
       "    <tr>\n",
       "      <th>50%</th>\n",
       "      <td>11.00</td>\n",
       "      <td>15.00</td>\n",
       "    </tr>\n",
       "    <tr>\n",
       "      <th>75%</th>\n",
       "      <td>46.00</td>\n",
       "      <td>73.00</td>\n",
       "    </tr>\n",
       "    <tr>\n",
       "      <th>max</th>\n",
       "      <td>9650865.00</td>\n",
       "      <td>9650865.00</td>\n",
       "    </tr>\n",
       "  </tbody>\n",
       "</table>\n",
       "</div>"
      ],
      "text/plain": [
       "       positional_accuracy  public_positional_accuracy\n",
       "count            899246.00                   907454.00\n",
       "mean                511.41                     2795.49\n",
       "std               22888.17                    24003.86\n",
       "min                   0.00                        0.00\n",
       "25%                   5.00                        5.00\n",
       "50%                  11.00                       15.00\n",
       "75%                  46.00                       73.00\n",
       "max             9650865.00                  9650865.00"
      ]
     },
     "execution_count": 74,
     "metadata": {},
     "output_type": "execute_result"
    }
   ],
   "source": [
    "round(data_sp[['positional_accuracy','public_positional_accuracy']].describe(),2)"
   ]
  },
  {
   "cell_type": "code",
   "execution_count": 75,
   "id": "6754c8a6",
   "metadata": {},
   "outputs": [],
   "source": [
    "#imputing the mean into null categories for both accuracy\n",
    "PA_mean = data_sp[\"positional_accuracy\"].mean()\n",
    "PPA_mean = data_sp[\"public_positional_accuracy\"].mean()\n",
    "data_sp[\"positional_accuracy\"] = data_sp[\"positional_accuracy\"].fillna(PA_mean)\n",
    "data_sp[\"public_positional_accuracy\"] = data_sp[\"public_positional_accuracy\"].fillna(PPA_mean)"
   ]
  },
  {
   "cell_type": "code",
   "execution_count": 76,
   "id": "dcb82f6d",
   "metadata": {},
   "outputs": [
    {
     "data": {
      "text/html": [
       "<div>\n",
       "<style scoped>\n",
       "    .dataframe tbody tr th:only-of-type {\n",
       "        vertical-align: middle;\n",
       "    }\n",
       "\n",
       "    .dataframe tbody tr th {\n",
       "        vertical-align: top;\n",
       "    }\n",
       "\n",
       "    .dataframe thead th {\n",
       "        text-align: right;\n",
       "    }\n",
       "</style>\n",
       "<table border=\"1\" class=\"dataframe\">\n",
       "  <thead>\n",
       "    <tr style=\"text-align: right;\">\n",
       "      <th></th>\n",
       "      <th>positional_accuracy</th>\n",
       "      <th>public_positional_accuracy</th>\n",
       "    </tr>\n",
       "  </thead>\n",
       "  <tbody>\n",
       "    <tr>\n",
       "      <th>count</th>\n",
       "      <td>1050151.00</td>\n",
       "      <td>1050151.00</td>\n",
       "    </tr>\n",
       "    <tr>\n",
       "      <th>mean</th>\n",
       "      <td>511.41</td>\n",
       "      <td>2795.49</td>\n",
       "    </tr>\n",
       "    <tr>\n",
       "      <th>std</th>\n",
       "      <td>21179.93</td>\n",
       "      <td>22313.49</td>\n",
       "    </tr>\n",
       "    <tr>\n",
       "      <th>min</th>\n",
       "      <td>0.00</td>\n",
       "      <td>0.00</td>\n",
       "    </tr>\n",
       "    <tr>\n",
       "      <th>25%</th>\n",
       "      <td>5.00</td>\n",
       "      <td>6.00</td>\n",
       "    </tr>\n",
       "    <tr>\n",
       "      <th>50%</th>\n",
       "      <td>15.00</td>\n",
       "      <td>22.00</td>\n",
       "    </tr>\n",
       "    <tr>\n",
       "      <th>75%</th>\n",
       "      <td>173.00</td>\n",
       "      <td>550.00</td>\n",
       "    </tr>\n",
       "    <tr>\n",
       "      <th>max</th>\n",
       "      <td>9650865.00</td>\n",
       "      <td>9650865.00</td>\n",
       "    </tr>\n",
       "  </tbody>\n",
       "</table>\n",
       "</div>"
      ],
      "text/plain": [
       "       positional_accuracy  public_positional_accuracy\n",
       "count           1050151.00                  1050151.00\n",
       "mean                511.41                     2795.49\n",
       "std               21179.93                    22313.49\n",
       "min                   0.00                        0.00\n",
       "25%                   5.00                        6.00\n",
       "50%                  15.00                       22.00\n",
       "75%                 173.00                      550.00\n",
       "max             9650865.00                  9650865.00"
      ]
     },
     "execution_count": 76,
     "metadata": {},
     "output_type": "execute_result"
    }
   ],
   "source": [
    "round(data_sp[['positional_accuracy','public_positional_accuracy']].describe(),2)"
   ]
  },
  {
   "cell_type": "markdown",
   "id": "37b37375",
   "metadata": {},
   "source": [
    "### Final Cleaning Touches/Checks"
   ]
  },
  {
   "cell_type": "code",
   "execution_count": 77,
   "id": "59e1fefc",
   "metadata": {},
   "outputs": [
    {
     "data": {
      "text/plain": [
       "507"
      ]
     },
     "execution_count": 77,
     "metadata": {},
     "output_type": "execute_result"
    }
   ],
   "source": [
    "# number of spicata observations in this set with necessary positional accuracy\n",
    "# Goal is for this number to be at least 100\n",
    "((data_sp[\"taxon_species_name\"] == \"Lobelia spicata\")&(data_sp[\"public_positional_accuracy\"]<=30)).sum()"
   ]
  },
  {
   "cell_type": "markdown",
   "id": "793dc60e",
   "metadata": {},
   "source": [
    "I am choosing to leave nulls for urls because being able to retrieve them later from this database will be useful. I can filter those columns out in future notebooks when performing analysis. "
   ]
  },
  {
   "cell_type": "code",
   "execution_count": 78,
   "id": "e7b85aac",
   "metadata": {
    "scrolled": true
   },
   "outputs": [
    {
     "name": "stdout",
     "output_type": "stream",
     "text": [
      "<class 'pandas.core.frame.DataFrame'>\n",
      "Int64Index: 1050151 entries, 0 to 1071655\n",
      "Data columns (total 27 columns):\n",
      " #   Column                            Non-Null Count    Dtype  \n",
      "---  ------                            --------------    -----  \n",
      " 0   id                                1050151 non-null  int64  \n",
      " 1   observed_on_string                1050151 non-null  object \n",
      " 2   observed_on                       1050151 non-null  object \n",
      " 3   time_observed_at                  1050151 non-null  object \n",
      " 4   time_zone                         1050151 non-null  object \n",
      " 5   user_id                           1050151 non-null  int64  \n",
      " 6   created_at                        1050151 non-null  object \n",
      " 7   quality_grade                     1050151 non-null  object \n",
      " 8   url                               1050151 non-null  object \n",
      " 9   image_url                         1045138 non-null  object \n",
      " 10  sound_url                         3684 non-null     object \n",
      " 11  num_identification_agreements     1050151 non-null  int64  \n",
      " 12  num_identification_disagreements  1050151 non-null  int64  \n",
      " 13  captive_cultivated                1050151 non-null  bool   \n",
      " 14  latitude                          1050151 non-null  float64\n",
      " 15  longitude                         1050151 non-null  float64\n",
      " 16  positional_accuracy               1050151 non-null  float64\n",
      " 17  public_positional_accuracy        1050151 non-null  float64\n",
      " 18  coordinates_obscured              1050151 non-null  bool   \n",
      " 19  species_guess                     1050151 non-null  object \n",
      " 20  scientific_name                   1050151 non-null  object \n",
      " 21  common_name                       1050151 non-null  object \n",
      " 22  taxon_kingdom_name                1050151 non-null  object \n",
      " 23  taxon_genus_name                  1050151 non-null  object \n",
      " 24  taxon_species_name                1050151 non-null  object \n",
      " 25  geoprivacy_obscured               1050151 non-null  int64  \n",
      " 26  taxon_geoprivacy_obscured         1050151 non-null  int64  \n",
      "dtypes: bool(2), float64(4), int64(6), object(15)\n",
      "memory usage: 210.3+ MB\n"
     ]
    }
   ],
   "source": [
    "data_sp.info()"
   ]
  },
  {
   "cell_type": "code",
   "execution_count": 79,
   "id": "8d918483",
   "metadata": {},
   "outputs": [],
   "source": [
    "# changing to datetimes\n",
    "data_sp[\"time_observed_at\"] = pd.to_datetime(data_sp[\"time_observed_at\"])\n",
    "data_sp[\"created_at\"] = pd.to_datetime(data_sp[\"created_at\"])"
   ]
  },
  {
   "cell_type": "markdown",
   "id": "e88dd913",
   "metadata": {},
   "source": [
    "# Adding Important Data Columns for Analysis"
   ]
  },
  {
   "cell_type": "markdown",
   "id": "123e8fdb",
   "metadata": {},
   "source": [
    "### Clustering User Data According to Proximity in Time"
   ]
  },
  {
   "cell_type": "code",
   "execution_count": 80,
   "id": "7647999c",
   "metadata": {},
   "outputs": [],
   "source": [
    "# sorting data by user then by time_observed_at so \"minute_diff\" and \"km_diff\" can operate on a single user in the order\n",
    "# the observations were made\n",
    "# NOTE: there may be a reason to choose \"created_at\" or \"id\" instead if \"time_observed_at\" turns out to be poor for modeling\n",
    "data_sp = data_sp.sort_values(by = [\"user_id\", \"time_observed_at\"]).reset_index(drop = True)"
   ]
  },
  {
   "cell_type": "code",
   "execution_count": 81,
   "id": "4b793d69",
   "metadata": {},
   "outputs": [],
   "source": [
    "# column that calculates time difference between given row and previous row in total seconds\n",
    "data_sp[\"minute_diff\"] = data_sp[\"time_observed_at\"].diff()\n",
    "data_sp[\"minute_diff\"] = data_sp[\"minute_diff\"].dt.total_seconds() / 60"
   ]
  },
  {
   "cell_type": "markdown",
   "id": "c257560f",
   "metadata": {},
   "source": [
    "For each user's first entry \"minute_diff\", the calculated value compared to previous user's last entry doesn't make good sense. There are some options for what could be imputed there. The mean or median of that user's time differences, for example. But also perhaps 0? I'm starting with -0.001 because it's close to zero and so will act a lot like zero in this dataset if included in summary stats, but can be more easily filtered out of the dataset all together, since all actual \"time differences\" are zero or positive given that I constructed the set sequentially in time for each user."
   ]
  },
  {
   "cell_type": "code",
   "execution_count": 82,
   "id": "a3d2d2d8",
   "metadata": {},
   "outputs": [],
   "source": [
    "users = data_sp[\"user_id\"].unique() # identifies users in set --REQUIRED FOR LATER CODE\n",
    "imputed_initial_time = -0.001  # change here for different imputation\n",
    "for user in users:\n",
    "    min_index = data_sp.index[data_sp[\"user_id\"] == user].min()\n",
    "    data_sp.loc[min_index, \"minute_diff\"] = imputed_initial_time"
   ]
  },
  {
   "cell_type": "code",
   "execution_count": 83,
   "id": "75591ffe",
   "metadata": {},
   "outputs": [
    {
     "data": {
      "text/plain": [
       "count    1.050151e+06\n",
       "mean     1.183444e+03\n",
       "std      5.387129e+04\n",
       "min     -1.000000e-03\n",
       "25%      1.000000e+00\n",
       "50%      3.000000e+00\n",
       "75%      1.633300e+01\n",
       "max      3.626322e+07\n",
       "Name: minute_diff, dtype: float64"
      ]
     },
     "execution_count": 83,
     "metadata": {},
     "output_type": "execute_result"
    }
   ],
   "source": [
    "# summary stats with -0.001 as initial minute_diff included\n",
    "round(data_sp[\"minute_diff\"].describe(),3)"
   ]
  },
  {
   "cell_type": "code",
   "execution_count": 84,
   "id": "f86bce7f",
   "metadata": {
    "scrolled": true
   },
   "outputs": [
    {
     "data": {
      "text/plain": [
       "count    1.049851e+06\n",
       "mean     1.183782e+03\n",
       "std      5.387899e+04\n",
       "min      0.000000e+00\n",
       "25%      1.000000e+00\n",
       "50%      3.000000e+00\n",
       "75%      1.635000e+01\n",
       "max      3.626322e+07\n",
       "Name: minute_diff, dtype: float64"
      ]
     },
     "execution_count": 84,
     "metadata": {},
     "output_type": "execute_result"
    }
   ],
   "source": [
    "# summary stats with -0.001 as initial minute_diff excluded\n",
    "round(data_sp[data_sp[\"minute_diff\"]!= -0.001][\"minute_diff\"].describe(),3)"
   ]
  },
  {
   "cell_type": "markdown",
   "id": "3336a576",
   "metadata": {},
   "source": [
    "### Clustering User Data According to Proximity in Space (with time as an ordering category)"
   ]
  },
  {
   "cell_type": "markdown",
   "id": "11ded7ba",
   "metadata": {},
   "source": [
    "Using scikit learn's [haversine function ](https://scikit-learn.org/stable/modules/generated/sklearn.metrics.pairwise.haversine_distances.html) to approximate distance between two lat/lon points."
   ]
  },
  {
   "cell_type": "code",
   "execution_count": 85,
   "id": "c3e460c1",
   "metadata": {},
   "outputs": [],
   "source": [
    "from sklearn.metrics.pairwise import haversine_distances\n",
    "from math import radians\n",
    "def dist_in_km(df, i, s = 1): \n",
    "    '''\n",
    "    Takes the index of one row in a given dataset\n",
    "    and the number of rows ahead of that row in the dataset\n",
    "    and computes the estimated distance in km \n",
    "    between the two latitude/longitude coordinates\n",
    "    \n",
    "    Arguments:\n",
    "    df = dataframe\n",
    "    i = index of row with first location of concern\n",
    "    s = step or number of rows ahead of initial row for second location\n",
    "        (default is 1--to calc distance between location in given row and next one)\n",
    "    \n",
    "    Returns: \n",
    "    Estimated distance in km between the two lat/lon locations \n",
    "    for the row given and the row s steps ahead of row i\n",
    "    \n",
    "    Example: \n",
    "    dist_in_km(data_sp, 4, 2)\n",
    "    Will find the distance in km between the location specified in data_sp[4] and data_sp[4 + 2]\n",
    "    '''\n",
    "    location1 = [df[\"latitude\"][i], df[\"longitude\"][i]]\n",
    "    location2 = [df[\"latitude\"][i + s], df[\"longitude\"][i + s]]\n",
    "    loc1_rad = [radians(deg) for deg in location1]\n",
    "    loc2_rad = [radians(deg) for deg in location2]\n",
    "    result = haversine_distances([loc1_rad, loc2_rad])\n",
    "    dist = result[0][1] * 6371  # multiply by Earth radius in km to get km\n",
    "    return dist"
   ]
  },
  {
   "cell_type": "code",
   "execution_count": 86,
   "id": "ce3e503f",
   "metadata": {},
   "outputs": [],
   "source": [
    "# creates list of indices where new users begin\n",
    "first_index_for_user = []\n",
    "for user in users: # users as defined in previous section\n",
    "    min_index = data_sp.index[data_sp[\"user_id\"] == user].min()\n",
    "    first_index_for_user.append(min_index)"
   ]
  },
  {
   "cell_type": "code",
   "execution_count": 87,
   "id": "9e815854",
   "metadata": {},
   "outputs": [],
   "source": [
    "# CODE RELIES ON EARLIER SORTING AND INDEXING BY USER AND TIME (or ID if chosen)\n",
    "# creates distance difference column by user\n",
    "# initial row for a user is imputed \n",
    "# every row afterward for that user, distance is calculated between given row and the row before\n",
    "imputed_initial_dist = -0.001 # change here for different imputation\n",
    "for i in range(1, data_sp.shape[0]):\n",
    "    data_sp.loc[0, \"km_diff\"] = imputed_initial_dist #sets initial row as imputed value\n",
    "    if i in first_index_for_user:\n",
    "        data_sp.loc[i, \"km_diff\"] = imputed_initial_dist # sets all other first indices as imputed value\n",
    "    else: \n",
    "        data_sp.loc[i, \"km_diff\"] = dist_in_km(data_sp, i-1) \n",
    "        # sets all non first indices as difference using dist_in_km function"
   ]
  },
  {
   "cell_type": "code",
   "execution_count": 88,
   "id": "57342c84",
   "metadata": {},
   "outputs": [
    {
     "data": {
      "text/plain": [
       "count    1050151.000\n",
       "mean          19.090\n",
       "std          247.831\n",
       "min           -0.001\n",
       "25%            0.003\n",
       "50%            0.043\n",
       "75%            0.598\n",
       "max        19991.925\n",
       "Name: km_diff, dtype: float64"
      ]
     },
     "execution_count": 88,
     "metadata": {},
     "output_type": "execute_result"
    }
   ],
   "source": [
    "# summary stats with imputed initial distance differences included\n",
    "round(data_sp[\"km_diff\"].describe(),3)"
   ]
  },
  {
   "cell_type": "code",
   "execution_count": 89,
   "id": "e9011abf",
   "metadata": {},
   "outputs": [
    {
     "data": {
      "text/plain": [
       "count    1049851.000\n",
       "mean          19.096\n",
       "std          247.867\n",
       "min            0.000\n",
       "25%            0.003\n",
       "50%            0.043\n",
       "75%            0.599\n",
       "max        19991.925\n",
       "Name: km_diff, dtype: float64"
      ]
     },
     "execution_count": 89,
     "metadata": {},
     "output_type": "execute_result"
    }
   ],
   "source": [
    "# summary stats with imputed initial distance differences excluded\n",
    "round(data_sp[data_sp[\"km_diff\"]!= imputed_initial_dist][\"km_diff\"].describe(),3)"
   ]
  },
  {
   "cell_type": "code",
   "execution_count": 90,
   "id": "7cfe0032",
   "metadata": {
    "scrolled": true
   },
   "outputs": [
    {
     "data": {
      "text/html": [
       "<div>\n",
       "<style scoped>\n",
       "    .dataframe tbody tr th:only-of-type {\n",
       "        vertical-align: middle;\n",
       "    }\n",
       "\n",
       "    .dataframe tbody tr th {\n",
       "        vertical-align: top;\n",
       "    }\n",
       "\n",
       "    .dataframe thead th {\n",
       "        text-align: right;\n",
       "    }\n",
       "</style>\n",
       "<table border=\"1\" class=\"dataframe\">\n",
       "  <thead>\n",
       "    <tr style=\"text-align: right;\">\n",
       "      <th></th>\n",
       "      <th>id</th>\n",
       "      <th>observed_on_string</th>\n",
       "      <th>observed_on</th>\n",
       "      <th>time_observed_at</th>\n",
       "      <th>time_zone</th>\n",
       "      <th>user_id</th>\n",
       "      <th>created_at</th>\n",
       "      <th>quality_grade</th>\n",
       "      <th>url</th>\n",
       "      <th>image_url</th>\n",
       "      <th>...</th>\n",
       "      <th>species_guess</th>\n",
       "      <th>scientific_name</th>\n",
       "      <th>common_name</th>\n",
       "      <th>taxon_kingdom_name</th>\n",
       "      <th>taxon_genus_name</th>\n",
       "      <th>taxon_species_name</th>\n",
       "      <th>geoprivacy_obscured</th>\n",
       "      <th>taxon_geoprivacy_obscured</th>\n",
       "      <th>minute_diff</th>\n",
       "      <th>km_diff</th>\n",
       "    </tr>\n",
       "  </thead>\n",
       "  <tbody>\n",
       "    <tr>\n",
       "      <th>0</th>\n",
       "      <td>156253</td>\n",
       "      <td>1990-09-01 20:20:16</td>\n",
       "      <td>1990-09-01</td>\n",
       "      <td>1990-09-02 00:20:16+00:00</td>\n",
       "      <td>Eastern Time (US &amp; Canada)</td>\n",
       "      <td>317</td>\n",
       "      <td>2012-12-03 02:52:30+00:00</td>\n",
       "      <td>research</td>\n",
       "      <td>http://www.inaturalist.org/observations/156253</td>\n",
       "      <td>https://inaturalist-open-data.s3.amazonaws.com...</td>\n",
       "      <td>...</td>\n",
       "      <td>Cururu Toad</td>\n",
       "      <td>Rhinella diptycha</td>\n",
       "      <td>Cururu Toad</td>\n",
       "      <td>Animalia</td>\n",
       "      <td>Rhinella</td>\n",
       "      <td>Rhinella diptycha</td>\n",
       "      <td>0</td>\n",
       "      <td>0</td>\n",
       "      <td>-1.000000e-03</td>\n",
       "      <td>-0.001000</td>\n",
       "    </tr>\n",
       "    <tr>\n",
       "      <th>1</th>\n",
       "      <td>99704839</td>\n",
       "      <td>Fri May 20 1994 09:37:00 GMT-0400 (EDT)</td>\n",
       "      <td>1994-05-20</td>\n",
       "      <td>1994-05-20 13:37:00+00:00</td>\n",
       "      <td>Eastern Time (US &amp; Canada)</td>\n",
       "      <td>317</td>\n",
       "      <td>2021-10-29 13:45:37+00:00</td>\n",
       "      <td>research</td>\n",
       "      <td>https://www.inaturalist.org/observations/99704839</td>\n",
       "      <td>https://inaturalist-open-data.s3.amazonaws.com...</td>\n",
       "      <td>...</td>\n",
       "      <td>Brown-headed Cowbird</td>\n",
       "      <td>Molothrus ater</td>\n",
       "      <td>Brown-headed Cowbird</td>\n",
       "      <td>Animalia</td>\n",
       "      <td>Molothrus</td>\n",
       "      <td>Molothrus ater</td>\n",
       "      <td>0</td>\n",
       "      <td>0</td>\n",
       "      <td>1.953437e+06</td>\n",
       "      <td>7492.228775</td>\n",
       "    </tr>\n",
       "    <tr>\n",
       "      <th>2</th>\n",
       "      <td>99705133</td>\n",
       "      <td>Fri May 20 1994 09:37:00 GMT-0400 (EDT)</td>\n",
       "      <td>1994-05-20</td>\n",
       "      <td>1994-05-20 13:37:00+00:00</td>\n",
       "      <td>Eastern Time (US &amp; Canada)</td>\n",
       "      <td>317</td>\n",
       "      <td>2021-10-29 13:49:59+00:00</td>\n",
       "      <td>research</td>\n",
       "      <td>https://www.inaturalist.org/observations/99705133</td>\n",
       "      <td>https://inaturalist-open-data.s3.amazonaws.com...</td>\n",
       "      <td>...</td>\n",
       "      <td>Northern Cardinal</td>\n",
       "      <td>Cardinalis cardinalis</td>\n",
       "      <td>Northern Cardinal</td>\n",
       "      <td>Animalia</td>\n",
       "      <td>Cardinalis</td>\n",
       "      <td>Cardinalis cardinalis</td>\n",
       "      <td>0</td>\n",
       "      <td>0</td>\n",
       "      <td>0.000000e+00</td>\n",
       "      <td>0.000000</td>\n",
       "    </tr>\n",
       "    <tr>\n",
       "      <th>3</th>\n",
       "      <td>160735</td>\n",
       "      <td>Thu May 20 1994 15:27:35 GMT-0400 (EDT)</td>\n",
       "      <td>1994-05-20</td>\n",
       "      <td>1994-05-20 19:27:35+00:00</td>\n",
       "      <td>Eastern Time (US &amp; Canada)</td>\n",
       "      <td>317</td>\n",
       "      <td>2012-12-11 20:23:37+00:00</td>\n",
       "      <td>research</td>\n",
       "      <td>http://www.inaturalist.org/observations/160735</td>\n",
       "      <td>https://inaturalist-open-data.s3.amazonaws.com...</td>\n",
       "      <td>...</td>\n",
       "      <td>Brown-headed Cowbird</td>\n",
       "      <td>Molothrus ater</td>\n",
       "      <td>Brown-headed Cowbird</td>\n",
       "      <td>Animalia</td>\n",
       "      <td>Molothrus</td>\n",
       "      <td>Molothrus ater</td>\n",
       "      <td>0</td>\n",
       "      <td>0</td>\n",
       "      <td>3.505833e+02</td>\n",
       "      <td>0.472500</td>\n",
       "    </tr>\n",
       "    <tr>\n",
       "      <th>4</th>\n",
       "      <td>36335283</td>\n",
       "      <td>Wed Jul 28 1999 08:24:34 GMT-0400 (EDT)</td>\n",
       "      <td>1999-07-28</td>\n",
       "      <td>1999-07-28 12:24:34+00:00</td>\n",
       "      <td>Eastern Time (US &amp; Canada)</td>\n",
       "      <td>317</td>\n",
       "      <td>2019-12-04 01:50:03+00:00</td>\n",
       "      <td>research</td>\n",
       "      <td>https://www.inaturalist.org/observations/36335283</td>\n",
       "      <td>https://inaturalist-open-data.s3.amazonaws.com...</td>\n",
       "      <td>...</td>\n",
       "      <td>American Red Squirrel</td>\n",
       "      <td>Tamiasciurus hudsonicus</td>\n",
       "      <td>American Red Squirrel</td>\n",
       "      <td>Animalia</td>\n",
       "      <td>Tamiasciurus</td>\n",
       "      <td>Tamiasciurus hudsonicus</td>\n",
       "      <td>0</td>\n",
       "      <td>0</td>\n",
       "      <td>2.728377e+06</td>\n",
       "      <td>56.747939</td>\n",
       "    </tr>\n",
       "  </tbody>\n",
       "</table>\n",
       "<p>5 rows × 29 columns</p>\n",
       "</div>"
      ],
      "text/plain": [
       "         id                       observed_on_string observed_on  \\\n",
       "0    156253                      1990-09-01 20:20:16  1990-09-01   \n",
       "1  99704839  Fri May 20 1994 09:37:00 GMT-0400 (EDT)  1994-05-20   \n",
       "2  99705133  Fri May 20 1994 09:37:00 GMT-0400 (EDT)  1994-05-20   \n",
       "3    160735  Thu May 20 1994 15:27:35 GMT-0400 (EDT)  1994-05-20   \n",
       "4  36335283  Wed Jul 28 1999 08:24:34 GMT-0400 (EDT)  1999-07-28   \n",
       "\n",
       "            time_observed_at                   time_zone  user_id  \\\n",
       "0  1990-09-02 00:20:16+00:00  Eastern Time (US & Canada)      317   \n",
       "1  1994-05-20 13:37:00+00:00  Eastern Time (US & Canada)      317   \n",
       "2  1994-05-20 13:37:00+00:00  Eastern Time (US & Canada)      317   \n",
       "3  1994-05-20 19:27:35+00:00  Eastern Time (US & Canada)      317   \n",
       "4  1999-07-28 12:24:34+00:00  Eastern Time (US & Canada)      317   \n",
       "\n",
       "                  created_at quality_grade  \\\n",
       "0  2012-12-03 02:52:30+00:00      research   \n",
       "1  2021-10-29 13:45:37+00:00      research   \n",
       "2  2021-10-29 13:49:59+00:00      research   \n",
       "3  2012-12-11 20:23:37+00:00      research   \n",
       "4  2019-12-04 01:50:03+00:00      research   \n",
       "\n",
       "                                                 url  \\\n",
       "0     http://www.inaturalist.org/observations/156253   \n",
       "1  https://www.inaturalist.org/observations/99704839   \n",
       "2  https://www.inaturalist.org/observations/99705133   \n",
       "3     http://www.inaturalist.org/observations/160735   \n",
       "4  https://www.inaturalist.org/observations/36335283   \n",
       "\n",
       "                                           image_url  ...  \\\n",
       "0  https://inaturalist-open-data.s3.amazonaws.com...  ...   \n",
       "1  https://inaturalist-open-data.s3.amazonaws.com...  ...   \n",
       "2  https://inaturalist-open-data.s3.amazonaws.com...  ...   \n",
       "3  https://inaturalist-open-data.s3.amazonaws.com...  ...   \n",
       "4  https://inaturalist-open-data.s3.amazonaws.com...  ...   \n",
       "\n",
       "           species_guess          scientific_name            common_name  \\\n",
       "0            Cururu Toad        Rhinella diptycha            Cururu Toad   \n",
       "1   Brown-headed Cowbird           Molothrus ater   Brown-headed Cowbird   \n",
       "2      Northern Cardinal    Cardinalis cardinalis      Northern Cardinal   \n",
       "3   Brown-headed Cowbird           Molothrus ater   Brown-headed Cowbird   \n",
       "4  American Red Squirrel  Tamiasciurus hudsonicus  American Red Squirrel   \n",
       "\n",
       "   taxon_kingdom_name  taxon_genus_name       taxon_species_name  \\\n",
       "0            Animalia          Rhinella        Rhinella diptycha   \n",
       "1            Animalia         Molothrus           Molothrus ater   \n",
       "2            Animalia        Cardinalis    Cardinalis cardinalis   \n",
       "3            Animalia         Molothrus           Molothrus ater   \n",
       "4            Animalia      Tamiasciurus  Tamiasciurus hudsonicus   \n",
       "\n",
       "   geoprivacy_obscured  taxon_geoprivacy_obscured   minute_diff      km_diff  \n",
       "0                    0                          0 -1.000000e-03    -0.001000  \n",
       "1                    0                          0  1.953437e+06  7492.228775  \n",
       "2                    0                          0  0.000000e+00     0.000000  \n",
       "3                    0                          0  3.505833e+02     0.472500  \n",
       "4                    0                          0  2.728377e+06    56.747939  \n",
       "\n",
       "[5 rows x 29 columns]"
      ]
     },
     "execution_count": 90,
     "metadata": {},
     "output_type": "execute_result"
    }
   ],
   "source": [
    "data_sp.head()"
   ]
  },
  {
   "cell_type": "code",
   "execution_count": 91,
   "id": "b412f083",
   "metadata": {},
   "outputs": [],
   "source": [
    "#sending cleaned dataset to csv to use for EDA to cut down on runtime\n",
    "#Uncomment code below to create dataset\n",
    "\n",
    "#data_sp.to_csv(\"../../data/spicata_clean_500.csv\")"
   ]
  },
  {
   "cell_type": "code",
   "execution_count": null,
   "id": "a7b56f4e",
   "metadata": {},
   "outputs": [],
   "source": []
  }
 ],
 "metadata": {
  "kernelspec": {
   "display_name": "capstone",
   "language": "python",
   "name": "capstone"
  },
  "language_info": {
   "codemirror_mode": {
    "name": "ipython",
    "version": 3
   },
   "file_extension": ".py",
   "mimetype": "text/x-python",
   "name": "python",
   "nbconvert_exporter": "python",
   "pygments_lexer": "ipython3",
   "version": "3.11.4"
  }
 },
 "nbformat": 4,
 "nbformat_minor": 5
}
