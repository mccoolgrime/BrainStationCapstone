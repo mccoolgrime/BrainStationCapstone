{
 "cells": [
  {
   "cell_type": "markdown",
   "id": "123e8fdb",
   "metadata": {},
   "source": [
    "# Spicata_Clean_and_Prep\n",
    "### Clustering User Data According to Proximity in Time\n",
    "The commented out code below was an attempt at trying to define a \"hike\" by proximity in time, but I found that the exercise wasn't very successful at defining a cluster, the code took too long and the time_diff category was plenty good for EDA around proximity in time."
   ]
  },
  {
   "cell_type": "code",
   "execution_count": 35,
   "id": "7647999c",
   "metadata": {},
   "outputs": [],
   "source": [
    "# sorting data by user then by time_observed_at so \"time_diff\" operates on a single user in the order\n",
    "# the observations were made\n",
    "# NOTE: there may be a reason to choose \"created_at\" or \"id\" instead if \"time_observed_at\" is suspect\n",
    "data_sp = data_sp.sort_values(by = [\"user_id\", \"time_observed_at\"]).reset_index(drop = True)"
   ]
  },
  {
   "cell_type": "code",
   "execution_count": 54,
   "id": "82bb22cc",
   "metadata": {},
   "outputs": [],
   "source": [
    "# column that calculates time difference between given row and previous row in total seconds\n",
    "data_sp[\"time_diff\"] = data_sp[\"time_observed_at\"].diff()\n",
    "data_sp[\"time_diff\"] = data_sp[\"time_diff\"].dt.total_seconds() / 60"
   ]
  },
  {
   "cell_type": "markdown",
   "id": "c257560f",
   "metadata": {},
   "source": [
    "For each user's first entry \"time_diff\", the calculated value compared to previous user's last entry doesn't make good sense. There are some options for what could be imputed there. The mean or median of that user's time differences, for example. But also perhaps 0? I'm starting with -0.001 because it's close to zero and so will act a lot like zero in this dataset if included in summary stats, but can be more easily filtered out of the dataset all together, since all actual \"time differences\" are zero or positive given that I constructed the set sequentially in time for each user."
   ]
  },
  {
   "cell_type": "code",
   "execution_count": 56,
   "id": "a3d2d2d8",
   "metadata": {},
   "outputs": [],
   "source": [
    "users = data_sp[\"user_id\"].unique() # identifies users in set --REQUIRED FOR LATER CODE\n",
    "imputed_initial_time = -0.001  # change here for different imputation\n",
    "for user in users:\n",
    "    min_index = data_sp.index[data_sp[\"user_id\"] == user].min()\n",
    "    data_sp.loc[min_index, \"time_diff\"] = imputed_initial_time"
   ]
  },
  {
   "cell_type": "code",
   "execution_count": 57,
   "id": "75591ffe",
   "metadata": {},
   "outputs": [
    {
     "data": {
      "text/plain": [
       "count      70865.000\n",
       "mean        1978.990\n",
       "std        18687.089\n",
       "min           -0.001\n",
       "25%            1.083\n",
       "50%            4.950\n",
       "75%           51.650\n",
       "max      1089394.000\n",
       "Name: time_diff, dtype: float64"
      ]
     },
     "execution_count": 57,
     "metadata": {},
     "output_type": "execute_result"
    }
   ],
   "source": [
    "# summary stats with -0.001 as initial time_diff included\n",
    "round(data_sp[\"time_diff\"].describe(),3)"
   ]
  },
  {
   "cell_type": "code",
   "execution_count": 58,
   "id": "f86bce7f",
   "metadata": {},
   "outputs": [
    {
     "data": {
      "text/plain": [
       "count      70815.000\n",
       "mean        1980.387\n",
       "std        18693.611\n",
       "min            0.000\n",
       "25%            1.083\n",
       "50%            4.950\n",
       "75%           51.733\n",
       "max      1089394.000\n",
       "Name: time_diff, dtype: float64"
      ]
     },
     "execution_count": 58,
     "metadata": {},
     "output_type": "execute_result"
    }
   ],
   "source": [
    "# summary stats with -0.001 as initial time_diff excluded\n",
    "round(data_sp[data_sp[\"time_diff\"]!= -0.001][\"time_diff\"].describe(),3)"
   ]
  },
  {
   "cell_type": "markdown",
   "id": "38e0bafd",
   "metadata": {},
   "source": [
    "The two cells below are attempts to try to cluster user data into \"hikes\", but the code itself takes a lot of time to run and I am unclear that it is helpful."
   ]
  },
  {
   "cell_type": "code",
   "execution_count": 39,
   "id": "6c44a882",
   "metadata": {},
   "outputs": [
    {
     "data": {
      "text/plain": [
       "'\\ndata_sp[\"time_cluster\"] = 1 # creates column to fill, also sets initial hike number at 1 \\nusers = data_sp[\"user_id\"].unique() # identifies users in set\\nmax_gap_min = 120 #enter the maximum number of minutes here that would define a \"new hike\"\\nfor user in users:\\n    cluster_num = 1 \\n    min_index = data_sp.index[data_sp[\"user_id\"] == user].min()\\n    max_index = data_sp.index[data_sp[\"user_id\"] == user].max()\\n    for i in range(min_index + 1, max_index + 1):  \\n        if data_sp[data_sp[\"user_id\"] == user][\"time_diff\"][i] <= max_gap_min:\\n            data_sp.loc[i, \"time_cluster\"] = cluster_num  # if next entry is inside of time bound, logged as same cluster\\n        else: \\n            cluster_num += 1\\n            data_sp.loc[i, \"time_cluster\"] = cluster_num #\\n    '"
      ]
     },
     "execution_count": 39,
     "metadata": {},
     "output_type": "execute_result"
    }
   ],
   "source": [
    "# NOTE--THIS CODE ONLY WORKS IF DATA ORGANIZED BY USER and THEN BY EITHER ID/CREATED_AT OR TIME_OBSERVED_AT\n",
    "# classifies observations into single \"hikes\" as defined by those proximal in time\n",
    "# time is chosen by max_gap_min value\n",
    "'''\n",
    "data_sp[\"time_cluster\"] = 1 # creates column to fill, also sets initial hike number at 1 \n",
    "users = data_sp[\"user_id\"].unique() # identifies users in set\n",
    "max_gap_min = 120 #enter the maximum number of minutes here that would define a \"new hike\"\n",
    "for user in users:\n",
    "    cluster_num = 1 \n",
    "    min_index = data_sp.index[data_sp[\"user_id\"] == user].min()\n",
    "    max_index = data_sp.index[data_sp[\"user_id\"] == user].max()\n",
    "    for i in range(min_index + 1, max_index + 1):  \n",
    "        if data_sp[data_sp[\"user_id\"] == user][\"time_diff\"][i] <= max_gap_min:\n",
    "            data_sp.loc[i, \"time_cluster\"] = cluster_num  # if next entry is inside of time bound, logged as same cluster\n",
    "        else: \n",
    "            cluster_num += 1\n",
    "            data_sp.loc[i, \"time_cluster\"] = cluster_num #\n",
    "    '''"
   ]
  },
  {
   "cell_type": "code",
   "execution_count": 40,
   "id": "a6588cd1",
   "metadata": {},
   "outputs": [
    {
     "data": {
      "text/plain": [
       "'\\nusers = data_sp[\"user_id\"].unique() \\nspread_hikes_by_time_gap = {}\\nmax_gap_min = [60, 120, 180, 240] \\nfor time in max_gap_min:\\n    data_sp[\"time_cluster\"] = 1\\n    for user in users:\\n        cluster_num = 1 \\n        min_index = data_sp.index[data_sp[\"user_id\"] == user].min()\\n        max_index = data_sp.index[data_sp[\"user_id\"] == user].max()\\n        for i in range(min_index + 1, max_index + 1):  \\n            if data_sp[data_sp[\"user_id\"] == user][\"time_diff\"][i] <= time:\\n                data_sp.loc[i, \"time_cluster\"] = cluster_num  \\n            else: \\n                cluster_num += 1\\n                data_sp.loc[i, \"time_cluster\"] = cluster_num \\n    spread_hikes_by_time_gap[time] = data_sp.groupby([\"user_id\"]).max()[\"time_cluster\"].describe().values\\nspread_hikes_by_time_gap\\n'"
      ]
     },
     "execution_count": 40,
     "metadata": {},
     "output_type": "execute_result"
    }
   ],
   "source": [
    "#uses code above to compare different time gaps for clustering a \"hike\"\n",
    "#tries to compare spread for different time gaps but takes SOOOOOO long to run and not sure it's useful\n",
    "# so it's commented out for now\n",
    "# STILL, there is a question of \"what arbitrary cut-off is there for 'proximity in time' as a single 'hike'?\n",
    "'''\n",
    "users = data_sp[\"user_id\"].unique() \n",
    "spread_hikes_by_time_gap = {}\n",
    "max_gap_min = [60, 120, 180, 240] \n",
    "for time in max_gap_min:\n",
    "    data_sp[\"time_cluster\"] = 1\n",
    "    for user in users:\n",
    "        cluster_num = 1 \n",
    "        min_index = data_sp.index[data_sp[\"user_id\"] == user].min()\n",
    "        max_index = data_sp.index[data_sp[\"user_id\"] == user].max()\n",
    "        for i in range(min_index + 1, max_index + 1):  \n",
    "            if data_sp[data_sp[\"user_id\"] == user][\"time_diff\"][i] <= time:\n",
    "                data_sp.loc[i, \"time_cluster\"] = cluster_num  \n",
    "            else: \n",
    "                cluster_num += 1\n",
    "                data_sp.loc[i, \"time_cluster\"] = cluster_num \n",
    "    spread_hikes_by_time_gap[time] = data_sp.groupby([\"user_id\"]).max()[\"time_cluster\"].describe().values\n",
    "spread_hikes_by_time_gap\n",
    "''' \n"
   ]
  },
  {
   "cell_type": "code",
   "execution_count": 41,
   "id": "2efa63b8",
   "metadata": {},
   "outputs": [
    {
     "data": {
      "text/plain": [
       "'\\nnum_hikes = data_sp.groupby([\"user_id\"]).nunique()[\"time_cluster\"]\\nnum_obs = data_sp.groupby([\"user_id\"]).count()[\"time_cluster\"]\\nplt.figure()\\nplt.xlabel(\"Number of Observations\")\\nplt.ylabel(\"Number of Clusters by Time\")\\nplt.title(\"As Expected, Strong Positive Correlation Between \\nNumber of Observations and Number of \\'Hikes\\'\")\\nplt.scatter(num_obs,num_hikes)\\nplt.show()\\n'"
      ]
     },
     "execution_count": 41,
     "metadata": {},
     "output_type": "execute_result"
    }
   ],
   "source": [
    "'''\n",
    "num_hikes = data_sp.groupby([\"user_id\"]).nunique()[\"time_cluster\"]\n",
    "num_obs = data_sp.groupby([\"user_id\"]).count()[\"time_cluster\"]\n",
    "plt.figure()\n",
    "plt.xlabel(\"Number of Observations\")\n",
    "plt.ylabel(\"Number of Clusters by Time\")\n",
    "plt.title(\"As Expected, Strong Positive Correlation Between \\nNumber of Observations and Number of 'Hikes'\")\n",
    "plt.scatter(num_obs,num_hikes)\n",
    "plt.show()\n",
    "'''"
   ]
  },
  {
   "cell_type": "code",
   "execution_count": 42,
   "id": "c7ef3c6a",
   "metadata": {},
   "outputs": [
    {
     "data": {
      "text/plain": [
       "'\\n# central tendencies and spread of number of observations per user\\ndata_sp.groupby([\"user_id\"]).count()[\"time_cluster\"].describe()\\n'"
      ]
     },
     "execution_count": 42,
     "metadata": {},
     "output_type": "execute_result"
    }
   ],
   "source": [
    "'''\n",
    "# central tendencies and spread of number of observations per user\n",
    "data_sp.groupby([\"user_id\"]).count()[\"time_cluster\"].describe()\n",
    "'''"
   ]
  },
  {
   "cell_type": "code",
   "execution_count": 43,
   "id": "705ae26c",
   "metadata": {},
   "outputs": [
    {
     "data": {
      "text/plain": [
       "'\\n# central tendencies and spread of number of hikes per user\\ndata_sp.groupby([\"user_id\"]).max()[\"time_cluster\"].describe()\\n'"
      ]
     },
     "execution_count": 43,
     "metadata": {},
     "output_type": "execute_result"
    }
   ],
   "source": [
    "'''\n",
    "# central tendencies and spread of number of hikes per user\n",
    "data_sp.groupby([\"user_id\"]).max()[\"time_cluster\"].describe()\n",
    "'''"
   ]
  },
  {
   "cell_type": "code",
   "execution_count": 44,
   "id": "d3f98868",
   "metadata": {},
   "outputs": [
    {
     "data": {
      "text/plain": [
       "'\\n#distribution of number of hikes per user\\nplt.figure()\\nplt.hist(data_sp.groupby([\"user_id\"]).max()[\"time_cluster\"].values, bins = 30)\\nplt.xlabel(\"Number of \\'Hikes\\' by Time Clustering\")\\nplt.ylabel(\"Count of Observers\")\\nplt.title(f\\'As Expected, Clustering at Low End with Outlier Users Posting Much More Often\\')\\nplt.show()\\n'"
      ]
     },
     "execution_count": 44,
     "metadata": {},
     "output_type": "execute_result"
    }
   ],
   "source": [
    "'''\n",
    "#distribution of number of hikes per user\n",
    "plt.figure()\n",
    "plt.hist(data_sp.groupby([\"user_id\"]).max()[\"time_cluster\"].values, bins = 30)\n",
    "plt.xlabel(\"Number of 'Hikes' by Time Clustering\")\n",
    "plt.ylabel(\"Count of Observers\")\n",
    "plt.title(f'As Expected, Clustering at Low End with Outlier Users Posting Much More Often')\n",
    "plt.show()\n",
    "'''"
   ]
  },
  {
   "cell_type": "code",
   "execution_count": null,
   "id": "1aaeb466",
   "metadata": {},
   "outputs": [],
   "source": []
  }
 ],
 "metadata": {
  "kernelspec": {
   "display_name": "Python 3 (ipykernel)",
   "language": "python",
   "name": "python3"
  },
  "language_info": {
   "codemirror_mode": {
    "name": "ipython",
    "version": 3
   },
   "file_extension": ".py",
   "mimetype": "text/x-python",
   "name": "python",
   "nbconvert_exporter": "python",
   "pygments_lexer": "ipython3",
   "version": "3.11.4"
  }
 },
 "nbformat": 4,
 "nbformat_minor": 5
}
