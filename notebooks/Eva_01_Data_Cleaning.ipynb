{
 "cells": [
  {
   "cell_type": "code",
   "execution_count": 1,
   "id": "0df7a9db",
   "metadata": {},
   "outputs": [],
   "source": [
    "import pandas as pd\n",
    "import numpy as np\n",
    "import matplotlib.pyplot as plt\n",
    "import seaborn as sns\n",
    "from scipy import stats\n",
    "import statsmodels.api as sm\n",
    "\n",
    "%matplotlib inline "
   ]
  },
  {
   "cell_type": "code",
   "execution_count": 3,
   "id": "716ebd88",
   "metadata": {
    "scrolled": true
   },
   "outputs": [
    {
     "name": "stderr",
     "output_type": "stream",
     "text": [
      "C:\\Users\\lisa_\\AppData\\Local\\Temp\\ipykernel_1164\\1506808894.py:1: DtypeWarning: Columns (11,24,27,28,29) have mixed types. Specify dtype option on import or set low_memory=False.\n",
      "  data_eva = pd.read_csv(\"../data/observations-evanaturalist.csv\")\n"
     ]
    },
    {
     "data": {
      "text/html": [
       "<div>\n",
       "<style scoped>\n",
       "    .dataframe tbody tr th:only-of-type {\n",
       "        vertical-align: middle;\n",
       "    }\n",
       "\n",
       "    .dataframe tbody tr th {\n",
       "        vertical-align: top;\n",
       "    }\n",
       "\n",
       "    .dataframe thead th {\n",
       "        text-align: right;\n",
       "    }\n",
       "</style>\n",
       "<table border=\"1\" class=\"dataframe\">\n",
       "  <thead>\n",
       "    <tr style=\"text-align: right;\">\n",
       "      <th></th>\n",
       "      <th>id</th>\n",
       "      <th>time_observed_at</th>\n",
       "      <th>time_zone</th>\n",
       "      <th>created_at</th>\n",
       "      <th>updated_at</th>\n",
       "      <th>quality_grade</th>\n",
       "      <th>license</th>\n",
       "      <th>url</th>\n",
       "      <th>image_url</th>\n",
       "      <th>sound_url</th>\n",
       "      <th>...</th>\n",
       "      <th>scientific_name</th>\n",
       "      <th>common_name</th>\n",
       "      <th>iconic_taxon_name</th>\n",
       "      <th>taxon_id</th>\n",
       "      <th>taxon_kingdom_name</th>\n",
       "      <th>taxon_class_name</th>\n",
       "      <th>taxon_order_name</th>\n",
       "      <th>taxon_family_name</th>\n",
       "      <th>taxon_genus_name</th>\n",
       "      <th>taxon_species_name</th>\n",
       "    </tr>\n",
       "  </thead>\n",
       "  <tbody>\n",
       "    <tr>\n",
       "      <th>0</th>\n",
       "      <td>14999692</td>\n",
       "      <td>NaN</td>\n",
       "      <td>Eastern Time (US &amp; Canada)</td>\n",
       "      <td>2018-07-31 23:09:40 UTC</td>\n",
       "      <td>2018-11-22 10:29:33 UTC</td>\n",
       "      <td>research</td>\n",
       "      <td>CC-BY-NC</td>\n",
       "      <td>https://www.inaturalist.org/observations/14999692</td>\n",
       "      <td>https://inaturalist-open-data.s3.amazonaws.com...</td>\n",
       "      <td>NaN</td>\n",
       "      <td>...</td>\n",
       "      <td>Ambystoma texanum</td>\n",
       "      <td>Small-mouthed Salamander</td>\n",
       "      <td>Amphibia</td>\n",
       "      <td>26745.0</td>\n",
       "      <td>Animalia</td>\n",
       "      <td>Amphibia</td>\n",
       "      <td>Caudata</td>\n",
       "      <td>Ambystomatidae</td>\n",
       "      <td>Ambystoma</td>\n",
       "      <td>Ambystoma texanum</td>\n",
       "    </tr>\n",
       "    <tr>\n",
       "      <th>1</th>\n",
       "      <td>15000453</td>\n",
       "      <td>NaN</td>\n",
       "      <td>Eastern Time (US &amp; Canada)</td>\n",
       "      <td>2018-07-31 23:39:47 UTC</td>\n",
       "      <td>2023-04-23 23:36:37 UTC</td>\n",
       "      <td>needs_id</td>\n",
       "      <td>CC-BY-NC</td>\n",
       "      <td>https://www.inaturalist.org/observations/15000453</td>\n",
       "      <td>https://inaturalist-open-data.s3.amazonaws.com...</td>\n",
       "      <td>NaN</td>\n",
       "      <td>...</td>\n",
       "      <td>Spilosoma virginica</td>\n",
       "      <td>Virginian Tiger Moth</td>\n",
       "      <td>Insecta</td>\n",
       "      <td>60839.0</td>\n",
       "      <td>Animalia</td>\n",
       "      <td>Insecta</td>\n",
       "      <td>Lepidoptera</td>\n",
       "      <td>Erebidae</td>\n",
       "      <td>Spilosoma</td>\n",
       "      <td>Spilosoma virginica</td>\n",
       "    </tr>\n",
       "    <tr>\n",
       "      <th>2</th>\n",
       "      <td>15005158</td>\n",
       "      <td>NaN</td>\n",
       "      <td>Eastern Time (US &amp; Canada)</td>\n",
       "      <td>2018-08-01 02:27:54 UTC</td>\n",
       "      <td>2018-08-03 23:12:43 UTC</td>\n",
       "      <td>needs_id</td>\n",
       "      <td>CC-BY-NC</td>\n",
       "      <td>https://www.inaturalist.org/observations/15005158</td>\n",
       "      <td>https://inaturalist-open-data.s3.amazonaws.com...</td>\n",
       "      <td>NaN</td>\n",
       "      <td>...</td>\n",
       "      <td>Alisma</td>\n",
       "      <td>water-plantains</td>\n",
       "      <td>Plantae</td>\n",
       "      <td>60254.0</td>\n",
       "      <td>Plantae</td>\n",
       "      <td>Liliopsida</td>\n",
       "      <td>Alismatales</td>\n",
       "      <td>Alismataceae</td>\n",
       "      <td>Alisma</td>\n",
       "      <td>NaN</td>\n",
       "    </tr>\n",
       "    <tr>\n",
       "      <th>3</th>\n",
       "      <td>15029656</td>\n",
       "      <td>NaN</td>\n",
       "      <td>Eastern Time (US &amp; Canada)</td>\n",
       "      <td>2018-08-01 22:37:42 UTC</td>\n",
       "      <td>2023-10-22 08:00:22 UTC</td>\n",
       "      <td>needs_id</td>\n",
       "      <td>CC-BY-NC</td>\n",
       "      <td>https://www.inaturalist.org/observations/15029656</td>\n",
       "      <td>https://inaturalist-open-data.s3.amazonaws.com...</td>\n",
       "      <td>NaN</td>\n",
       "      <td>...</td>\n",
       "      <td>Sagittaria sagittifolia</td>\n",
       "      <td>Sagittifolia group</td>\n",
       "      <td>Plantae</td>\n",
       "      <td>1504193.0</td>\n",
       "      <td>Plantae</td>\n",
       "      <td>Liliopsida</td>\n",
       "      <td>Alismatales</td>\n",
       "      <td>Alismataceae</td>\n",
       "      <td>Sagittaria</td>\n",
       "      <td>NaN</td>\n",
       "    </tr>\n",
       "    <tr>\n",
       "      <th>4</th>\n",
       "      <td>15029889</td>\n",
       "      <td>NaN</td>\n",
       "      <td>Eastern Time (US &amp; Canada)</td>\n",
       "      <td>2018-08-01 22:46:35 UTC</td>\n",
       "      <td>2018-08-01 22:46:39 UTC</td>\n",
       "      <td>needs_id</td>\n",
       "      <td>CC-BY-NC</td>\n",
       "      <td>https://www.inaturalist.org/observations/15029889</td>\n",
       "      <td>https://inaturalist-open-data.s3.amazonaws.com...</td>\n",
       "      <td>NaN</td>\n",
       "      <td>...</td>\n",
       "      <td>Pleurotus ostreatus</td>\n",
       "      <td>Oyster Mushroom</td>\n",
       "      <td>Fungi</td>\n",
       "      <td>48494.0</td>\n",
       "      <td>Fungi</td>\n",
       "      <td>Agaricomycetes</td>\n",
       "      <td>Agaricales</td>\n",
       "      <td>Pleurotaceae</td>\n",
       "      <td>Pleurotus</td>\n",
       "      <td>Pleurotus ostreatus</td>\n",
       "    </tr>\n",
       "  </tbody>\n",
       "</table>\n",
       "<p>5 rows × 44 columns</p>\n",
       "</div>"
      ],
      "text/plain": [
       "         id time_observed_at                   time_zone  \\\n",
       "0  14999692              NaN  Eastern Time (US & Canada)   \n",
       "1  15000453              NaN  Eastern Time (US & Canada)   \n",
       "2  15005158              NaN  Eastern Time (US & Canada)   \n",
       "3  15029656              NaN  Eastern Time (US & Canada)   \n",
       "4  15029889              NaN  Eastern Time (US & Canada)   \n",
       "\n",
       "                created_at               updated_at quality_grade   license  \\\n",
       "0  2018-07-31 23:09:40 UTC  2018-11-22 10:29:33 UTC      research  CC-BY-NC   \n",
       "1  2018-07-31 23:39:47 UTC  2023-04-23 23:36:37 UTC      needs_id  CC-BY-NC   \n",
       "2  2018-08-01 02:27:54 UTC  2018-08-03 23:12:43 UTC      needs_id  CC-BY-NC   \n",
       "3  2018-08-01 22:37:42 UTC  2023-10-22 08:00:22 UTC      needs_id  CC-BY-NC   \n",
       "4  2018-08-01 22:46:35 UTC  2018-08-01 22:46:39 UTC      needs_id  CC-BY-NC   \n",
       "\n",
       "                                                 url  \\\n",
       "0  https://www.inaturalist.org/observations/14999692   \n",
       "1  https://www.inaturalist.org/observations/15000453   \n",
       "2  https://www.inaturalist.org/observations/15005158   \n",
       "3  https://www.inaturalist.org/observations/15029656   \n",
       "4  https://www.inaturalist.org/observations/15029889   \n",
       "\n",
       "                                           image_url  sound_url  ...  \\\n",
       "0  https://inaturalist-open-data.s3.amazonaws.com...        NaN  ...   \n",
       "1  https://inaturalist-open-data.s3.amazonaws.com...        NaN  ...   \n",
       "2  https://inaturalist-open-data.s3.amazonaws.com...        NaN  ...   \n",
       "3  https://inaturalist-open-data.s3.amazonaws.com...        NaN  ...   \n",
       "4  https://inaturalist-open-data.s3.amazonaws.com...        NaN  ...   \n",
       "\n",
       "           scientific_name               common_name  iconic_taxon_name  \\\n",
       "0        Ambystoma texanum  Small-mouthed Salamander           Amphibia   \n",
       "1      Spilosoma virginica      Virginian Tiger Moth            Insecta   \n",
       "2                   Alisma           water-plantains            Plantae   \n",
       "3  Sagittaria sagittifolia        Sagittifolia group            Plantae   \n",
       "4      Pleurotus ostreatus           Oyster Mushroom              Fungi   \n",
       "\n",
       "    taxon_id  taxon_kingdom_name  taxon_class_name taxon_order_name  \\\n",
       "0    26745.0            Animalia          Amphibia          Caudata   \n",
       "1    60839.0            Animalia           Insecta      Lepidoptera   \n",
       "2    60254.0             Plantae        Liliopsida      Alismatales   \n",
       "3  1504193.0             Plantae        Liliopsida      Alismatales   \n",
       "4    48494.0               Fungi    Agaricomycetes       Agaricales   \n",
       "\n",
       "   taxon_family_name  taxon_genus_name   taxon_species_name  \n",
       "0     Ambystomatidae         Ambystoma    Ambystoma texanum  \n",
       "1           Erebidae         Spilosoma  Spilosoma virginica  \n",
       "2       Alismataceae            Alisma                  NaN  \n",
       "3       Alismataceae        Sagittaria                  NaN  \n",
       "4       Pleurotaceae         Pleurotus  Pleurotus ostreatus  \n",
       "\n",
       "[5 rows x 44 columns]"
      ]
     },
     "execution_count": 3,
     "metadata": {},
     "output_type": "execute_result"
    }
   ],
   "source": [
    "data_eva = pd.read_csv(\"../data/observations-evanaturalist.csv\")\n",
    "data_eva.head()"
   ]
  },
  {
   "cell_type": "code",
   "execution_count": 5,
   "id": "f7bab9c4",
   "metadata": {},
   "outputs": [
    {
     "name": "stdout",
     "output_type": "stream",
     "text": [
      "<class 'pandas.core.frame.DataFrame'>\n",
      "RangeIndex: 90752 entries, 0 to 90751\n",
      "Data columns (total 44 columns):\n",
      " #   Column                            Non-Null Count  Dtype  \n",
      "---  ------                            --------------  -----  \n",
      " 0   id                                90752 non-null  int64  \n",
      " 1   time_observed_at                  89052 non-null  object \n",
      " 2   time_zone                         90752 non-null  object \n",
      " 3   created_at                        90752 non-null  object \n",
      " 4   updated_at                        90752 non-null  object \n",
      " 5   quality_grade                     90752 non-null  object \n",
      " 6   license                           90751 non-null  object \n",
      " 7   url                               90752 non-null  object \n",
      " 8   image_url                         90752 non-null  object \n",
      " 9   sound_url                         0 non-null      float64\n",
      " 10  tag_list                          0 non-null      float64\n",
      " 11  description                       625 non-null    object \n",
      " 12  num_identification_agreements     90752 non-null  int64  \n",
      " 13  num_identification_disagreements  90752 non-null  int64  \n",
      " 14  captive_cultivated                90752 non-null  bool   \n",
      " 15  oauth_application_id              734 non-null    float64\n",
      " 16  place_guess                       90748 non-null  object \n",
      " 17  latitude                          90748 non-null  float64\n",
      " 18  longitude                         90748 non-null  float64\n",
      " 19  positional_accuracy               90041 non-null  float64\n",
      " 20  private_place_guess               0 non-null      float64\n",
      " 21  private_latitude                  0 non-null      float64\n",
      " 22  private_longitude                 0 non-null      float64\n",
      " 23  public_positional_accuracy        90042 non-null  float64\n",
      " 24  geoprivacy                        4 non-null      object \n",
      " 25  taxon_geoprivacy                  15826 non-null  object \n",
      " 26  coordinates_obscured              90752 non-null  bool   \n",
      " 27  positioning_method                669 non-null    object \n",
      " 28  positioning_device                669 non-null    object \n",
      " 29  place_town_name                   2719 non-null   object \n",
      " 30  place_county_name                 90727 non-null  object \n",
      " 31  place_state_name                  90748 non-null  object \n",
      " 32  place_country_name                90748 non-null  object \n",
      " 33  species_guess                     90743 non-null  object \n",
      " 34  scientific_name                   90750 non-null  object \n",
      " 35  common_name                       85791 non-null  object \n",
      " 36  iconic_taxon_name                 90658 non-null  object \n",
      " 37  taxon_id                          90751 non-null  float64\n",
      " 38  taxon_kingdom_name                90733 non-null  object \n",
      " 39  taxon_class_name                  85070 non-null  object \n",
      " 40  taxon_order_name                  83530 non-null  object \n",
      " 41  taxon_family_name                 79952 non-null  object \n",
      " 42  taxon_genus_name                  74429 non-null  object \n",
      " 43  taxon_species_name                59689 non-null  object \n",
      "dtypes: bool(2), float64(11), int64(3), object(28)\n",
      "memory usage: 29.3+ MB\n"
     ]
    }
   ],
   "source": [
    "data_eva.info()"
   ]
  },
  {
   "cell_type": "markdown",
   "id": "8bac01d9",
   "metadata": {},
   "source": [
    "## Checking Positional Accuracy for Comparison to Greg's Data"
   ]
  },
  {
   "cell_type": "code",
   "execution_count": 6,
   "id": "743a5893",
   "metadata": {},
   "outputs": [
    {
     "data": {
      "text/plain": [
       "count    9.004100e+04\n",
       "mean     1.004048e+03\n",
       "std      1.135891e+04\n",
       "min      1.000000e+00\n",
       "25%      2.000000e+00\n",
       "50%      8.000000e+00\n",
       "75%      1.010000e+02\n",
       "max      1.247072e+06\n",
       "Name: positional_accuracy, dtype: float64"
      ]
     },
     "execution_count": 6,
     "metadata": {},
     "output_type": "execute_result"
    }
   ],
   "source": [
    "data_eva[\"positional_accuracy\"].describe()"
   ]
  },
  {
   "cell_type": "code",
   "execution_count": 7,
   "id": "ade6edbf",
   "metadata": {},
   "outputs": [
    {
     "data": {
      "text/plain": [
       "58643"
      ]
     },
     "execution_count": 7,
     "metadata": {},
     "output_type": "execute_result"
    }
   ],
   "source": [
    "# Approximately double Greg's entries with positional accuracy <= 30 m \n",
    "data_eva[data_eva['positional_accuracy'] <= 30].shape[0]"
   ]
  },
  {
   "cell_type": "code",
   "execution_count": 9,
   "id": "a737ab6b",
   "metadata": {},
   "outputs": [
    {
     "name": "stdout",
     "output_type": "stream",
     "text": [
      "The non null set of positional_accuracy has 90041 values\n"
     ]
    },
    {
     "data": {
      "image/png": "[encoded data removed]",
      "text/plain": [
       "<Figure size 640x480 with 1 Axes>"
      ]
     },
     "metadata": {},
     "output_type": "display_data"
    }
   ],
   "source": [
    "# boxplot of positional accuracy non null values\n",
    "PA_notnull = pd.DataFrame(data_eva[data_eva[\"positional_accuracy\"].notnull()][\"positional_accuracy\"])\n",
    "sns.boxplot(x = \"positional_accuracy\", data = PA_notnull).set_title(\"Spread of Positional Accuracy Values\")\n",
    "print(f'The non null set of positional_accuracy has {PA_notnull.shape[0]} values')"
   ]
  },
  {
   "cell_type": "code",
   "execution_count": 23,
   "id": "895ef460",
   "metadata": {},
   "outputs": [
    {
     "name": "stdout",
     "output_type": "stream",
     "text": [
      "The non null set of positional_accuracy with values less than 10000m has 87682 values\n"
     ]
    },
    {
     "data": {
      "image/png": "[encoded data removed]",
      "text/plain": [
       "<Figure size 640x480 with 1 Axes>"
      ]
     },
     "metadata": {},
     "output_type": "display_data"
    }
   ],
   "source": [
    "# again with limits\n",
    "Limit = 10000\n",
    "sns.boxplot(x = \"positional_accuracy\", data = PA_notnull[PA_notnull[\"positional_accuracy\"] < Limit]).set_title(f'Spread of Positional Accuracy Values less than {Limit}m')\n",
    "print(f'The non null set of positional_accuracy with values less than {Limit}m has {PA_notnull[PA_notnull[\"positional_accuracy\"] < Limit].shape[0]} values')"
   ]
  },
  {
   "cell_type": "code",
   "execution_count": 24,
   "id": "c5a681bd",
   "metadata": {},
   "outputs": [
    {
     "name": "stdout",
     "output_type": "stream",
     "text": [
      "The non null set of positional_accuracy with values less than 200m has 81693 values\n"
     ]
    },
    {
     "data": {
      "image/png": "[encoded data removed]",
      "text/plain": [
       "<Figure size 640x480 with 1 Axes>"
      ]
     },
     "metadata": {},
     "output_type": "display_data"
    }
   ],
   "source": [
    "# again with limits\n",
    "Limit = 200\n",
    "sns.boxplot(x = \"positional_accuracy\", data = PA_notnull[PA_notnull[\"positional_accuracy\"] < Limit]).set_title(f'Spread of Positional Accuracy Values less than {Limit}m')\n",
    "print(f'The non null set of positional_accuracy with values less than {Limit}m has {PA_notnull[PA_notnull[\"positional_accuracy\"] < Limit].shape[0]} values')"
   ]
  },
  {
   "cell_type": "code",
   "execution_count": 28,
   "id": "4ae89fee",
   "metadata": {},
   "outputs": [
    {
     "data": {
      "text/plain": [
       "34124"
      ]
     },
     "execution_count": 28,
     "metadata": {},
     "output_type": "execute_result"
    }
   ],
   "source": [
    "# number of Plantae observations with positional accuracy 30 m or less\n",
    "data_eva[(data_eva[\"iconic_taxon_name\"] == 'Plantae') & (data_eva[\"positional_accuracy\"] <= 30)].shape[0]"
   ]
  },
  {
   "cell_type": "code",
   "execution_count": null,
   "id": "304d860f",
   "metadata": {},
   "outputs": [],
   "source": []
  }
 ],
 "metadata": {
  "kernelspec": {
   "display_name": "Python 3 (ipykernel)",
   "language": "python",
   "name": "python3"
  },
  "language_info": {
   "codemirror_mode": {
    "name": "ipython",
    "version": 3
   },
   "file_extension": ".py",
   "mimetype": "text/x-python",
   "name": "python",
   "nbconvert_exporter": "python",
   "pygments_lexer": "ipython3",
   "version": "3.11.4"
  }
 },
 "nbformat": 4,
 "nbformat_minor": 5
}
