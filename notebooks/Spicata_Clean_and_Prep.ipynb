{
 "cells": [
  {
   "cell_type": "code",
   "execution_count": 1,
   "id": "8724a6d7",
   "metadata": {},
   "outputs": [],
   "source": [
    "import pandas as pd\n",
    "import numpy as np\n",
    "import matplotlib.pyplot as plt\n",
    "import seaborn as sns\n",
    "from scipy import stats\n",
    "import statsmodels.api as sm\n",
    "import random\n",
    "\n",
    "%matplotlib inline "
   ]
  },
  {
   "cell_type": "markdown",
   "id": "be3426bf",
   "metadata": {},
   "source": [
    "# All iNaturalist Records of Lobelia Spicata inside of the U.S.\n",
    "Spicata is the target species. It has a similar number of U.S. observations as does Yellow Lady's Slipper and Spring Ladies' Tresses, yet those species have higher level conservation status than Spicata so, if studied, Spicata's latitude and longitude won't be obscured via a taxon geoprivacy, making it data that I can use for validation of models.\n",
    "\n",
    "To simulate how I imagine someone might target an endangered species, I pulled all observations of Spicata and from there a list of users whose records will have \"clues\" about the location of the Spicata plants. For validation purposes, I also need to make sure the user's observations had an actual public positional accuracy of at least 30 m. "
   ]
  },
  {
   "cell_type": "code",
   "execution_count": 2,
   "id": "b4b5bce0",
   "metadata": {},
   "outputs": [
    {
     "data": {
      "text/html": [
       "<div>\n",
       "<style scoped>\n",
       "    .dataframe tbody tr th:only-of-type {\n",
       "        vertical-align: middle;\n",
       "    }\n",
       "\n",
       "    .dataframe tbody tr th {\n",
       "        vertical-align: top;\n",
       "    }\n",
       "\n",
       "    .dataframe thead th {\n",
       "        text-align: right;\n",
       "    }\n",
       "</style>\n",
       "<table border=\"1\" class=\"dataframe\">\n",
       "  <thead>\n",
       "    <tr style=\"text-align: right;\">\n",
       "      <th></th>\n",
       "      <th>id</th>\n",
       "      <th>observed_on_string</th>\n",
       "      <th>observed_on</th>\n",
       "      <th>time_observed_at</th>\n",
       "      <th>time_zone</th>\n",
       "      <th>user_id</th>\n",
       "      <th>user_login</th>\n",
       "      <th>user_name</th>\n",
       "      <th>created_at</th>\n",
       "      <th>updated_at</th>\n",
       "      <th>...</th>\n",
       "      <th>taxon_supertribe_name</th>\n",
       "      <th>taxon_tribe_name</th>\n",
       "      <th>taxon_subtribe_name</th>\n",
       "      <th>taxon_genus_name</th>\n",
       "      <th>taxon_genushybrid_name</th>\n",
       "      <th>taxon_species_name</th>\n",
       "      <th>taxon_hybrid_name</th>\n",
       "      <th>taxon_subspecies_name</th>\n",
       "      <th>taxon_variety_name</th>\n",
       "      <th>taxon_form_name</th>\n",
       "    </tr>\n",
       "  </thead>\n",
       "  <tbody>\n",
       "    <tr>\n",
       "      <th>0</th>\n",
       "      <td>82406</td>\n",
       "      <td>May 20, 2012 16:44</td>\n",
       "      <td>2012-05-20</td>\n",
       "      <td>2012-05-20 21:44:00 UTC</td>\n",
       "      <td>Central Time (US &amp; Canada)</td>\n",
       "      <td>604</td>\n",
       "      <td>eric_hunt</td>\n",
       "      <td>Eric Hunt</td>\n",
       "      <td>2012-05-23 22:43:55 UTC</td>\n",
       "      <td>2020-12-09 10:50:50 UTC</td>\n",
       "      <td>...</td>\n",
       "      <td>NaN</td>\n",
       "      <td>NaN</td>\n",
       "      <td>NaN</td>\n",
       "      <td>Lobelia</td>\n",
       "      <td>NaN</td>\n",
       "      <td>Lobelia spicata</td>\n",
       "      <td>NaN</td>\n",
       "      <td>NaN</td>\n",
       "      <td>NaN</td>\n",
       "      <td>NaN</td>\n",
       "    </tr>\n",
       "    <tr>\n",
       "      <th>1</th>\n",
       "      <td>82408</td>\n",
       "      <td>May 20, 2012 16:19</td>\n",
       "      <td>2012-05-20</td>\n",
       "      <td>2012-05-20 21:19:00 UTC</td>\n",
       "      <td>Central Time (US &amp; Canada)</td>\n",
       "      <td>604</td>\n",
       "      <td>eric_hunt</td>\n",
       "      <td>Eric Hunt</td>\n",
       "      <td>2012-05-23 22:46:36 UTC</td>\n",
       "      <td>2020-12-09 10:50:51 UTC</td>\n",
       "      <td>...</td>\n",
       "      <td>NaN</td>\n",
       "      <td>NaN</td>\n",
       "      <td>NaN</td>\n",
       "      <td>Lobelia</td>\n",
       "      <td>NaN</td>\n",
       "      <td>Lobelia spicata</td>\n",
       "      <td>NaN</td>\n",
       "      <td>NaN</td>\n",
       "      <td>NaN</td>\n",
       "      <td>NaN</td>\n",
       "    </tr>\n",
       "    <tr>\n",
       "      <th>2</th>\n",
       "      <td>87039</td>\n",
       "      <td>Sun Jun 03 2012 09:52:31 GMT-0400 (EDT)</td>\n",
       "      <td>2012-06-03</td>\n",
       "      <td>2012-06-03 13:52:31 UTC</td>\n",
       "      <td>Eastern Time (US &amp; Canada)</td>\n",
       "      <td>477</td>\n",
       "      <td>loarie</td>\n",
       "      <td>Scott Loarie</td>\n",
       "      <td>2012-06-04 05:25:45 UTC</td>\n",
       "      <td>2019-07-02 19:37:38 UTC</td>\n",
       "      <td>...</td>\n",
       "      <td>NaN</td>\n",
       "      <td>NaN</td>\n",
       "      <td>NaN</td>\n",
       "      <td>Lobelia</td>\n",
       "      <td>NaN</td>\n",
       "      <td>Lobelia spicata</td>\n",
       "      <td>NaN</td>\n",
       "      <td>NaN</td>\n",
       "      <td>NaN</td>\n",
       "      <td>NaN</td>\n",
       "    </tr>\n",
       "    <tr>\n",
       "      <th>3</th>\n",
       "      <td>92772</td>\n",
       "      <td>June 16, 2012 05:40</td>\n",
       "      <td>2012-06-16</td>\n",
       "      <td>2012-06-16 12:40:00 UTC</td>\n",
       "      <td>Pacific Time (US &amp; Canada)</td>\n",
       "      <td>477</td>\n",
       "      <td>loarie</td>\n",
       "      <td>Scott Loarie</td>\n",
       "      <td>2012-06-18 18:04:31 UTC</td>\n",
       "      <td>2015-10-08 14:36:10 UTC</td>\n",
       "      <td>...</td>\n",
       "      <td>NaN</td>\n",
       "      <td>NaN</td>\n",
       "      <td>NaN</td>\n",
       "      <td>Lobelia</td>\n",
       "      <td>NaN</td>\n",
       "      <td>Lobelia spicata</td>\n",
       "      <td>NaN</td>\n",
       "      <td>NaN</td>\n",
       "      <td>NaN</td>\n",
       "      <td>NaN</td>\n",
       "    </tr>\n",
       "    <tr>\n",
       "      <th>4</th>\n",
       "      <td>195645</td>\n",
       "      <td>2008-07-06</td>\n",
       "      <td>2008-07-06</td>\n",
       "      <td>NaN</td>\n",
       "      <td>Eastern Time (US &amp; Canada)</td>\n",
       "      <td>12610</td>\n",
       "      <td>susanelliott</td>\n",
       "      <td>Susan Elliott</td>\n",
       "      <td>2013-02-10 18:04:29 UTC</td>\n",
       "      <td>2020-02-19 21:15:23 UTC</td>\n",
       "      <td>...</td>\n",
       "      <td>NaN</td>\n",
       "      <td>NaN</td>\n",
       "      <td>NaN</td>\n",
       "      <td>Lobelia</td>\n",
       "      <td>NaN</td>\n",
       "      <td>Lobelia spicata</td>\n",
       "      <td>NaN</td>\n",
       "      <td>NaN</td>\n",
       "      <td>NaN</td>\n",
       "      <td>NaN</td>\n",
       "    </tr>\n",
       "  </tbody>\n",
       "</table>\n",
       "<p>5 rows × 67 columns</p>\n",
       "</div>"
      ],
      "text/plain": [
       "       id                       observed_on_string observed_on  \\\n",
       "0   82406                       May 20, 2012 16:44  2012-05-20   \n",
       "1   82408                       May 20, 2012 16:19  2012-05-20   \n",
       "2   87039  Sun Jun 03 2012 09:52:31 GMT-0400 (EDT)  2012-06-03   \n",
       "3   92772                      June 16, 2012 05:40  2012-06-16   \n",
       "4  195645                               2008-07-06  2008-07-06   \n",
       "\n",
       "          time_observed_at                   time_zone  user_id    user_login  \\\n",
       "0  2012-05-20 21:44:00 UTC  Central Time (US & Canada)      604     eric_hunt   \n",
       "1  2012-05-20 21:19:00 UTC  Central Time (US & Canada)      604     eric_hunt   \n",
       "2  2012-06-03 13:52:31 UTC  Eastern Time (US & Canada)      477        loarie   \n",
       "3  2012-06-16 12:40:00 UTC  Pacific Time (US & Canada)      477        loarie   \n",
       "4                      NaN  Eastern Time (US & Canada)    12610  susanelliott   \n",
       "\n",
       "       user_name               created_at               updated_at  ...  \\\n",
       "0      Eric Hunt  2012-05-23 22:43:55 UTC  2020-12-09 10:50:50 UTC  ...   \n",
       "1      Eric Hunt  2012-05-23 22:46:36 UTC  2020-12-09 10:50:51 UTC  ...   \n",
       "2   Scott Loarie  2012-06-04 05:25:45 UTC  2019-07-02 19:37:38 UTC  ...   \n",
       "3   Scott Loarie  2012-06-18 18:04:31 UTC  2015-10-08 14:36:10 UTC  ...   \n",
       "4  Susan Elliott  2013-02-10 18:04:29 UTC  2020-02-19 21:15:23 UTC  ...   \n",
       "\n",
       "  taxon_supertribe_name taxon_tribe_name taxon_subtribe_name taxon_genus_name  \\\n",
       "0                   NaN              NaN                 NaN          Lobelia   \n",
       "1                   NaN              NaN                 NaN          Lobelia   \n",
       "2                   NaN              NaN                 NaN          Lobelia   \n",
       "3                   NaN              NaN                 NaN          Lobelia   \n",
       "4                   NaN              NaN                 NaN          Lobelia   \n",
       "\n",
       "   taxon_genushybrid_name taxon_species_name taxon_hybrid_name  \\\n",
       "0                     NaN    Lobelia spicata               NaN   \n",
       "1                     NaN    Lobelia spicata               NaN   \n",
       "2                     NaN    Lobelia spicata               NaN   \n",
       "3                     NaN    Lobelia spicata               NaN   \n",
       "4                     NaN    Lobelia spicata               NaN   \n",
       "\n",
       "   taxon_subspecies_name  taxon_variety_name  taxon_form_name  \n",
       "0                    NaN                 NaN              NaN  \n",
       "1                    NaN                 NaN              NaN  \n",
       "2                    NaN                 NaN              NaN  \n",
       "3                    NaN                 NaN              NaN  \n",
       "4                    NaN                 NaN              NaN  \n",
       "\n",
       "[5 rows x 67 columns]"
      ]
     },
     "execution_count": 2,
     "metadata": {},
     "output_type": "execute_result"
    }
   ],
   "source": [
    "df_spicata = pd.read_csv(\"../data/observations_spicata.csv\")\n",
    "df_spicata.head()"
   ]
  },
  {
   "cell_type": "code",
   "execution_count": 3,
   "id": "54720943",
   "metadata": {
    "scrolled": true
   },
   "outputs": [
    {
     "name": "stdout",
     "output_type": "stream",
     "text": [
      "<class 'pandas.core.frame.DataFrame'>\n",
      "RangeIndex: 4547 entries, 0 to 4546\n",
      "Data columns (total 67 columns):\n",
      " #   Column                            Non-Null Count  Dtype  \n",
      "---  ------                            --------------  -----  \n",
      " 0   id                                4547 non-null   int64  \n",
      " 1   observed_on_string                4538 non-null   object \n",
      " 2   observed_on                       4538 non-null   object \n",
      " 3   time_observed_at                  4437 non-null   object \n",
      " 4   time_zone                         4547 non-null   object \n",
      " 5   user_id                           4547 non-null   int64  \n",
      " 6   user_login                        4547 non-null   object \n",
      " 7   user_name                         3079 non-null   object \n",
      " 8   created_at                        4547 non-null   object \n",
      " 9   updated_at                        4547 non-null   object \n",
      " 10  quality_grade                     4547 non-null   object \n",
      " 11  license                           3489 non-null   object \n",
      " 12  url                               4547 non-null   object \n",
      " 13  image_url                         4532 non-null   object \n",
      " 14  sound_url                         0 non-null      float64\n",
      " 15  tag_list                          83 non-null     object \n",
      " 16  description                       319 non-null    object \n",
      " 17  num_identification_agreements     4547 non-null   int64  \n",
      " 18  num_identification_disagreements  4547 non-null   int64  \n",
      " 19  captive_cultivated                4547 non-null   bool   \n",
      " 20  oauth_application_id              3228 non-null   float64\n",
      " 21  place_guess                       4541 non-null   object \n",
      " 22  latitude                          4547 non-null   float64\n",
      " 23  longitude                         4547 non-null   float64\n",
      " 24  positional_accuracy               3619 non-null   float64\n",
      " 25  private_place_guess               0 non-null      float64\n",
      " 26  private_latitude                  0 non-null      float64\n",
      " 27  private_longitude                 0 non-null      float64\n",
      " 28  public_positional_accuracy        3714 non-null   float64\n",
      " 29  geoprivacy                        454 non-null    object \n",
      " 30  taxon_geoprivacy                  2702 non-null   object \n",
      " 31  coordinates_obscured              4547 non-null   bool   \n",
      " 32  positioning_method                771 non-null    object \n",
      " 33  positioning_device                779 non-null    object \n",
      " 34  place_town_name                   200 non-null    object \n",
      " 35  place_county_name                 4547 non-null   object \n",
      " 36  place_state_name                  4547 non-null   object \n",
      " 37  place_country_name                4547 non-null   object \n",
      " 38  place_admin1_name                 4547 non-null   object \n",
      " 39  place_admin2_name                 4547 non-null   object \n",
      " 40  species_guess                     4135 non-null   object \n",
      " 41  scientific_name                   4547 non-null   object \n",
      " 42  common_name                       4540 non-null   object \n",
      " 43  iconic_taxon_name                 4547 non-null   object \n",
      " 44  taxon_id                          4547 non-null   int64  \n",
      " 45  taxon_kingdom_name                4547 non-null   object \n",
      " 46  taxon_phylum_name                 4547 non-null   object \n",
      " 47  taxon_subphylum_name              4547 non-null   object \n",
      " 48  taxon_superclass_name             0 non-null      float64\n",
      " 49  taxon_class_name                  4547 non-null   object \n",
      " 50  taxon_subclass_name               0 non-null      float64\n",
      " 51  taxon_superorder_name             0 non-null      float64\n",
      " 52  taxon_order_name                  4547 non-null   object \n",
      " 53  taxon_suborder_name               0 non-null      float64\n",
      " 54  taxon_superfamily_name            0 non-null      float64\n",
      " 55  taxon_family_name                 4547 non-null   object \n",
      " 56  taxon_subfamily_name              4547 non-null   object \n",
      " 57  taxon_supertribe_name             0 non-null      float64\n",
      " 58  taxon_tribe_name                  0 non-null      float64\n",
      " 59  taxon_subtribe_name               0 non-null      float64\n",
      " 60  taxon_genus_name                  4547 non-null   object \n",
      " 61  taxon_genushybrid_name            0 non-null      float64\n",
      " 62  taxon_species_name                4547 non-null   object \n",
      " 63  taxon_hybrid_name                 0 non-null      float64\n",
      " 64  taxon_subspecies_name             0 non-null      float64\n",
      " 65  taxon_variety_name                30 non-null     object \n",
      " 66  taxon_form_name                   0 non-null      float64\n",
      "dtypes: bool(2), float64(21), int64(5), object(39)\n",
      "memory usage: 2.3+ MB\n"
     ]
    }
   ],
   "source": [
    "df_spicata.info()"
   ]
  },
  {
   "cell_type": "markdown",
   "id": "62182aae",
   "metadata": {},
   "source": [
    "# Comparing public positional accuracy to positional accuracy"
   ]
  },
  {
   "cell_type": "markdown",
   "id": "fa286dd9",
   "metadata": {},
   "source": [
    "Positional accuracy is a kind of confidence measure in the lat/lon provided. An observation is said to be within x meters of the given lat/lon where x is the positional accuracy. A positional accuracy of 30 m or less is considered \"research standard\" [according to iNaturalist](https://www.inaturalist.org/posts/2035-observation-location-accuracy). However, the downloaded data has two categories for positional accuracy--one labelled \"positional accuracy\" and one labelled \"public positional accuracy\". I was not able to find an explanation about the difference on the website so I've compared below with the data. Because I want to use spicata observations where the lat/lon is tied to a positional accuracy of 30 m or less, it's important to know which of the two standards to use, since they do show they differ. "
   ]
  },
  {
   "cell_type": "code",
   "execution_count": 4,
   "id": "f6ebb46e",
   "metadata": {},
   "outputs": [
    {
     "data": {
      "text/plain": [
       "2076"
      ]
     },
     "execution_count": 4,
     "metadata": {},
     "output_type": "execute_result"
    }
   ],
   "source": [
    "# number of spicata observations with public pos acc of 30 m or less\n",
    "(df_spicata[\"public_positional_accuracy\"] <= 30).sum()"
   ]
  },
  {
   "cell_type": "code",
   "execution_count": 5,
   "id": "f60b1967",
   "metadata": {},
   "outputs": [
    {
     "data": {
      "text/plain": [
       "2304"
      ]
     },
     "execution_count": 5,
     "metadata": {},
     "output_type": "execute_result"
    }
   ],
   "source": [
    "# number of spicata observations with pos acc of 30 m or less\n",
    "(df_spicata[\"positional_accuracy\"] <= 30).sum()"
   ]
  },
  {
   "cell_type": "code",
   "execution_count": 6,
   "id": "c062bdce",
   "metadata": {},
   "outputs": [
    {
     "data": {
      "text/plain": [
       "228"
      ]
     },
     "execution_count": 6,
     "metadata": {},
     "output_type": "execute_result"
    }
   ],
   "source": [
    "# suspect the 228 difference between two counts is due to geoprivacy\n",
    "# checking that suspicion \n",
    "\n",
    "#boolean table for all rows--True if positional accuracy is at least 30, but public pos acc is greater\n",
    "truth_table = (df_spicata[df_spicata[\"positional_accuracy\"] <= 30][\"public_positional_accuracy\"] > 30) \n",
    "# an array for those index numbers where the condition is True\n",
    "indices_for_diff = truth_table[truth_table == True].index\n",
    "# len function confirms I've isolated the 228 rows\n",
    "len(indices_for_diff)"
   ]
  },
  {
   "cell_type": "code",
   "execution_count": 7,
   "id": "2ed825de",
   "metadata": {},
   "outputs": [
    {
     "data": {
      "text/plain": [
       "obscured    228\n",
       "Name: geoprivacy, dtype: int64"
      ]
     },
     "execution_count": 7,
     "metadata": {},
     "output_type": "execute_result"
    }
   ],
   "source": [
    "# a count of geoprivacy for those entries shows all of them have \"obscured\" geoprivacy\n",
    "df_spicata.loc[indices_for_diff, \"id\":\"coordinates_obscured\"][\"geoprivacy\"].value_counts()"
   ]
  },
  {
   "cell_type": "markdown",
   "id": "51ef1796",
   "metadata": {},
   "source": [
    "All differences between public pos acc and pos acc are accounted for by an obscured geoprivacy. I am going to extrapolate that information to state that I believe that \"positional accuracy\" is the accuracy attached to the \"private latitude\" and \"private longitude\"--values which are not available to me. Whereas \"public positional accuracy\" is the accuracy attached to the \"latitude\" and \"longitude\" values--which are publicly available to me. So the \"public positional accuracy\" is the metric I need to focus on."
   ]
  },
  {
   "cell_type": "markdown",
   "id": "fc810a82",
   "metadata": {},
   "source": [
    "# Constructing a Dataset around Spicata"
   ]
  },
  {
   "cell_type": "code",
   "execution_count": 8,
   "id": "b919c13c",
   "metadata": {},
   "outputs": [
    {
     "data": {
      "text/plain": [
       "1245"
      ]
     },
     "execution_count": 8,
     "metadata": {},
     "output_type": "execute_result"
    }
   ],
   "source": [
    "# list of all users in US who posted spicata with public positional accuracy <= 30\n",
    "spicata_users = df_spicata[df_spicata[\"public_positional_accuracy\"] <= 30][\"user_id\"].unique().tolist()\n",
    "len(spicata_users)"
   ]
  },
  {
   "cell_type": "markdown",
   "id": "62f299c4",
   "metadata": {},
   "source": [
    "Ideally, I would get to work with all of the data for the full number of users in the set above. And that may be possible as I learn more ways to access the data. But given my current skillset and the way iNaturalist's data query page works, I am using a brute force method of choosing 10 random users at a time from the list of generated users and pulling each user's records by query from the iNaturalist query page until I have a set to explore that has at least 100,000 data points AND at least 100 Spicata records. "
   ]
  },
  {
   "cell_type": "code",
   "execution_count": 9,
   "id": "1e6f445a",
   "metadata": {},
   "outputs": [],
   "source": [
    "# 10 users chosen at random using random.shuffle ALL HAVE BEEN INCLUDED\n",
    "to_remove = [ 635041, 2588524,  923056, 18434,  318468, 1549697, 3583533,\n",
    "       1679129, 2047965, 2570804]"
   ]
  },
  {
   "cell_type": "code",
   "execution_count": 10,
   "id": "42e78773",
   "metadata": {},
   "outputs": [
    {
     "data": {
      "text/plain": [
       "1235"
      ]
     },
     "execution_count": 10,
     "metadata": {},
     "output_type": "execute_result"
    }
   ],
   "source": [
    "for id in to_remove:\n",
    "    spicata_users.remove(id)\n",
    "len(spicata_users)"
   ]
  },
  {
   "cell_type": "code",
   "execution_count": 11,
   "id": "e66602f5",
   "metadata": {},
   "outputs": [],
   "source": [
    "# next 10 random users: HAS BEEN INCLUDED\n",
    "to_remove2 = [787855, 1892152, 542981, 656158, 2248142, 780600, 4659453, 2336149, 3512034, 1773265]\n",
    "to_remove.extend(to_remove2)"
   ]
  },
  {
   "cell_type": "code",
   "execution_count": 12,
   "id": "0a53b69d",
   "metadata": {},
   "outputs": [
    {
     "data": {
      "text/plain": [
       "1225"
      ]
     },
     "execution_count": 12,
     "metadata": {},
     "output_type": "execute_result"
    }
   ],
   "source": [
    "for id in to_remove2:\n",
    "    spicata_users.remove(id)\n",
    "len(spicata_users)"
   ]
  },
  {
   "cell_type": "code",
   "execution_count": 13,
   "id": "bc5829a2",
   "metadata": {},
   "outputs": [],
   "source": [
    "# HAS BEEN INCLUDED\n",
    "to_remove3 = [2889644, 2718421, 805798, 518143, 1237684, 4531483, 818667, 1081392, 2585152, 1401675]\n",
    "to_remove.extend(to_remove3)"
   ]
  },
  {
   "cell_type": "code",
   "execution_count": 14,
   "id": "415e3f1b",
   "metadata": {},
   "outputs": [
    {
     "data": {
      "text/plain": [
       "1215"
      ]
     },
     "execution_count": 14,
     "metadata": {},
     "output_type": "execute_result"
    }
   ],
   "source": [
    "for id in to_remove3:\n",
    "    spicata_users.remove(id)\n",
    "len(spicata_users)"
   ]
  },
  {
   "cell_type": "code",
   "execution_count": 15,
   "id": "830f8c37",
   "metadata": {},
   "outputs": [],
   "source": [
    "# HAS BEEN INCLUDED\n",
    "to_remove4 = [328268, 557161,2808877,2907199,1234210,1006938,1750165,2154312,1531120,1834316]\n",
    "to_remove.extend(to_remove4)"
   ]
  },
  {
   "cell_type": "code",
   "execution_count": 16,
   "id": "34991e52",
   "metadata": {},
   "outputs": [
    {
     "data": {
      "text/plain": [
       "1205"
      ]
     },
     "execution_count": 16,
     "metadata": {},
     "output_type": "execute_result"
    }
   ],
   "source": [
    "for id in to_remove4:\n",
    "    spicata_users.remove(id)\n",
    "len(spicata_users)"
   ]
  },
  {
   "cell_type": "code",
   "execution_count": 17,
   "id": "d9aa92c5",
   "metadata": {},
   "outputs": [],
   "source": [
    "# HAS BEEN INCLUDED\n",
    "to_remove5 = [1511270, 1237597, 5800322, 416976, 5669487, 3823990, 4736884, 5241676, 1149437, 1916723]\n",
    "to_remove.extend(to_remove5)"
   ]
  },
  {
   "cell_type": "code",
   "execution_count": 18,
   "id": "514a2dfb",
   "metadata": {},
   "outputs": [
    {
     "data": {
      "text/plain": [
       "1195"
      ]
     },
     "execution_count": 18,
     "metadata": {},
     "output_type": "execute_result"
    }
   ],
   "source": [
    "for id in to_remove5:\n",
    "    spicata_users.remove(id)\n",
    "len(spicata_users)"
   ]
  },
  {
   "cell_type": "code",
   "execution_count": 19,
   "id": "b8716a23",
   "metadata": {},
   "outputs": [],
   "source": [
    "# HAS BEEN INCLUDED\n",
    "to_remove6 = [436529, 1262660, 674664, 477, 1976181, 475357, 1883226, 3062686, 2125177, 265604]\n",
    "to_remove.extend(to_remove6)\n"
   ]
  },
  {
   "cell_type": "code",
   "execution_count": 20,
   "id": "4ee60a13",
   "metadata": {},
   "outputs": [
    {
     "data": {
      "text/plain": [
       "1185"
      ]
     },
     "execution_count": 20,
     "metadata": {},
     "output_type": "execute_result"
    }
   ],
   "source": [
    "for id in to_remove6:\n",
    "    spicata_users.remove(id)\n",
    "len(spicata_users)"
   ]
  },
  {
   "cell_type": "code",
   "execution_count": 21,
   "id": "13b9a795",
   "metadata": {},
   "outputs": [],
   "source": [
    "to_remove7 = [1804605, 11792, 434504, 604, 3199368, 1872981, 1387258, 392818, 1635190, 289544]\n",
    "to_remove.extend(to_remove7)"
   ]
  },
  {
   "cell_type": "code",
   "execution_count": 22,
   "id": "efe06617",
   "metadata": {},
   "outputs": [
    {
     "data": {
      "text/plain": [
       "1175"
      ]
     },
     "execution_count": 22,
     "metadata": {},
     "output_type": "execute_result"
    }
   ],
   "source": [
    "for id in to_remove7:\n",
    "    spicata_users.remove(id)\n",
    "len(spicata_users)"
   ]
  },
  {
   "cell_type": "code",
   "execution_count": 23,
   "id": "95e95a83",
   "metadata": {},
   "outputs": [
    {
     "name": "stderr",
     "output_type": "stream",
     "text": [
      "C:\\Users\\lisa_\\AppData\\Local\\Temp\\ipykernel_26284\\894871412.py:8: DtypeWarning: Columns (15,63) have mixed types. Specify dtype option on import or set low_memory=False.\n",
      "  data_sp = pd.concat([data_sp, pd.read_csv(file)])\n",
      "C:\\Users\\lisa_\\AppData\\Local\\Temp\\ipykernel_26284\\894871412.py:8: DtypeWarning: Columns (63) have mixed types. Specify dtype option on import or set low_memory=False.\n",
      "  data_sp = pd.concat([data_sp, pd.read_csv(file)])\n",
      "C:\\Users\\lisa_\\AppData\\Local\\Temp\\ipykernel_26284\\894871412.py:8: DtypeWarning: Columns (14,29,32,33,34,63,66) have mixed types. Specify dtype option on import or set low_memory=False.\n",
      "  data_sp = pd.concat([data_sp, pd.read_csv(file)])\n"
     ]
    }
   ],
   "source": [
    "#reads in the csv files from separate users and puts them together in one data frame\n",
    "data_sp = pd.read_csv(\"../data/spicata_0001.csv\")\n",
    "for i in range(2,len(to_remove)+1):\n",
    "    if i < 10:\n",
    "        file = \"../data/spicata_000\" + str(i) +\".csv\"\n",
    "    elif i < 100:\n",
    "        file = \"../data/spicata_00\" + str(i) +\".csv\"\n",
    "    data_sp = pd.concat([data_sp, pd.read_csv(file)])\n",
    "\n",
    "data_sp = data_sp.reset_index(drop = True)"
   ]
  },
  {
   "cell_type": "code",
   "execution_count": 24,
   "id": "d56db19a",
   "metadata": {},
   "outputs": [
    {
     "data": {
      "text/plain": [
       "70"
      ]
     },
     "execution_count": 24,
     "metadata": {},
     "output_type": "execute_result"
    }
   ],
   "source": [
    "# double-checking that the set has the expects number of users\n",
    "data_sp[\"user_id\"].nunique()"
   ]
  },
  {
   "cell_type": "code",
   "execution_count": 25,
   "id": "0f938344",
   "metadata": {},
   "outputs": [
    {
     "name": "stdout",
     "output_type": "stream",
     "text": [
      "<class 'pandas.core.frame.DataFrame'>\n",
      "RangeIndex: 155607 entries, 0 to 155606\n",
      "Data columns (total 67 columns):\n",
      " #   Column                            Non-Null Count   Dtype  \n",
      "---  ------                            --------------   -----  \n",
      " 0   id                                155607 non-null  int64  \n",
      " 1   observed_on_string                155146 non-null  object \n",
      " 2   observed_on                       155111 non-null  object \n",
      " 3   time_observed_at                  148730 non-null  object \n",
      " 4   time_zone                         155607 non-null  object \n",
      " 5   user_id                           155607 non-null  int64  \n",
      " 6   user_login                        155607 non-null  object \n",
      " 7   user_name                         124934 non-null  object \n",
      " 8   created_at                        155607 non-null  object \n",
      " 9   updated_at                        155607 non-null  object \n",
      " 10  quality_grade                     155607 non-null  object \n",
      " 11  license                           126938 non-null  object \n",
      " 12  url                               155607 non-null  object \n",
      " 13  image_url                         154067 non-null  object \n",
      " 14  sound_url                         721 non-null     object \n",
      " 15  tag_list                          3526 non-null    object \n",
      " 16  description                       19009 non-null   object \n",
      " 17  num_identification_agreements     155607 non-null  int64  \n",
      " 18  num_identification_disagreements  155607 non-null  int64  \n",
      " 19  captive_cultivated                155607 non-null  bool   \n",
      " 20  oauth_application_id              102466 non-null  float64\n",
      " 21  place_guess                       153805 non-null  object \n",
      " 22  latitude                          154757 non-null  float64\n",
      " 23  longitude                         154756 non-null  float64\n",
      " 24  positional_accuracy               136775 non-null  float64\n",
      " 25  private_place_guess               0 non-null       float64\n",
      " 26  private_latitude                  0 non-null       float64\n",
      " 27  private_longitude                 0 non-null       float64\n",
      " 28  public_positional_accuracy        137950 non-null  float64\n",
      " 29  geoprivacy                        9655 non-null    object \n",
      " 30  taxon_geoprivacy                  30971 non-null   object \n",
      " 31  coordinates_obscured              155607 non-null  bool   \n",
      " 32  positioning_method                12939 non-null   object \n",
      " 33  positioning_device                19600 non-null   object \n",
      " 34  place_town_name                   11542 non-null   object \n",
      " 35  place_county_name                 154093 non-null  object \n",
      " 36  place_state_name                  154723 non-null  object \n",
      " 37  place_country_name                154720 non-null  object \n",
      " 38  place_admin1_name                 154717 non-null  object \n",
      " 39  place_admin2_name                 154006 non-null  object \n",
      " 40  species_guess                     136570 non-null  object \n",
      " 41  scientific_name                   155212 non-null  object \n",
      " 42  common_name                       143327 non-null  object \n",
      " 43  iconic_taxon_name                 155143 non-null  object \n",
      " 44  taxon_id                          155212 non-null  float64\n",
      " 45  taxon_kingdom_name                155169 non-null  object \n",
      " 46  taxon_phylum_name                 154610 non-null  object \n",
      " 47  taxon_subphylum_name              146541 non-null  object \n",
      " 48  taxon_superclass_name             837 non-null     object \n",
      " 49  taxon_class_name                  154005 non-null  object \n",
      " 50  taxon_subclass_name               51171 non-null   object \n",
      " 51  taxon_superorder_name             4496 non-null    object \n",
      " 52  taxon_order_name                  152670 non-null  object \n",
      " 53  taxon_suborder_name               31780 non-null   object \n",
      " 54  taxon_superfamily_name            40488 non-null   object \n",
      " 55  taxon_family_name                 149769 non-null  object \n",
      " 56  taxon_subfamily_name              97084 non-null   object \n",
      " 57  taxon_supertribe_name             2019 non-null    object \n",
      " 58  taxon_tribe_name                  81615 non-null   object \n",
      " 59  taxon_subtribe_name               28130 non-null   object \n",
      " 60  taxon_genus_name                  143198 non-null  object \n",
      " 61  taxon_genushybrid_name            1 non-null       object \n",
      " 62  taxon_species_name                122977 non-null  object \n",
      " 63  taxon_hybrid_name                 206 non-null     object \n",
      " 64  taxon_subspecies_name             2022 non-null    object \n",
      " 65  taxon_variety_name                929 non-null     object \n",
      " 66  taxon_form_name                   25 non-null      object \n",
      "dtypes: bool(2), float64(9), int64(4), object(52)\n",
      "memory usage: 77.5+ MB\n"
     ]
    }
   ],
   "source": [
    "data_sp.info()"
   ]
  },
  {
   "cell_type": "markdown",
   "id": "e94ef205",
   "metadata": {},
   "source": [
    "# Cleaning the Dataset"
   ]
  },
  {
   "cell_type": "markdown",
   "id": "beb40c16",
   "metadata": {},
   "source": [
    "### Dropping Columns and Rows"
   ]
  },
  {
   "cell_type": "markdown",
   "id": "b19433df",
   "metadata": {},
   "source": [
    "__dropping columns__\n",
    "I originally downloaded all data columns available via the iNaturalist query page. However, many are not of immediate interest, especially as my first model will involve basic interpolation. Other columns may be of interest later, but for now I'm choosing 21 of the 66 columns for EDA and then my first attempts at modeling. \n",
    "\n",
    "__Dropping missing lat/lon rather than attempting to impute because:__\n",
    "1) accurate lat/lon is essential to this analysis\n",
    "2) accurately imputing from other clues would be time intensive\n",
    "3) null lat/lon makes up less than 1% of the rows, so dropping doesn't significantly hurt my dataset\n",
    "\n",
    "__Dropping missing \"time_observed_on\" rows because:__\n",
    "1) much of my analysis is based on this value\n",
    "2) null values is less than 5% of the rows, so dropping doesn't hurt my dataset\n",
    "*HOWEVER: it is worth noting that there are two choices for imputation that could be explored:*\n",
    "1) impute the \"time_created_at\" value AND also working with the \"time_created_at\" value for ordering is another way to consider ordering the data.\n",
    "2) order the data by \"time_created_at\" and then impute a \"time_observed_at\" that falls between the \"time_observed_at\" tows on either side of the null row (assuming the same user)\n",
    "But it is my assessment that this will not impact my dataset enough to make it worth the effort."
   ]
  },
  {
   "cell_type": "code",
   "execution_count": 26,
   "id": "4871c594",
   "metadata": {},
   "outputs": [],
   "source": [
    "#columns of interest\n",
    "to_keep = ['id', 'time_observed_at','user_id', 'created_at',\n",
    "       'quality_grade', 'num_identification_agreements',\n",
    "       'num_identification_disagreements', 'captive_cultivated',\n",
    "       'latitude', 'longitude',\n",
    "       'positional_accuracy', 'public_positional_accuracy', 'geoprivacy',\n",
    "       'taxon_geoprivacy', 'coordinates_obscured', 'species_guess', 'scientific_name', 'common_name',\n",
    "       'taxon_kingdom_name','taxon_genus_name',\n",
    "      'taxon_species_name']\n",
    "data_sp = data_sp[to_keep]"
   ]
  },
  {
   "cell_type": "code",
   "execution_count": 27,
   "id": "9c05b16a",
   "metadata": {},
   "outputs": [
    {
     "name": "stdout",
     "output_type": "stream",
     "text": [
      "Number of null time_observed_at entries = 0\n"
     ]
    }
   ],
   "source": [
    "# dropping missing \"time_observed_at\" rows and confirming\n",
    "data_sp.dropna(subset=['time_observed_at'], inplace=True)\n",
    "print(f'Number of null time_observed_at entries = {data_sp[data_sp[\"time_observed_at\"].isnull()].shape[0]}')"
   ]
  },
  {
   "cell_type": "code",
   "execution_count": 28,
   "id": "878d3098",
   "metadata": {},
   "outputs": [
    {
     "name": "stdout",
     "output_type": "stream",
     "text": [
      "Number of null time_observed_at entries = 0\n"
     ]
    }
   ],
   "source": [
    "# dropping missing latitude/longitude rows and confirming\n",
    "# for most part, these nulls usually are the same\n",
    "# but occasional strangeness requires choosing to drop category with most nulls\n",
    "if data_sp[data_sp[\"latitude\"].isnull()].shape[0] >= data_sp[data_sp[\"longitude\"].isnull()].shape[0]:\n",
    "    drop_name = \"latitude\"\n",
    "else:\n",
    "    drop_name = \"longitude\"\n",
    "data_sp.dropna(subset=[drop_name], inplace=True)\n",
    "print(f'Number of null time_observed_at entries = {data_sp[data_sp[drop_name].isnull()].shape[0]}')"
   ]
  },
  {
   "cell_type": "markdown",
   "id": "a5375bc3",
   "metadata": {},
   "source": [
    "### Dummy and Boolean"
   ]
  },
  {
   "cell_type": "markdown",
   "id": "6022a882",
   "metadata": {},
   "source": [
    "__geoprivacy__\n",
    "has only an \"obscured\" value--the rest are null. Simple boolean.\n",
    "\n",
    "__taxon_geoprivacy__\n",
    "has two values \"open\" and \"obscured\" but also many nulls, so I choose to dummy the two and drop the original column. \n",
    "*HOWEVER: it might be worth researchin what \"open\" means for the dataset because it may be that any \"unmarked\" columns are, by default, \"open\", in which case this column could also just be a dummy. *\n",
    "\n",
    "__taxon_kingdom_name__\n",
    "The bulk of the data is in the Animal, Plant or Fungi kingdoms so it is unlikely that the other kingdoms will contribute to a data model. Additionally, these are the kingdoms of interest to me. It could be worth checking out a difference if the next two most frequent kingdoms were included, but I don't think it will be worth my time at this juncture.\n",
    "\n"
   ]
  },
  {
   "cell_type": "code",
   "execution_count": 29,
   "id": "bac5460c",
   "metadata": {},
   "outputs": [
    {
     "data": {
      "text/plain": [
       "obscured    8598\n",
       "Name: geoprivacy, dtype: int64"
      ]
     },
     "execution_count": 29,
     "metadata": {},
     "output_type": "execute_result"
    }
   ],
   "source": [
    "data_sp[\"geoprivacy\"].value_counts() #to boolean"
   ]
  },
  {
   "cell_type": "code",
   "execution_count": 30,
   "id": "4e7bb855",
   "metadata": {},
   "outputs": [],
   "source": [
    "# this code demonstrated during Dec 19th kickoff and had short runtime compared to others\n",
    "# this way of using .apply and lambda isn't yet comfortable/natural to me\n",
    "data_sp[\"geoprivacy\"] = data_sp[\"geoprivacy\"].apply(lambda x: 1 if x == \"obscured\" else 0)"
   ]
  },
  {
   "cell_type": "code",
   "execution_count": 31,
   "id": "311ecb69",
   "metadata": {
    "scrolled": true
   },
   "outputs": [
    {
     "data": {
      "text/plain": [
       "0    139645\n",
       "1      8598\n",
       "Name: geoprivacy, dtype: int64"
      ]
     },
     "execution_count": 31,
     "metadata": {},
     "output_type": "execute_result"
    }
   ],
   "source": [
    "data_sp[\"geoprivacy\"].value_counts()"
   ]
  },
  {
   "cell_type": "code",
   "execution_count": 32,
   "id": "8a8d4351",
   "metadata": {},
   "outputs": [
    {
     "data": {
      "text/plain": [
       "open        25657\n",
       "obscured     3041\n",
       "Name: taxon_geoprivacy, dtype: int64"
      ]
     },
     "execution_count": 32,
     "metadata": {},
     "output_type": "execute_result"
    }
   ],
   "source": [
    "data_sp[\"taxon_geoprivacy\"].value_counts() # to dummy"
   ]
  },
  {
   "cell_type": "code",
   "execution_count": 33,
   "id": "d285d33a",
   "metadata": {},
   "outputs": [],
   "source": [
    "# makes dummies\n",
    "taxon_geoprivacy_dum = pd.get_dummies(data_sp[\"taxon_geoprivacy\"])\n",
    "# concatenates dummy columns with previous data set\n",
    "data_sp = pd.concat([data_sp,taxon_geoprivacy_dum],axis='columns')\n",
    "# drops original taxon_geoprivacy column \n",
    "data_sp.drop(columns=\"taxon_geoprivacy\",inplace=True)\n"
   ]
  },
  {
   "cell_type": "code",
   "execution_count": 34,
   "id": "4b374b60",
   "metadata": {},
   "outputs": [
    {
     "data": {
      "text/plain": [
       "Plantae      81968\n",
       "Animalia     58343\n",
       "Fungi         7525\n",
       "Protozoa       237\n",
       "Chromista       40\n",
       "Bacteria        10\n",
       "Viruses          9\n",
       "Name: taxon_kingdom_name, dtype: int64"
      ]
     },
     "execution_count": 34,
     "metadata": {},
     "output_type": "execute_result"
    }
   ],
   "source": [
    "data_sp[\"taxon_kingdom_name\"].value_counts() "
   ]
  },
  {
   "cell_type": "code",
   "execution_count": 35,
   "id": "1f618e1a",
   "metadata": {},
   "outputs": [],
   "source": [
    "# dummy Animalia, Plantae and Fungi\n",
    "kingdom_dum = pd.get_dummies(data_sp[\"taxon_kingdom_name\"])[[\"Animalia\", \"Fungi\", \"Plantae\"]]\n",
    "data_sp = pd.concat([data_sp, kingdom_dum], axis = \"columns\")\n",
    "data_sp.drop(columns = \"taxon_kingdom_name\", inplace = True)"
   ]
  },
  {
   "cell_type": "markdown",
   "id": "3670468c",
   "metadata": {},
   "source": [
    "### Imputation"
   ]
  },
  {
   "cell_type": "markdown",
   "id": "a3525718",
   "metadata": {},
   "source": [
    "__Other Naming Categoricals__\n",
    "There are too many options for these to dummy at this time and I would like to sort and group on the categoricals for initial EDA. Given that these are strings, I am imputing the string \"not stated\" into any nulls here.\n",
    "\n",
    "__Positional Accuracy Columns__\n",
    "I choose to impute the mean into the null values for both of these columns. There are few null values and imputing the mean will at least preserve the mean. Additionally, a danger of imputing a value near the medians will put those rows inside of positional accuracies that are considered good for research. Whereas, sticking with the mean will signal \"poor\" positional accuracy which is the better assumption to make. "
   ]
  },
  {
   "cell_type": "code",
   "execution_count": 36,
   "id": "597f9e9f",
   "metadata": {},
   "outputs": [
    {
     "name": "stdout",
     "output_type": "stream",
     "text": [
      "Number of null entries in stated columns = 0\n"
     ]
    }
   ],
   "source": [
    "#filling categoricals with missing info with \"not stated\" and confirming\n",
    "cat_with_null = ['species_guess', 'scientific_name','common_name', \n",
    "                 'taxon_genus_name','taxon_species_name']\n",
    "data_sp[cat_with_null] = data_sp[cat_with_null].fillna(\"not stated\")\n",
    "print(f'Number of null entries in stated columns = {data_sp[cat_with_null].isnull().sum().sum()}')"
   ]
  },
  {
   "cell_type": "code",
   "execution_count": 37,
   "id": "099f13d5",
   "metadata": {},
   "outputs": [
    {
     "data": {
      "text/html": [
       "<div>\n",
       "<style scoped>\n",
       "    .dataframe tbody tr th:only-of-type {\n",
       "        vertical-align: middle;\n",
       "    }\n",
       "\n",
       "    .dataframe tbody tr th {\n",
       "        vertical-align: top;\n",
       "    }\n",
       "\n",
       "    .dataframe thead th {\n",
       "        text-align: right;\n",
       "    }\n",
       "</style>\n",
       "<table border=\"1\" class=\"dataframe\">\n",
       "  <thead>\n",
       "    <tr style=\"text-align: right;\">\n",
       "      <th></th>\n",
       "      <th>positional_accuracy</th>\n",
       "      <th>public_positional_accuracy</th>\n",
       "    </tr>\n",
       "  </thead>\n",
       "  <tbody>\n",
       "    <tr>\n",
       "      <th>count</th>\n",
       "      <td>131942.00</td>\n",
       "      <td>132953.00</td>\n",
       "    </tr>\n",
       "    <tr>\n",
       "      <th>mean</th>\n",
       "      <td>309.45</td>\n",
       "      <td>2667.02</td>\n",
       "    </tr>\n",
       "    <tr>\n",
       "      <th>std</th>\n",
       "      <td>13957.80</td>\n",
       "      <td>15889.78</td>\n",
       "    </tr>\n",
       "    <tr>\n",
       "      <th>min</th>\n",
       "      <td>0.00</td>\n",
       "      <td>0.00</td>\n",
       "    </tr>\n",
       "    <tr>\n",
       "      <th>25%</th>\n",
       "      <td>5.00</td>\n",
       "      <td>5.00</td>\n",
       "    </tr>\n",
       "    <tr>\n",
       "      <th>50%</th>\n",
       "      <td>9.00</td>\n",
       "      <td>10.00</td>\n",
       "    </tr>\n",
       "    <tr>\n",
       "      <th>75%</th>\n",
       "      <td>32.00</td>\n",
       "      <td>65.00</td>\n",
       "    </tr>\n",
       "    <tr>\n",
       "      <th>max</th>\n",
       "      <td>2703477.00</td>\n",
       "      <td>2703477.00</td>\n",
       "    </tr>\n",
       "  </tbody>\n",
       "</table>\n",
       "</div>"
      ],
      "text/plain": [
       "       positional_accuracy  public_positional_accuracy\n",
       "count            131942.00                   132953.00\n",
       "mean                309.45                     2667.02\n",
       "std               13957.80                    15889.78\n",
       "min                   0.00                        0.00\n",
       "25%                   5.00                        5.00\n",
       "50%                   9.00                       10.00\n",
       "75%                  32.00                       65.00\n",
       "max             2703477.00                  2703477.00"
      ]
     },
     "execution_count": 37,
     "metadata": {},
     "output_type": "execute_result"
    }
   ],
   "source": [
    "round(data_sp[['positional_accuracy','public_positional_accuracy']].describe(),2)"
   ]
  },
  {
   "cell_type": "markdown",
   "id": "313be4bb",
   "metadata": {},
   "source": []
  },
  {
   "cell_type": "code",
   "execution_count": 38,
   "id": "6754c8a6",
   "metadata": {},
   "outputs": [],
   "source": [
    "#imputing the mean into null categories for both accuracy\n",
    "PA_mean = data_sp[\"positional_accuracy\"].mean()\n",
    "PPA_mean = data_sp[\"public_positional_accuracy\"].mean()\n",
    "data_sp[\"positional_accuracy\"] = data_sp[\"positional_accuracy\"].fillna(PA_mean)\n",
    "data_sp[\"public_positional_accuracy\"] = data_sp[\"public_positional_accuracy\"].fillna(PPA_mean)"
   ]
  },
  {
   "cell_type": "code",
   "execution_count": 39,
   "id": "dcb82f6d",
   "metadata": {},
   "outputs": [
    {
     "data": {
      "text/html": [
       "<div>\n",
       "<style scoped>\n",
       "    .dataframe tbody tr th:only-of-type {\n",
       "        vertical-align: middle;\n",
       "    }\n",
       "\n",
       "    .dataframe tbody tr th {\n",
       "        vertical-align: top;\n",
       "    }\n",
       "\n",
       "    .dataframe thead th {\n",
       "        text-align: right;\n",
       "    }\n",
       "</style>\n",
       "<table border=\"1\" class=\"dataframe\">\n",
       "  <thead>\n",
       "    <tr style=\"text-align: right;\">\n",
       "      <th></th>\n",
       "      <th>positional_accuracy</th>\n",
       "      <th>public_positional_accuracy</th>\n",
       "    </tr>\n",
       "  </thead>\n",
       "  <tbody>\n",
       "    <tr>\n",
       "      <th>count</th>\n",
       "      <td>148243.00</td>\n",
       "      <td>148243.00</td>\n",
       "    </tr>\n",
       "    <tr>\n",
       "      <th>mean</th>\n",
       "      <td>309.45</td>\n",
       "      <td>2667.02</td>\n",
       "    </tr>\n",
       "    <tr>\n",
       "      <th>std</th>\n",
       "      <td>13168.04</td>\n",
       "      <td>15048.03</td>\n",
       "    </tr>\n",
       "    <tr>\n",
       "      <th>min</th>\n",
       "      <td>0.00</td>\n",
       "      <td>0.00</td>\n",
       "    </tr>\n",
       "    <tr>\n",
       "      <th>25%</th>\n",
       "      <td>5.00</td>\n",
       "      <td>5.00</td>\n",
       "    </tr>\n",
       "    <tr>\n",
       "      <th>50%</th>\n",
       "      <td>10.00</td>\n",
       "      <td>11.00</td>\n",
       "    </tr>\n",
       "    <tr>\n",
       "      <th>75%</th>\n",
       "      <td>98.00</td>\n",
       "      <td>244.00</td>\n",
       "    </tr>\n",
       "    <tr>\n",
       "      <th>max</th>\n",
       "      <td>2703477.00</td>\n",
       "      <td>2703477.00</td>\n",
       "    </tr>\n",
       "  </tbody>\n",
       "</table>\n",
       "</div>"
      ],
      "text/plain": [
       "       positional_accuracy  public_positional_accuracy\n",
       "count            148243.00                   148243.00\n",
       "mean                309.45                     2667.02\n",
       "std               13168.04                    15048.03\n",
       "min                   0.00                        0.00\n",
       "25%                   5.00                        5.00\n",
       "50%                  10.00                       11.00\n",
       "75%                  98.00                      244.00\n",
       "max             2703477.00                  2703477.00"
      ]
     },
     "execution_count": 39,
     "metadata": {},
     "output_type": "execute_result"
    }
   ],
   "source": [
    "round(data_sp[['positional_accuracy','public_positional_accuracy']].describe(),2)"
   ]
  },
  {
   "cell_type": "markdown",
   "id": "37b37375",
   "metadata": {},
   "source": [
    "### Final Cleaning Touches/Checks"
   ]
  },
  {
   "cell_type": "code",
   "execution_count": 40,
   "id": "8d918483",
   "metadata": {},
   "outputs": [],
   "source": [
    "# changing to datetimes\n",
    "data_sp[\"time_observed_at\"] = pd.to_datetime(data_sp[\"time_observed_at\"])\n",
    "data_sp[\"created_at\"] = pd.to_datetime(data_sp[\"created_at\"])"
   ]
  },
  {
   "cell_type": "code",
   "execution_count": 41,
   "id": "e7b85aac",
   "metadata": {
    "scrolled": true
   },
   "outputs": [
    {
     "name": "stdout",
     "output_type": "stream",
     "text": [
      "<class 'pandas.core.frame.DataFrame'>\n",
      "Int64Index: 148243 entries, 0 to 155606\n",
      "Data columns (total 24 columns):\n",
      " #   Column                            Non-Null Count   Dtype              \n",
      "---  ------                            --------------   -----              \n",
      " 0   id                                148243 non-null  int64              \n",
      " 1   time_observed_at                  148243 non-null  datetime64[ns, UTC]\n",
      " 2   user_id                           148243 non-null  int64              \n",
      " 3   created_at                        148243 non-null  datetime64[ns, UTC]\n",
      " 4   quality_grade                     148243 non-null  object             \n",
      " 5   num_identification_agreements     148243 non-null  int64              \n",
      " 6   num_identification_disagreements  148243 non-null  int64              \n",
      " 7   captive_cultivated                148243 non-null  bool               \n",
      " 8   latitude                          148243 non-null  float64            \n",
      " 9   longitude                         148243 non-null  float64            \n",
      " 10  positional_accuracy               148243 non-null  float64            \n",
      " 11  public_positional_accuracy        148243 non-null  float64            \n",
      " 12  geoprivacy                        148243 non-null  int64              \n",
      " 13  coordinates_obscured              148243 non-null  bool               \n",
      " 14  species_guess                     148243 non-null  object             \n",
      " 15  scientific_name                   148243 non-null  object             \n",
      " 16  common_name                       148243 non-null  object             \n",
      " 17  taxon_genus_name                  148243 non-null  object             \n",
      " 18  taxon_species_name                148243 non-null  object             \n",
      " 19  obscured                          148243 non-null  uint8              \n",
      " 20  open                              148243 non-null  uint8              \n",
      " 21  Animalia                          148243 non-null  uint8              \n",
      " 22  Fungi                             148243 non-null  uint8              \n",
      " 23  Plantae                           148243 non-null  uint8              \n",
      "dtypes: bool(2), datetime64[ns, UTC](2), float64(4), int64(5), object(6), uint8(5)\n",
      "memory usage: 21.3+ MB\n"
     ]
    }
   ],
   "source": [
    "data_sp.info()"
   ]
  },
  {
   "cell_type": "code",
   "execution_count": 42,
   "id": "59e1fefc",
   "metadata": {},
   "outputs": [
    {
     "data": {
      "text/plain": [
       "100"
      ]
     },
     "execution_count": 42,
     "metadata": {},
     "output_type": "execute_result"
    }
   ],
   "source": [
    "# number of spicata observations in this set with necessary positional accuracy\n",
    "# Goal is for this number to be at least 100\n",
    "((data_sp[\"taxon_species_name\"] == \"Lobelia spicata\")&(data_sp[\"public_positional_accuracy\"]<=30)).sum()"
   ]
  },
  {
   "cell_type": "markdown",
   "id": "e88dd913",
   "metadata": {},
   "source": [
    "# Adding Important Data Columns for Analysis"
   ]
  },
  {
   "cell_type": "markdown",
   "id": "123e8fdb",
   "metadata": {},
   "source": [
    "### Clustering User Data According to Proximity in Time"
   ]
  },
  {
   "cell_type": "code",
   "execution_count": 43,
   "id": "7647999c",
   "metadata": {},
   "outputs": [],
   "source": [
    "# sorting data by user then by time_observed_at so \"minute_diff\" and \"km_diff\" can operate on a single user in the order\n",
    "# the observations were made\n",
    "# NOTE: there may be a reason to choose \"created_at\" or \"id\" instead if \"time_observed_at\" turns out to be poor for modeling\n",
    "data_sp = data_sp.sort_values(by = [\"user_id\", \"time_observed_at\"]).reset_index(drop = True)"
   ]
  },
  {
   "cell_type": "code",
   "execution_count": 44,
   "id": "4b793d69",
   "metadata": {},
   "outputs": [],
   "source": [
    "# column that calculates time difference between given row and previous row in total seconds\n",
    "data_sp[\"minute_diff\"] = data_sp[\"time_observed_at\"].diff()\n",
    "data_sp[\"minute_diff\"] = data_sp[\"minute_diff\"].dt.total_seconds() / 60"
   ]
  },
  {
   "cell_type": "markdown",
   "id": "c257560f",
   "metadata": {},
   "source": [
    "For each user's first entry \"minute_diff\", the calculated value compared to previous user's last entry doesn't make good sense. There are some options for what could be imputed there. The mean or median of that user's time differences, for example. But also perhaps 0? I'm starting with -0.001 because it's close to zero and so will act a lot like zero in this dataset if included in summary stats, but can be more easily filtered out of the dataset all together, since all actual \"time differences\" are zero or positive given that I constructed the set sequentially in time for each user."
   ]
  },
  {
   "cell_type": "code",
   "execution_count": 45,
   "id": "a3d2d2d8",
   "metadata": {},
   "outputs": [],
   "source": [
    "users = data_sp[\"user_id\"].unique() # identifies users in set --REQUIRED FOR LATER CODE\n",
    "imputed_initial_time = -0.001  # change here for different imputation\n",
    "for user in users:\n",
    "    min_index = data_sp.index[data_sp[\"user_id\"] == user].min()\n",
    "    data_sp.loc[min_index, \"minute_diff\"] = imputed_initial_time"
   ]
  },
  {
   "cell_type": "code",
   "execution_count": 46,
   "id": "75591ffe",
   "metadata": {},
   "outputs": [
    {
     "data": {
      "text/plain": [
       "count     148243.000\n",
       "mean        1749.765\n",
       "std        27436.864\n",
       "min           -0.001\n",
       "25%            1.167\n",
       "50%            4.767\n",
       "75%           34.133\n",
       "max      6661710.917\n",
       "Name: minute_diff, dtype: float64"
      ]
     },
     "execution_count": 46,
     "metadata": {},
     "output_type": "execute_result"
    }
   ],
   "source": [
    "# summary stats with -0.001 as initial minute_diff included\n",
    "round(data_sp[\"minute_diff\"].describe(),3)"
   ]
  },
  {
   "cell_type": "code",
   "execution_count": 47,
   "id": "f86bce7f",
   "metadata": {
    "scrolled": true
   },
   "outputs": [
    {
     "data": {
      "text/plain": [
       "count     148173.000\n",
       "mean        1750.592\n",
       "std        27443.318\n",
       "min            0.000\n",
       "25%            1.167\n",
       "50%            4.767\n",
       "75%           34.200\n",
       "max      6661710.917\n",
       "Name: minute_diff, dtype: float64"
      ]
     },
     "execution_count": 47,
     "metadata": {},
     "output_type": "execute_result"
    }
   ],
   "source": [
    "# summary stats with -0.001 as initial minute_diff excluded\n",
    "round(data_sp[data_sp[\"minute_diff\"]!= -0.001][\"minute_diff\"].describe(),3)"
   ]
  },
  {
   "cell_type": "markdown",
   "id": "3336a576",
   "metadata": {},
   "source": [
    "### Clustering User Data According to Proximity in Space (with time as an ordering category)"
   ]
  },
  {
   "cell_type": "markdown",
   "id": "11ded7ba",
   "metadata": {},
   "source": [
    "Using scikit learn's [haversine function ](https://scikit-learn.org/stable/modules/generated/sklearn.metrics.pairwise.haversine_distances.html) to approximate distance between two lat/lon points."
   ]
  },
  {
   "cell_type": "code",
   "execution_count": 48,
   "id": "c3e460c1",
   "metadata": {},
   "outputs": [],
   "source": [
    "from sklearn.metrics.pairwise import haversine_distances\n",
    "from math import radians\n",
    "def dist_in_km(df, i, s = 1): \n",
    "    '''\n",
    "    Takes the index of one row in a given dataset\n",
    "    and the number of rows ahead of that row in the dataset\n",
    "    and computes the estimated distance in km \n",
    "    between the two latitude/longitude coordinates\n",
    "    \n",
    "    Arguments:\n",
    "    df = dataframe\n",
    "    i = index of row with first location of concern\n",
    "    s = step or number of rows ahead of initial row for second location\n",
    "        (default is 1--to calc distance between location in given row and next one)\n",
    "    \n",
    "    Returns: \n",
    "    Estimated distance in km between the two lat/lon locations \n",
    "    for the row given and the row s steps ahead of row i\n",
    "    \n",
    "    Example: \n",
    "    dist_in_km(data_sp, 4, 2)\n",
    "    Will find the distance in km between the location specified in data_sp[4] and data_sp[4 + 2]\n",
    "    '''\n",
    "    location1 = [df[\"latitude\"][i], df[\"longitude\"][i]]\n",
    "    location2 = [df[\"latitude\"][i + s], df[\"longitude\"][i + s]]\n",
    "    loc1_rad = [radians(deg) for deg in location1]\n",
    "    loc2_rad = [radians(deg) for deg in location2]\n",
    "    result = haversine_distances([loc1_rad, loc2_rad])\n",
    "    dist = result[0][1] * 6371  # multiply by Earth radius in km to get km\n",
    "    return dist"
   ]
  },
  {
   "cell_type": "code",
   "execution_count": 49,
   "id": "ce3e503f",
   "metadata": {},
   "outputs": [],
   "source": [
    "# creates list of indices where new users begin\n",
    "first_index_for_user = []\n",
    "for user in users: # users as defined in previous section\n",
    "    min_index = data_sp.index[data_sp[\"user_id\"] == user].min()\n",
    "    first_index_for_user.append(min_index)"
   ]
  },
  {
   "cell_type": "code",
   "execution_count": 50,
   "id": "9e815854",
   "metadata": {},
   "outputs": [],
   "source": [
    "# CODE RELIES ON EARLIER SORTING AND INDEXING BY USER AND TIME (or ID if chosen)\n",
    "# creates distance difference column by user\n",
    "# initial row for a user is imputed \n",
    "# every row afterward for that user, distance is calculated between given row and the row before\n",
    "imputed_initial_dist = -0.001 # change here for different imputation\n",
    "for i in range(1, data_sp.shape[0]):\n",
    "    data_sp.loc[0, \"km_diff\"] = imputed_initial_dist #sets initial row as imputed value\n",
    "    if i in first_index_for_user:\n",
    "        data_sp.loc[i, \"km_diff\"] = imputed_initial_dist # sets all other first indices as imputed value\n",
    "    else: \n",
    "        data_sp.loc[i, \"km_diff\"] = dist_in_km(data_sp, i-1) \n",
    "        # sets all non first indices as difference using dist_in_km function"
   ]
  },
  {
   "cell_type": "code",
   "execution_count": 51,
   "id": "57342c84",
   "metadata": {},
   "outputs": [
    {
     "data": {
      "text/plain": [
       "count    148243.000\n",
       "mean         28.404\n",
       "std         297.634\n",
       "min          -0.001\n",
       "25%           0.012\n",
       "50%           0.094\n",
       "75%           2.667\n",
       "max       17744.088\n",
       "Name: km_diff, dtype: float64"
      ]
     },
     "execution_count": 51,
     "metadata": {},
     "output_type": "execute_result"
    }
   ],
   "source": [
    "# summary stats with imputed initial distance differences included\n",
    "round(data_sp[\"km_diff\"].describe(),3)"
   ]
  },
  {
   "cell_type": "code",
   "execution_count": 52,
   "id": "e9011abf",
   "metadata": {},
   "outputs": [
    {
     "data": {
      "text/plain": [
       "count    148173.000\n",
       "mean         28.417\n",
       "std         297.703\n",
       "min           0.000\n",
       "25%           0.012\n",
       "50%           0.094\n",
       "75%           2.676\n",
       "max       17744.088\n",
       "Name: km_diff, dtype: float64"
      ]
     },
     "execution_count": 52,
     "metadata": {},
     "output_type": "execute_result"
    }
   ],
   "source": [
    "# summary stats with imputed initial distance differences excluded\n",
    "round(data_sp[data_sp[\"km_diff\"]!= imputed_initial_dist][\"km_diff\"].describe(),3)"
   ]
  },
  {
   "cell_type": "code",
   "execution_count": 53,
   "id": "7cfe0032",
   "metadata": {
    "scrolled": true
   },
   "outputs": [
    {
     "data": {
      "text/html": [
       "<div>\n",
       "<style scoped>\n",
       "    .dataframe tbody tr th:only-of-type {\n",
       "        vertical-align: middle;\n",
       "    }\n",
       "\n",
       "    .dataframe tbody tr th {\n",
       "        vertical-align: top;\n",
       "    }\n",
       "\n",
       "    .dataframe thead th {\n",
       "        text-align: right;\n",
       "    }\n",
       "</style>\n",
       "<table border=\"1\" class=\"dataframe\">\n",
       "  <thead>\n",
       "    <tr style=\"text-align: right;\">\n",
       "      <th></th>\n",
       "      <th>id</th>\n",
       "      <th>time_observed_at</th>\n",
       "      <th>user_id</th>\n",
       "      <th>created_at</th>\n",
       "      <th>quality_grade</th>\n",
       "      <th>num_identification_agreements</th>\n",
       "      <th>num_identification_disagreements</th>\n",
       "      <th>captive_cultivated</th>\n",
       "      <th>latitude</th>\n",
       "      <th>longitude</th>\n",
       "      <th>...</th>\n",
       "      <th>common_name</th>\n",
       "      <th>taxon_genus_name</th>\n",
       "      <th>taxon_species_name</th>\n",
       "      <th>obscured</th>\n",
       "      <th>open</th>\n",
       "      <th>Animalia</th>\n",
       "      <th>Fungi</th>\n",
       "      <th>Plantae</th>\n",
       "      <th>minute_diff</th>\n",
       "      <th>km_diff</th>\n",
       "    </tr>\n",
       "  </thead>\n",
       "  <tbody>\n",
       "    <tr>\n",
       "      <th>0</th>\n",
       "      <td>39481</td>\n",
       "      <td>2007-04-14 16:48:00+00:00</td>\n",
       "      <td>477</td>\n",
       "      <td>2011-11-18 18:32:06+00:00</td>\n",
       "      <td>research</td>\n",
       "      <td>1</td>\n",
       "      <td>0</td>\n",
       "      <td>False</td>\n",
       "      <td>36.294893</td>\n",
       "      <td>-78.996592</td>\n",
       "      <td>...</td>\n",
       "      <td>Pickerel Frog</td>\n",
       "      <td>Lithobates</td>\n",
       "      <td>Lithobates palustris</td>\n",
       "      <td>0</td>\n",
       "      <td>0</td>\n",
       "      <td>1</td>\n",
       "      <td>0</td>\n",
       "      <td>0</td>\n",
       "      <td>-1.000000e-03</td>\n",
       "      <td>-0.001000</td>\n",
       "    </tr>\n",
       "    <tr>\n",
       "      <th>1</th>\n",
       "      <td>4914407</td>\n",
       "      <td>2009-08-10 20:10:00+00:00</td>\n",
       "      <td>477</td>\n",
       "      <td>2017-01-08 21:14:11+00:00</td>\n",
       "      <td>research</td>\n",
       "      <td>2</td>\n",
       "      <td>0</td>\n",
       "      <td>False</td>\n",
       "      <td>-23.137390</td>\n",
       "      <td>-44.170157</td>\n",
       "      <td>...</td>\n",
       "      <td>Atlantic Ghost Crab</td>\n",
       "      <td>Ocypode</td>\n",
       "      <td>Ocypode quadrata</td>\n",
       "      <td>0</td>\n",
       "      <td>0</td>\n",
       "      <td>1</td>\n",
       "      <td>0</td>\n",
       "      <td>0</td>\n",
       "      <td>1.222762e+06</td>\n",
       "      <td>7553.014945</td>\n",
       "    </tr>\n",
       "    <tr>\n",
       "      <th>2</th>\n",
       "      <td>8755</td>\n",
       "      <td>2010-11-01 03:52:00+00:00</td>\n",
       "      <td>477</td>\n",
       "      <td>2010-11-01 04:04:18+00:00</td>\n",
       "      <td>research</td>\n",
       "      <td>0</td>\n",
       "      <td>0</td>\n",
       "      <td>False</td>\n",
       "      <td>37.740688</td>\n",
       "      <td>-122.440483</td>\n",
       "      <td>...</td>\n",
       "      <td>Argentinian biddy biddy</td>\n",
       "      <td>Acaena</td>\n",
       "      <td>Acaena pinnatifida</td>\n",
       "      <td>0</td>\n",
       "      <td>0</td>\n",
       "      <td>0</td>\n",
       "      <td>0</td>\n",
       "      <td>1</td>\n",
       "      <td>6.441420e+05</td>\n",
       "      <td>10598.859075</td>\n",
       "    </tr>\n",
       "    <tr>\n",
       "      <th>3</th>\n",
       "      <td>10565</td>\n",
       "      <td>2011-01-26 18:14:01+00:00</td>\n",
       "      <td>477</td>\n",
       "      <td>2011-01-26 19:08:52+00:00</td>\n",
       "      <td>research</td>\n",
       "      <td>3</td>\n",
       "      <td>0</td>\n",
       "      <td>False</td>\n",
       "      <td>37.428551</td>\n",
       "      <td>-122.180130</td>\n",
       "      <td>...</td>\n",
       "      <td>Toyon</td>\n",
       "      <td>Heteromeles</td>\n",
       "      <td>Heteromeles arbutifolia</td>\n",
       "      <td>0</td>\n",
       "      <td>0</td>\n",
       "      <td>0</td>\n",
       "      <td>0</td>\n",
       "      <td>1</td>\n",
       "      <td>1.247020e+05</td>\n",
       "      <td>41.604820</td>\n",
       "    </tr>\n",
       "    <tr>\n",
       "      <th>4</th>\n",
       "      <td>10566</td>\n",
       "      <td>2011-01-26 19:16:39+00:00</td>\n",
       "      <td>477</td>\n",
       "      <td>2011-01-26 19:17:41+00:00</td>\n",
       "      <td>research</td>\n",
       "      <td>1</td>\n",
       "      <td>0</td>\n",
       "      <td>False</td>\n",
       "      <td>37.428566</td>\n",
       "      <td>-122.179710</td>\n",
       "      <td>...</td>\n",
       "      <td>wild radish</td>\n",
       "      <td>Raphanus</td>\n",
       "      <td>Raphanus sativus</td>\n",
       "      <td>0</td>\n",
       "      <td>0</td>\n",
       "      <td>0</td>\n",
       "      <td>0</td>\n",
       "      <td>1</td>\n",
       "      <td>6.263333e+01</td>\n",
       "      <td>0.037091</td>\n",
       "    </tr>\n",
       "  </tbody>\n",
       "</table>\n",
       "<p>5 rows × 26 columns</p>\n",
       "</div>"
      ],
      "text/plain": [
       "        id          time_observed_at  user_id                created_at  \\\n",
       "0    39481 2007-04-14 16:48:00+00:00      477 2011-11-18 18:32:06+00:00   \n",
       "1  4914407 2009-08-10 20:10:00+00:00      477 2017-01-08 21:14:11+00:00   \n",
       "2     8755 2010-11-01 03:52:00+00:00      477 2010-11-01 04:04:18+00:00   \n",
       "3    10565 2011-01-26 18:14:01+00:00      477 2011-01-26 19:08:52+00:00   \n",
       "4    10566 2011-01-26 19:16:39+00:00      477 2011-01-26 19:17:41+00:00   \n",
       "\n",
       "  quality_grade  num_identification_agreements  \\\n",
       "0      research                              1   \n",
       "1      research                              2   \n",
       "2      research                              0   \n",
       "3      research                              3   \n",
       "4      research                              1   \n",
       "\n",
       "   num_identification_disagreements  captive_cultivated   latitude  \\\n",
       "0                                 0               False  36.294893   \n",
       "1                                 0               False -23.137390   \n",
       "2                                 0               False  37.740688   \n",
       "3                                 0               False  37.428551   \n",
       "4                                 0               False  37.428566   \n",
       "\n",
       "    longitude  ...              common_name  taxon_genus_name  \\\n",
       "0  -78.996592  ...            Pickerel Frog        Lithobates   \n",
       "1  -44.170157  ...      Atlantic Ghost Crab           Ocypode   \n",
       "2 -122.440483  ...  Argentinian biddy biddy            Acaena   \n",
       "3 -122.180130  ...                    Toyon       Heteromeles   \n",
       "4 -122.179710  ...              wild radish          Raphanus   \n",
       "\n",
       "        taxon_species_name  obscured open Animalia Fungi Plantae  \\\n",
       "0     Lithobates palustris         0    0        1     0       0   \n",
       "1         Ocypode quadrata         0    0        1     0       0   \n",
       "2       Acaena pinnatifida         0    0        0     0       1   \n",
       "3  Heteromeles arbutifolia         0    0        0     0       1   \n",
       "4         Raphanus sativus         0    0        0     0       1   \n",
       "\n",
       "    minute_diff       km_diff  \n",
       "0 -1.000000e-03     -0.001000  \n",
       "1  1.222762e+06   7553.014945  \n",
       "2  6.441420e+05  10598.859075  \n",
       "3  1.247020e+05     41.604820  \n",
       "4  6.263333e+01      0.037091  \n",
       "\n",
       "[5 rows x 26 columns]"
      ]
     },
     "execution_count": 53,
     "metadata": {},
     "output_type": "execute_result"
    }
   ],
   "source": [
    "data_sp.head()"
   ]
  },
  {
   "cell_type": "code",
   "execution_count": 55,
   "id": "b412f083",
   "metadata": {},
   "outputs": [],
   "source": [
    "# sending cleaned dataset to csv to use for EDA to cut down on runtime\n",
    "data_sp.to_csv(\"../data/spicata_clean.csv\")"
   ]
  },
  {
   "cell_type": "code",
   "execution_count": null,
   "id": "6c972dd7",
   "metadata": {},
   "outputs": [],
   "source": []
  }
 ],
 "metadata": {
  "kernelspec": {
   "display_name": "Python 3 (ipykernel)",
   "language": "python",
   "name": "python3"
  },
  "language_info": {
   "codemirror_mode": {
    "name": "ipython",
    "version": 3
   },
   "file_extension": ".py",
   "mimetype": "text/x-python",
   "name": "python",
   "nbconvert_exporter": "python",
   "pygments_lexer": "ipython3",
   "version": "3.11.4"
  }
 },
 "nbformat": 4,
 "nbformat_minor": 5
}
