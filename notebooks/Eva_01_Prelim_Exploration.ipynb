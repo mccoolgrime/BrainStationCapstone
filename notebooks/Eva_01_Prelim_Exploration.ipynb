{
 "cells": [
  {
   "cell_type": "code",
   "execution_count": 1,
   "id": "0df7a9db",
   "metadata": {},
   "outputs": [],
   "source": [
    "import pandas as pd\n",
    "import numpy as np\n",
    "import matplotlib.pyplot as plt\n",
    "import seaborn as sns\n",
    "from scipy import stats\n",
    "import statsmodels.api as sm\n",
    "\n",
    "%matplotlib inline "
   ]
  },
  {
   "cell_type": "markdown",
   "id": "337b5477",
   "metadata": {},
   "source": [
    "# Take Two\n",
    "After exploring Greg's data, I thought it would be better to have someone with a larger dataset of plants with the desired positional accuracy. \"evanaturalist\" also had near 100,000 observations but with many more plants. So I did a second round of prelim exploration on her data set, thinking I could possible pick plants here as target species and run my modeling off those. \n",
    "\n",
    "I made the mistake here that I did with Greg, confusing \"positional_accuracy\" for \"public_positional_accuracy\", but it isn't worth correcting because I have since decided on a different method for \"slicing\" iNaturalist data toward the exploration of my central questions. \n",
    "\n",
    "So again, __I do NOT expect much worth will come from reviewing below__. Anything I found of worth in this exploration is applied in the Spicata set. I have not bothered to do more thorough annotations here than what \"doodling\" I did to begin with. The notebook fizzles out--exactly where I decided on the alternate method for \"slicing\" iNaturalist data. But I leave it here for documentation."
   ]
  },
  {
   "cell_type": "code",
   "execution_count": 2,
   "id": "716ebd88",
   "metadata": {
    "scrolled": true
   },
   "outputs": [
    {
     "name": "stderr",
     "output_type": "stream",
     "text": [
      "C:\\Users\\lisa_\\AppData\\Local\\Temp\\ipykernel_57804\\2299292130.py:1: DtypeWarning: Columns (11,24,27,28,29) have mixed types. Specify dtype option on import or set low_memory=False.\n",
      "  data_eva = pd.read_csv(\"../../data/observations-evanaturalist.csv\")\n"
     ]
    }
   ],
   "source": [
    "data_eva = pd.read_csv(\"../../data/observations-evanaturalist.csv\")"
   ]
  },
  {
   "cell_type": "code",
   "execution_count": 3,
   "id": "7853d5f3",
   "metadata": {},
   "outputs": [
    {
     "data": {
      "text/html": [
       "<div>\n",
       "<style scoped>\n",
       "    .dataframe tbody tr th:only-of-type {\n",
       "        vertical-align: middle;\n",
       "    }\n",
       "\n",
       "    .dataframe tbody tr th {\n",
       "        vertical-align: top;\n",
       "    }\n",
       "\n",
       "    .dataframe thead th {\n",
       "        text-align: right;\n",
       "    }\n",
       "</style>\n",
       "<table border=\"1\" class=\"dataframe\">\n",
       "  <thead>\n",
       "    <tr style=\"text-align: right;\">\n",
       "      <th></th>\n",
       "      <th>id</th>\n",
       "      <th>time_observed_at</th>\n",
       "      <th>time_zone</th>\n",
       "      <th>created_at</th>\n",
       "      <th>updated_at</th>\n",
       "      <th>quality_grade</th>\n",
       "      <th>license</th>\n",
       "      <th>url</th>\n",
       "      <th>image_url</th>\n",
       "      <th>sound_url</th>\n",
       "      <th>...</th>\n",
       "      <th>scientific_name</th>\n",
       "      <th>common_name</th>\n",
       "      <th>iconic_taxon_name</th>\n",
       "      <th>taxon_id</th>\n",
       "      <th>taxon_kingdom_name</th>\n",
       "      <th>taxon_class_name</th>\n",
       "      <th>taxon_order_name</th>\n",
       "      <th>taxon_family_name</th>\n",
       "      <th>taxon_genus_name</th>\n",
       "      <th>taxon_species_name</th>\n",
       "    </tr>\n",
       "  </thead>\n",
       "  <tbody>\n",
       "    <tr>\n",
       "      <th>0</th>\n",
       "      <td>14999692</td>\n",
       "      <td>NaN</td>\n",
       "      <td>Eastern Time (US &amp; Canada)</td>\n",
       "      <td>2018-07-31 23:09:40 UTC</td>\n",
       "      <td>2018-11-22 10:29:33 UTC</td>\n",
       "      <td>research</td>\n",
       "      <td>CC-BY-NC</td>\n",
       "      <td>https://www.inaturalist.org/observations/14999692</td>\n",
       "      <td>https://inaturalist-open-data.s3.amazonaws.com...</td>\n",
       "      <td>NaN</td>\n",
       "      <td>...</td>\n",
       "      <td>Ambystoma texanum</td>\n",
       "      <td>Small-mouthed Salamander</td>\n",
       "      <td>Amphibia</td>\n",
       "      <td>26745.0</td>\n",
       "      <td>Animalia</td>\n",
       "      <td>Amphibia</td>\n",
       "      <td>Caudata</td>\n",
       "      <td>Ambystomatidae</td>\n",
       "      <td>Ambystoma</td>\n",
       "      <td>Ambystoma texanum</td>\n",
       "    </tr>\n",
       "    <tr>\n",
       "      <th>1</th>\n",
       "      <td>15000453</td>\n",
       "      <td>NaN</td>\n",
       "      <td>Eastern Time (US &amp; Canada)</td>\n",
       "      <td>2018-07-31 23:39:47 UTC</td>\n",
       "      <td>2023-04-23 23:36:37 UTC</td>\n",
       "      <td>needs_id</td>\n",
       "      <td>CC-BY-NC</td>\n",
       "      <td>https://www.inaturalist.org/observations/15000453</td>\n",
       "      <td>https://inaturalist-open-data.s3.amazonaws.com...</td>\n",
       "      <td>NaN</td>\n",
       "      <td>...</td>\n",
       "      <td>Spilosoma virginica</td>\n",
       "      <td>Virginian Tiger Moth</td>\n",
       "      <td>Insecta</td>\n",
       "      <td>60839.0</td>\n",
       "      <td>Animalia</td>\n",
       "      <td>Insecta</td>\n",
       "      <td>Lepidoptera</td>\n",
       "      <td>Erebidae</td>\n",
       "      <td>Spilosoma</td>\n",
       "      <td>Spilosoma virginica</td>\n",
       "    </tr>\n",
       "    <tr>\n",
       "      <th>2</th>\n",
       "      <td>15005158</td>\n",
       "      <td>NaN</td>\n",
       "      <td>Eastern Time (US &amp; Canada)</td>\n",
       "      <td>2018-08-01 02:27:54 UTC</td>\n",
       "      <td>2018-08-03 23:12:43 UTC</td>\n",
       "      <td>needs_id</td>\n",
       "      <td>CC-BY-NC</td>\n",
       "      <td>https://www.inaturalist.org/observations/15005158</td>\n",
       "      <td>https://inaturalist-open-data.s3.amazonaws.com...</td>\n",
       "      <td>NaN</td>\n",
       "      <td>...</td>\n",
       "      <td>Alisma</td>\n",
       "      <td>water-plantains</td>\n",
       "      <td>Plantae</td>\n",
       "      <td>60254.0</td>\n",
       "      <td>Plantae</td>\n",
       "      <td>Liliopsida</td>\n",
       "      <td>Alismatales</td>\n",
       "      <td>Alismataceae</td>\n",
       "      <td>Alisma</td>\n",
       "      <td>NaN</td>\n",
       "    </tr>\n",
       "    <tr>\n",
       "      <th>3</th>\n",
       "      <td>15029656</td>\n",
       "      <td>NaN</td>\n",
       "      <td>Eastern Time (US &amp; Canada)</td>\n",
       "      <td>2018-08-01 22:37:42 UTC</td>\n",
       "      <td>2023-10-22 08:00:22 UTC</td>\n",
       "      <td>needs_id</td>\n",
       "      <td>CC-BY-NC</td>\n",
       "      <td>https://www.inaturalist.org/observations/15029656</td>\n",
       "      <td>https://inaturalist-open-data.s3.amazonaws.com...</td>\n",
       "      <td>NaN</td>\n",
       "      <td>...</td>\n",
       "      <td>Sagittaria sagittifolia</td>\n",
       "      <td>Sagittifolia group</td>\n",
       "      <td>Plantae</td>\n",
       "      <td>1504193.0</td>\n",
       "      <td>Plantae</td>\n",
       "      <td>Liliopsida</td>\n",
       "      <td>Alismatales</td>\n",
       "      <td>Alismataceae</td>\n",
       "      <td>Sagittaria</td>\n",
       "      <td>NaN</td>\n",
       "    </tr>\n",
       "    <tr>\n",
       "      <th>4</th>\n",
       "      <td>15029889</td>\n",
       "      <td>NaN</td>\n",
       "      <td>Eastern Time (US &amp; Canada)</td>\n",
       "      <td>2018-08-01 22:46:35 UTC</td>\n",
       "      <td>2018-08-01 22:46:39 UTC</td>\n",
       "      <td>needs_id</td>\n",
       "      <td>CC-BY-NC</td>\n",
       "      <td>https://www.inaturalist.org/observations/15029889</td>\n",
       "      <td>https://inaturalist-open-data.s3.amazonaws.com...</td>\n",
       "      <td>NaN</td>\n",
       "      <td>...</td>\n",
       "      <td>Pleurotus ostreatus</td>\n",
       "      <td>Oyster Mushroom</td>\n",
       "      <td>Fungi</td>\n",
       "      <td>48494.0</td>\n",
       "      <td>Fungi</td>\n",
       "      <td>Agaricomycetes</td>\n",
       "      <td>Agaricales</td>\n",
       "      <td>Pleurotaceae</td>\n",
       "      <td>Pleurotus</td>\n",
       "      <td>Pleurotus ostreatus</td>\n",
       "    </tr>\n",
       "  </tbody>\n",
       "</table>\n",
       "<p>5 rows × 44 columns</p>\n",
       "</div>"
      ],
      "text/plain": [
       "         id time_observed_at                   time_zone  \\\n",
       "0  14999692              NaN  Eastern Time (US & Canada)   \n",
       "1  15000453              NaN  Eastern Time (US & Canada)   \n",
       "2  15005158              NaN  Eastern Time (US & Canada)   \n",
       "3  15029656              NaN  Eastern Time (US & Canada)   \n",
       "4  15029889              NaN  Eastern Time (US & Canada)   \n",
       "\n",
       "                created_at               updated_at quality_grade   license  \\\n",
       "0  2018-07-31 23:09:40 UTC  2018-11-22 10:29:33 UTC      research  CC-BY-NC   \n",
       "1  2018-07-31 23:39:47 UTC  2023-04-23 23:36:37 UTC      needs_id  CC-BY-NC   \n",
       "2  2018-08-01 02:27:54 UTC  2018-08-03 23:12:43 UTC      needs_id  CC-BY-NC   \n",
       "3  2018-08-01 22:37:42 UTC  2023-10-22 08:00:22 UTC      needs_id  CC-BY-NC   \n",
       "4  2018-08-01 22:46:35 UTC  2018-08-01 22:46:39 UTC      needs_id  CC-BY-NC   \n",
       "\n",
       "                                                 url  \\\n",
       "0  https://www.inaturalist.org/observations/14999692   \n",
       "1  https://www.inaturalist.org/observations/15000453   \n",
       "2  https://www.inaturalist.org/observations/15005158   \n",
       "3  https://www.inaturalist.org/observations/15029656   \n",
       "4  https://www.inaturalist.org/observations/15029889   \n",
       "\n",
       "                                           image_url  sound_url  ...  \\\n",
       "0  https://inaturalist-open-data.s3.amazonaws.com...        NaN  ...   \n",
       "1  https://inaturalist-open-data.s3.amazonaws.com...        NaN  ...   \n",
       "2  https://inaturalist-open-data.s3.amazonaws.com...        NaN  ...   \n",
       "3  https://inaturalist-open-data.s3.amazonaws.com...        NaN  ...   \n",
       "4  https://inaturalist-open-data.s3.amazonaws.com...        NaN  ...   \n",
       "\n",
       "           scientific_name               common_name  iconic_taxon_name  \\\n",
       "0        Ambystoma texanum  Small-mouthed Salamander           Amphibia   \n",
       "1      Spilosoma virginica      Virginian Tiger Moth            Insecta   \n",
       "2                   Alisma           water-plantains            Plantae   \n",
       "3  Sagittaria sagittifolia        Sagittifolia group            Plantae   \n",
       "4      Pleurotus ostreatus           Oyster Mushroom              Fungi   \n",
       "\n",
       "    taxon_id  taxon_kingdom_name  taxon_class_name taxon_order_name  \\\n",
       "0    26745.0            Animalia          Amphibia          Caudata   \n",
       "1    60839.0            Animalia           Insecta      Lepidoptera   \n",
       "2    60254.0             Plantae        Liliopsida      Alismatales   \n",
       "3  1504193.0             Plantae        Liliopsida      Alismatales   \n",
       "4    48494.0               Fungi    Agaricomycetes       Agaricales   \n",
       "\n",
       "   taxon_family_name  taxon_genus_name   taxon_species_name  \n",
       "0     Ambystomatidae         Ambystoma    Ambystoma texanum  \n",
       "1           Erebidae         Spilosoma  Spilosoma virginica  \n",
       "2       Alismataceae            Alisma                  NaN  \n",
       "3       Alismataceae        Sagittaria                  NaN  \n",
       "4       Pleurotaceae         Pleurotus  Pleurotus ostreatus  \n",
       "\n",
       "[5 rows x 44 columns]"
      ]
     },
     "execution_count": 3,
     "metadata": {},
     "output_type": "execute_result"
    }
   ],
   "source": [
    "data_eva.head()"
   ]
  },
  {
   "cell_type": "markdown",
   "id": "02267cbb",
   "metadata": {},
   "source": [
    "# Quick Clean\n",
    "Dropping the few rows with most essential information missing (time observed and/or latitude/longitude) before running an initial analysis to determine if this is a robust enough dataset."
   ]
  },
  {
   "cell_type": "code",
   "execution_count": 4,
   "id": "6e48a635",
   "metadata": {},
   "outputs": [
    {
     "name": "stdout",
     "output_type": "stream",
     "text": [
      "Number of null time_observed_at entries = 0\n"
     ]
    }
   ],
   "source": [
    "# dropping missing observed time rows and confirming\n",
    "data_eva.dropna(subset=['time_observed_at'], inplace=True)\n",
    "print(f'Number of null time_observed_at entries = {data_eva[data_eva[\"time_observed_at\"].isnull()].shape[0]}')"
   ]
  },
  {
   "cell_type": "code",
   "execution_count": 5,
   "id": "375a34c6",
   "metadata": {},
   "outputs": [
    {
     "name": "stdout",
     "output_type": "stream",
     "text": [
      "Number of null time_observed_at entries = 0\n"
     ]
    }
   ],
   "source": [
    "# dropping missing latitude time rows and confirming\n",
    "data_eva.dropna(subset=['latitude'], inplace=True)\n",
    "print(f'Number of null time_observed_at entries = {data_eva[data_eva[\"latitude\"].isnull()].shape[0]}')"
   ]
  },
  {
   "cell_type": "code",
   "execution_count": 6,
   "id": "67074ab0",
   "metadata": {},
   "outputs": [],
   "source": [
    "# changing to datetimes\n",
    "data_eva[\"time_observed_at\"] = pd.to_datetime(data_eva[\"time_observed_at\"])\n",
    "data_eva[\"created_at\"] = pd.to_datetime(data_eva[\"created_at\"])\n",
    "data_eva[\"updated_at\"] = pd.to_datetime(data_eva[\"updated_at\"])"
   ]
  },
  {
   "cell_type": "code",
   "execution_count": 7,
   "id": "d3afd78a",
   "metadata": {},
   "outputs": [
    {
     "name": "stdout",
     "output_type": "stream",
     "text": [
      "<class 'pandas.core.frame.DataFrame'>\n",
      "Int64Index: 89050 entries, 50 to 90751\n",
      "Data columns (total 44 columns):\n",
      " #   Column                            Non-Null Count  Dtype              \n",
      "---  ------                            --------------  -----              \n",
      " 0   id                                89050 non-null  int64              \n",
      " 1   time_observed_at                  89050 non-null  datetime64[ns, UTC]\n",
      " 2   time_zone                         89050 non-null  object             \n",
      " 3   created_at                        89050 non-null  datetime64[ns, UTC]\n",
      " 4   updated_at                        89050 non-null  datetime64[ns, UTC]\n",
      " 5   quality_grade                     89050 non-null  object             \n",
      " 6   license                           89049 non-null  object             \n",
      " 7   url                               89050 non-null  object             \n",
      " 8   image_url                         89050 non-null  object             \n",
      " 9   sound_url                         0 non-null      float64            \n",
      " 10  tag_list                          0 non-null      float64            \n",
      " 11  description                       616 non-null    object             \n",
      " 12  num_identification_agreements     89050 non-null  int64              \n",
      " 13  num_identification_disagreements  89050 non-null  int64              \n",
      " 14  captive_cultivated                89050 non-null  bool               \n",
      " 15  oauth_application_id              725 non-null    float64            \n",
      " 16  place_guess                       89050 non-null  object             \n",
      " 17  latitude                          89050 non-null  float64            \n",
      " 18  longitude                         89050 non-null  float64            \n",
      " 19  positional_accuracy               88356 non-null  float64            \n",
      " 20  private_place_guess               0 non-null      float64            \n",
      " 21  private_latitude                  0 non-null      float64            \n",
      " 22  private_longitude                 0 non-null      float64            \n",
      " 23  public_positional_accuracy        88356 non-null  float64            \n",
      " 24  geoprivacy                        2 non-null      object             \n",
      " 25  taxon_geoprivacy                  15596 non-null  object             \n",
      " 26  coordinates_obscured              89050 non-null  bool               \n",
      " 27  positioning_method                662 non-null    object             \n",
      " 28  positioning_device                662 non-null    object             \n",
      " 29  place_town_name                   2719 non-null   object             \n",
      " 30  place_county_name                 89029 non-null  object             \n",
      " 31  place_state_name                  89050 non-null  object             \n",
      " 32  place_country_name                89050 non-null  object             \n",
      " 33  species_guess                     89041 non-null  object             \n",
      " 34  scientific_name                   89048 non-null  object             \n",
      " 35  common_name                       84237 non-null  object             \n",
      " 36  iconic_taxon_name                 88961 non-null  object             \n",
      " 37  taxon_id                          89049 non-null  float64            \n",
      " 38  taxon_kingdom_name                89032 non-null  object             \n",
      " 39  taxon_class_name                  83521 non-null  object             \n",
      " 40  taxon_order_name                  82023 non-null  object             \n",
      " 41  taxon_family_name                 78538 non-null  object             \n",
      " 42  taxon_genus_name                  73165 non-null  object             \n",
      " 43  taxon_species_name                58714 non-null  object             \n",
      "dtypes: bool(2), datetime64[ns, UTC](3), float64(11), int64(3), object(25)\n",
      "memory usage: 29.4+ MB\n"
     ]
    }
   ],
   "source": [
    "data_eva.info()"
   ]
  },
  {
   "cell_type": "code",
   "execution_count": 8,
   "id": "fbe7cb9e",
   "metadata": {},
   "outputs": [
    {
     "name": "stdout",
     "output_type": "stream",
     "text": [
      "<class 'pandas.core.frame.DataFrame'>\n",
      "Int64Index: 89050 entries, 50 to 90751\n",
      "Data columns (total 44 columns):\n",
      " #   Column                            Non-Null Count  Dtype              \n",
      "---  ------                            --------------  -----              \n",
      " 0   id                                89050 non-null  int64              \n",
      " 1   time_observed_at                  89050 non-null  datetime64[ns, UTC]\n",
      " 2   time_zone                         89050 non-null  object             \n",
      " 3   created_at                        89050 non-null  datetime64[ns, UTC]\n",
      " 4   updated_at                        89050 non-null  datetime64[ns, UTC]\n",
      " 5   quality_grade                     89050 non-null  object             \n",
      " 6   license                           89049 non-null  object             \n",
      " 7   url                               89050 non-null  object             \n",
      " 8   image_url                         89050 non-null  object             \n",
      " 9   sound_url                         0 non-null      float64            \n",
      " 10  tag_list                          0 non-null      float64            \n",
      " 11  description                       616 non-null    object             \n",
      " 12  num_identification_agreements     89050 non-null  int64              \n",
      " 13  num_identification_disagreements  89050 non-null  int64              \n",
      " 14  captive_cultivated                89050 non-null  bool               \n",
      " 15  oauth_application_id              725 non-null    float64            \n",
      " 16  place_guess                       89050 non-null  object             \n",
      " 17  latitude                          89050 non-null  float64            \n",
      " 18  longitude                         89050 non-null  float64            \n",
      " 19  positional_accuracy               88356 non-null  float64            \n",
      " 20  private_place_guess               0 non-null      float64            \n",
      " 21  private_latitude                  0 non-null      float64            \n",
      " 22  private_longitude                 0 non-null      float64            \n",
      " 23  public_positional_accuracy        88356 non-null  float64            \n",
      " 24  geoprivacy                        2 non-null      object             \n",
      " 25  taxon_geoprivacy                  15596 non-null  object             \n",
      " 26  coordinates_obscured              89050 non-null  bool               \n",
      " 27  positioning_method                662 non-null    object             \n",
      " 28  positioning_device                662 non-null    object             \n",
      " 29  place_town_name                   2719 non-null   object             \n",
      " 30  place_county_name                 89029 non-null  object             \n",
      " 31  place_state_name                  89050 non-null  object             \n",
      " 32  place_country_name                89050 non-null  object             \n",
      " 33  species_guess                     89041 non-null  object             \n",
      " 34  scientific_name                   89048 non-null  object             \n",
      " 35  common_name                       84237 non-null  object             \n",
      " 36  iconic_taxon_name                 88961 non-null  object             \n",
      " 37  taxon_id                          89049 non-null  float64            \n",
      " 38  taxon_kingdom_name                89032 non-null  object             \n",
      " 39  taxon_class_name                  83521 non-null  object             \n",
      " 40  taxon_order_name                  82023 non-null  object             \n",
      " 41  taxon_family_name                 78538 non-null  object             \n",
      " 42  taxon_genus_name                  73165 non-null  object             \n",
      " 43  taxon_species_name                58714 non-null  object             \n",
      "dtypes: bool(2), datetime64[ns, UTC](3), float64(11), int64(3), object(25)\n",
      "memory usage: 29.4+ MB\n"
     ]
    }
   ],
   "source": [
    "data_eva.info()"
   ]
  },
  {
   "cell_type": "markdown",
   "id": "8bac01d9",
   "metadata": {},
   "source": [
    "## Initial Analysis \n",
    "The best positional accuracy for research [according to iNaturalist](https://www.inaturalist.org/posts/2035-observation-location-accuracy) is less than or equal to 30 m.\n",
    "\n",
    "I am looking for a dataset that has a high number of Plantae records with positional accuracy of 30 m or less, so am doing this initial analysis prior to formal cleaning and EDA to ensure the dataset has the qualities that would then warrant the labor of cleaning and further analysis.\n",
    "\n",
    "In order to approximate the experience of finding an endangered plant, I plan to create test sets out of Plantae observations that are rare for this user to encounter, so will be looking at the set of observations whose scientific name occurs rarely within this larger set. "
   ]
  },
  {
   "cell_type": "markdown",
   "id": "858d7edf",
   "metadata": {},
   "source": [
    "### Positional Accuracy"
   ]
  },
  {
   "cell_type": "code",
   "execution_count": 9,
   "id": "30bdc8c9",
   "metadata": {},
   "outputs": [],
   "source": [
    "pos_acc_desired = 30  #specify number of meters desired for positional accuracy"
   ]
  },
  {
   "cell_type": "code",
   "execution_count": 10,
   "id": "743a5893",
   "metadata": {
    "scrolled": true
   },
   "outputs": [
    {
     "data": {
      "text/plain": [
       "count      88356.00\n",
       "mean        1019.95\n",
       "std        11465.75\n",
       "min            1.00\n",
       "25%            2.00\n",
       "50%            8.00\n",
       "75%           83.00\n",
       "max      1247072.00\n",
       "Name: positional_accuracy, dtype: float64"
      ]
     },
     "execution_count": 10,
     "metadata": {},
     "output_type": "execute_result"
    }
   ],
   "source": [
    "# Describing positional accuracy range and center values\n",
    "round(data_eva[\"positional_accuracy\"].describe(),2)"
   ]
  },
  {
   "cell_type": "code",
   "execution_count": 11,
   "id": "ade6edbf",
   "metadata": {},
   "outputs": [
    {
     "name": "stdout",
     "output_type": "stream",
     "text": [
      "There are 58159 observations with positional accuracy of 30m or less.\n"
     ]
    }
   ],
   "source": [
    "# How many entries with positional accuracy <= 30 m?\n",
    "o = data_eva[data_eva['positional_accuracy'] <= pos_acc_desired].shape[0]\n",
    "print(f'There are {o} observations with positional accuracy of {pos_acc_desired}m or less.')"
   ]
  },
  {
   "cell_type": "code",
   "execution_count": 12,
   "id": "a737ab6b",
   "metadata": {},
   "outputs": [
    {
     "name": "stdout",
     "output_type": "stream",
     "text": [
      "The non null set of positional_accuracy with values less than 200m has 80307 values\n"
     ]
    },
    {
     "data": {
      "image/png": "[encoded data removed]",
      "text/plain": [
       "<Figure size 640x480 with 1 Axes>"
      ]
     },
     "metadata": {},
     "output_type": "display_data"
    }
   ],
   "source": [
    "# boxplot of positional accuracy non null values with upper Limit\n",
    "PA_notnull = pd.DataFrame(data_eva[data_eva[\"positional_accuracy\"].notnull()][\"positional_accuracy\"])\n",
    "Limit = 200 #change this number to see other spreads\n",
    "sns.boxplot(x = \"positional_accuracy\", \n",
    "            data = PA_notnull[PA_notnull[\"positional_accuracy\"] < Limit]) \\\n",
    "            .set_title(f'Spread of Positional Accuracy Values less than {Limit}m')\n",
    "print(f'The non null set of positional_accuracy with values less than {Limit}m',\n",
    "      f'has {PA_notnull[PA_notnull[\"positional_accuracy\"] < Limit].shape[0]} values')"
   ]
  },
  {
   "cell_type": "markdown",
   "id": "eaea14f0",
   "metadata": {},
   "source": [
    "### Adding Plantae Filter"
   ]
  },
  {
   "cell_type": "code",
   "execution_count": 13,
   "id": "4ae89fee",
   "metadata": {},
   "outputs": [
    {
     "name": "stdout",
     "output_type": "stream",
     "text": [
      "There are 33906 Plantae observations with positional accuracy of 30m or less.\n"
     ]
    }
   ],
   "source": [
    "# number of Plantae observations with positional accuracy 30 m or less\n",
    "o = data_eva[(data_eva[\"taxon_kingdom_name\"] == 'Plantae') & \\\n",
    "         (data_eva[\"positional_accuracy\"] <= pos_acc_desired)]\\\n",
    ".shape[0]\n",
    "print(f'There are {o} Plantae observations with positional accuracy of {pos_acc_desired}m or less.')"
   ]
  },
  {
   "cell_type": "markdown",
   "id": "e7c89467",
   "metadata": {},
   "source": [
    "# WHICH CATEGORY?\n",
    "Below between taxon_species_name or species_guess?"
   ]
  },
  {
   "cell_type": "code",
   "execution_count": 14,
   "id": "ca1cb611",
   "metadata": {},
   "outputs": [
    {
     "name": "stdout",
     "output_type": "stream",
     "text": [
      "Of all the Plantae observations with positional accuracy of 30m or less, \n",
      "922 out of 24880 of them were observed and identified at the species level \n",
      "as rarely as 2 or fewer times.\n"
     ]
    }
   ],
   "source": [
    "# series of all plant species with desired positional accuracy\n",
    "# by species name and count of observations\n",
    "plant_species = data_eva[(data_eva[\"taxon_kingdom_name\"] == 'Plantae') & \\\n",
    "          (data_eva[\"positional_accuracy\"] <= pos_acc_desired)]['taxon_species_name'] \\\n",
    " .value_counts().sort_values()\n",
    "\n",
    "\n",
    "# count of Plant species with necessary positional accuracy\n",
    "# that also occurs rarely \n",
    "Max_occurences = 2 #specify max number of desired occurences \n",
    "o = plant_species[plant_species.values <= Max_occurences].sum()\n",
    "\n",
    "total_o = plant_species.sum()\n",
    "\n",
    "print(f'Of all the Plantae observations with positional accuracy of {pos_acc_desired}m or less, \\n' \\\n",
    "      f'{o} out of {total_o} of them were observed and identified at the species level \\n' \\\n",
    "     f'as rarely as {Max_occurences} or fewer times.')"
   ]
  },
  {
   "cell_type": "code",
   "execution_count": 15,
   "id": "54ee2595",
   "metadata": {},
   "outputs": [
    {
     "name": "stdout",
     "output_type": "stream",
     "text": [
      "Of all the Plantae observations with positional accuracy of 30m or less, \n",
      "2095 out of 33906 of them were observed and identified at the species level \n",
      "as rarely as 2 or fewer times.\n"
     ]
    }
   ],
   "source": [
    "# series of all plant species with desired positional accuracy\n",
    "# by species name and count of observations\n",
    "plant_species = data_eva[(data_eva[\"taxon_kingdom_name\"] == 'Plantae') & \\\n",
    "          (data_eva[\"positional_accuracy\"] <= pos_acc_desired)]['species_guess'] \\\n",
    " .value_counts().sort_values()\n",
    "\n",
    "\n",
    "# count of Plant species with necessary positional accuracy\n",
    "# that also occurs rarely \n",
    "Max_occurences = 2 #specify max number of desired occurences \n",
    "o = plant_species[plant_species.values <= Max_occurences].sum()\n",
    "\n",
    "total_o = plant_species.sum()\n",
    "\n",
    "print(f'Of all the Plantae observations with positional accuracy of {pos_acc_desired}m or less, \\n' \\\n",
    "      f'{o} out of {total_o} of them were observed and identified at the species level \\n' \\\n",
    "     f'as rarely as {Max_occurences} or fewer times.')"
   ]
  },
  {
   "cell_type": "code",
   "execution_count": 16,
   "id": "33a4011e",
   "metadata": {},
   "outputs": [
    {
     "data": {
      "image/png": "[encoded data removed]",
      "text/plain": [
       "<Figure size 640x480 with 1 Axes>"
      ]
     },
     "metadata": {},
     "output_type": "display_data"
    }
   ],
   "source": [
    "\n",
    "\n",
    "plt.figure()\n",
    "plt.hist(plant_species, bins = 100)\n",
    "plt.show()"
   ]
  },
  {
   "cell_type": "code",
   "execution_count": null,
   "id": "259b46b3",
   "metadata": {},
   "outputs": [],
   "source": []
  },
  {
   "cell_type": "code",
   "execution_count": null,
   "id": "963b0d6b",
   "metadata": {},
   "outputs": [],
   "source": []
  },
  {
   "cell_type": "code",
   "execution_count": 17,
   "id": "4ac72607",
   "metadata": {},
   "outputs": [
    {
     "data": {
      "text/plain": [
       "0"
      ]
     },
     "execution_count": 17,
     "metadata": {},
     "output_type": "execute_result"
    }
   ],
   "source": [
    "data_eva[data_eva[\"common_name\"]==\"Fungi Including Lichens\"][\"taxon_kingdom_name\"].isna().sum()"
   ]
  },
  {
   "cell_type": "code",
   "execution_count": 18,
   "id": "43c9bb09",
   "metadata": {},
   "outputs": [
    {
     "data": {
      "text/plain": [
       "Claytonia virginica    530\n",
       "Name: taxon_species_name, dtype: int64"
      ]
     },
     "execution_count": 18,
     "metadata": {},
     "output_type": "execute_result"
    }
   ],
   "source": [
    "data_eva[data_eva[\"common_name\"]==\"Virginia Springbeauty\"][\"taxon_species_name\"].value_counts()"
   ]
  },
  {
   "cell_type": "code",
   "execution_count": 19,
   "id": "e27a2677",
   "metadata": {},
   "outputs": [
    {
     "data": {
      "text/plain": [
       "open        14658\n",
       "obscured      938\n",
       "Name: taxon_geoprivacy, dtype: int64"
      ]
     },
     "execution_count": 19,
     "metadata": {},
     "output_type": "execute_result"
    }
   ],
   "source": [
    "data_eva[\"taxon_geoprivacy\"].value_counts()"
   ]
  },
  {
   "cell_type": "code",
   "execution_count": null,
   "id": "ddc522a0",
   "metadata": {},
   "outputs": [],
   "source": []
  }
 ],
 "metadata": {
  "kernelspec": {
   "display_name": "Python 3 (ipykernel)",
   "language": "python",
   "name": "python3"
  },
  "language_info": {
   "codemirror_mode": {
    "name": "ipython",
    "version": 3
   },
   "file_extension": ".py",
   "mimetype": "text/x-python",
   "name": "python",
   "nbconvert_exporter": "python",
   "pygments_lexer": "ipython3",
   "version": "3.11.4"
  }
 },
 "nbformat": 4,
 "nbformat_minor": 5
}
